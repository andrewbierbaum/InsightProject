{
 "cells": [
  {
   "cell_type": "code",
   "execution_count": 6,
   "metadata": {},
   "outputs": [],
   "source": [
    "#sparting spark and reading HackerNews\n",
    "from pyspark.sql import SparkSession\n",
    "from datetime import datetime\n",
    "import pandas\n",
    "import numpy\n",
    "import sqlite3"
   ]
  },
  {
   "cell_type": "code",
   "execution_count": null,
   "metadata": {},
   "outputs": [],
   "source": [
    "#set up spark \n",
    "spark = SparkSession.builder.appName(\"HackerNews\").getOrCreate()\n",
    "df = None\n",
    "df = spark.read.csv(\"s3a://andrew-bierbaum-insight-test-dataset/HackerNews/hacker_news_full-000000*.csv.gz\", header=True, multiLine=True, escape='\"')"
   ]
  },
  {
   "cell_type": "code",
   "execution_count": null,
   "metadata": {},
   "outputs": [],
   "source": [
    "#Convert spark data to be readable using sql queries\n",
    "\n",
    "df.createOrReplaceTempView(\"HackerNews\")\n",
    "\n",
    "#these could be combined into one search to only have to access the table once and be much faster, but they work as written\n",
    "#query the spark data, transfer to pandas, and confirm the sorting\n",
    "xamarin_results = spark.sql(\"SELECT time, text, id, parent,  FROM HackerNews WHERE text RLIKE 'xamarin|Xamarin' ORDER BY time ASC\")\n",
    "df_xamarin = xamarin_results.toPandas()\n",
    "df_xamarin = df_xamarin[['time', 'text', 'id', 'parent']]\n",
    "df_xamarin = df_xamarin.sort_values('time')\n",
    "\n",
    "flutter_results = spark.sql(\"SELECT time, text, id, parent FROM HackerNews WHERE text RLIKE 'flutter|Flutter' ORDER BY time ASC\")\n",
    "df_flutter = flutter_results.toPandas()\n",
    "df_flutter = df_flutter[['time', 'text', 'id', 'parent']]\n",
    "df_flutter = df_flutter.sort_values('time')\n",
    "\n",
    "react_native_results = spark.sql(\"SELECT time, text, id, parent FROM HackerNews WHERE text RLIKE 'react native|React native|React Native' ORDER BY time ASC\")\n",
    "df_react_native = react_native_results.toPandas()\n",
    "df_react_native = df_react_native[['time', 'text', 'id', 'parent']]\n",
    "df_react_native = df_react_native.sort_values('time')\n"
   ]
  },
  {
   "cell_type": "code",
   "execution_count": 12,
   "metadata": {},
   "outputs": [],
   "source": [
    "#setup sqlite\n",
    "conn = sqlite3.connect('TechGraph.db')\n",
    "cur = conn.cursor()\n",
    "conn.text_factory = str"
   ]
  },
  {
   "cell_type": "code",
   "execution_count": null,
   "metadata": {},
   "outputs": [],
   "source": [
    "#transfter data to sqlite\n",
    "df_xamarin.to_sql('HackerNews_xamarin', conn, if_exists='replace')\n",
    "df_flutter.to_sql('HackerNews_flutter', conn, if_exists='replace')\n",
    "df_react_native.to_sql('HackerNews_react_native', conn, if_exists='replace')"
   ]
  },
  {
   "cell_type": "code",
   "execution_count": 13,
   "metadata": {},
   "outputs": [
    {
     "data": {
      "text/plain": [
       "<sqlite3.Cursor at 0x7f95fda81960>"
      ]
     },
     "execution_count": 13,
     "metadata": {},
     "output_type": "execute_result"
    }
   ],
   "source": [
    "#get rid of flutter comments before flutter was posted to github\n",
    "cur.execute(\"DELETE FROM HackerNews_flutter WHERE time<1305578972\")"
   ]
  },
  {
   "cell_type": "code",
   "execution_count": 14,
   "metadata": {},
   "outputs": [],
   "source": [
    "conn.commit()\n",
    "conn.close()"
   ]
  },
  {
   "cell_type": "code",
   "execution_count": null,
   "metadata": {},
   "outputs": [],
   "source": []
  }
 ],
 "metadata": {
  "kernelspec": {
   "display_name": "Python 3",
   "language": "python",
   "name": "python3"
  },
  "language_info": {
   "codemirror_mode": {
    "name": "ipython",
    "version": 3
   },
   "file_extension": ".py",
   "mimetype": "text/x-python",
   "name": "python",
   "nbconvert_exporter": "python",
   "pygments_lexer": "ipython3",
   "version": "3.7.3"
  }
 },
 "nbformat": 4,
 "nbformat_minor": 2
}
