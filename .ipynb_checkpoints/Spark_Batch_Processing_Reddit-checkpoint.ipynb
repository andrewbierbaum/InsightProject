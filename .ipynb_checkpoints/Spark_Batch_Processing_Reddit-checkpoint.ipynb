{
 "cells": [
  {
   "cell_type": "code",
   "execution_count": 1,
   "metadata": {},
   "outputs": [
    {
     "name": "stdout",
     "output_type": "stream",
     "text": [
      "+--------------------+------------+--------+----+---------------+-----------------+-----+-----------+------------+-------+---------+-----+------------+----------------+------+-----+----------+---+-------------+----------------------+\n",
      "|                body|score_hidden|archived|name|         author|author_flair_text|downs|created_utc|subreddit_id|link_id|parent_id|score|retrieved_on|controversiality|gilded|   id| subreddit|ups|distinguished|author_flair_css_class|\n",
      "+--------------------+------------+--------+----+---------------+-----------------+-----+-----------+------------+-------+---------+-----+------------+----------------+------+-----+----------+---+-------------+----------------------+\n",
      "|Guess this kinda ...|        null|    null|null|        dbenhur|             null| null| 1152221185|        t5_6|  t3_87|    t3_87|   35|  1473826345|               0|     0|c9gm2|reddit.com| 35|         null|                  null|\n",
      "|           [deleted]|        null|    null|null|      [deleted]|             null| null| 1152233208|        t5_6|  t3_87| t1_c9gm2|    1|  1473826353|               0|     0|c9h20|reddit.com|  1|         null|                  null|\n",
      "|Don't you start w...|        null|    null|null|        dbenhur|             null| null| 1152248505|        t5_6|  t3_87| t1_c9h21|    8|  1473826361|               0|     0|c9hhc|reddit.com|  8|         null|                  null|\n",
      "|I sort of regret ...|        null|    null|null|       kn0thing|             null| null| 1152233214|        t5_6|  t3_87| t1_c9gm2|   16|  1473826353|               0|     0|c9h21|reddit.com| 16|         null|                  null|\n",
      "|There were no com...|        null|    null|null|            Zak|             null| null| 1152232275|        t5_6|  t3_87| t1_c9gm2|   48|  1473826353|               0|     0|c9h18|reddit.com| 48|         null|                  null|\n",
      "|I plan to show th...|        null|    null|null|mistermajik2000|             null| null| 1149689361|        t5_6|  t3_89|    t3_89|    6|  1473824980|               0|     0|c7du9|reddit.com|  6|         null|                  null|\n",
      "|How about http://...|        null|    null|null|     campingcar|             null| null| 1158232526|        t5_6| t3_152|   t3_152|    0|  1473799692|               0|     0|cihc4|reddit.com|  0|         null|                  null|\n",
      "|tuber was here 9/...|        null|    null|null|          tuber|             null| null| 1159155120|        t5_6| t3_216|   t3_216|    1|  1473800534|               0|     0|cjqfy|reddit.com|  1|         null|                  null|\n",
      "|Very good referen...|        null|    null|null|          salma|             null| null| 1140963829|        t5_6| t3_406|   t3_406|    1|  1473821553|               0|     0|c28wh|reddit.com|  1|         null|                  null|\n",
      "|Very good referen...|        null|    null|null|          salma|             null| null| 1140963854|        t5_6| t3_406|   t3_406|    1|  1473821553|               0|     0|c28wi|reddit.com|  1|         null|                  null|\n",
      "+--------------------+------------+--------+----+---------------+-----------------+-----+-----------+------------+-------+---------+-----+------------+----------------+------+-----+----------+---+-------------+----------------------+\n",
      "only showing top 10 rows\n",
      "\n",
      "None\n"
     ]
    }
   ],
   "source": [
    "from pyspark.sql import SparkSession\n",
    "spark = SparkSession.builder.appName(\"Reddit\").getOrCreate()\n",
    "\n",
    "#spark = SparkSession.builder.appName(\"HackerNews\").getOrCreate()\n",
    "\n",
    "df = None\n",
    "df = spark.read.csv(\"s3a://andrew-bierbaum-insight-test-dataset/Reddit/Reddit_Comments_2006*.csv.gz\", header=True,multiLine=True, escape='\"')\n",
    "\n",
    "print(df.show(10))"
   ]
  },
  {
   "cell_type": "code",
   "execution_count": 2,
   "metadata": {},
   "outputs": [
    {
     "name": "stdout",
     "output_type": "stream",
     "text": [
      "+-----------+--------------------+\n",
      "|created_utc|                body|\n",
      "+-----------+--------------------+\n",
      "| 1139381304|Maybe. But python...|\n",
      "| 1139397565|I don't think pyt...|\n",
      "| 1139385681|Lisp macros aren'...|\n",
      "| 1139411795|Unfortunately, la...|\n",
      "| 1139846677|This article just...|\n",
      "| 1139803996|Why should I choo...|\n",
      "| 1139870381|and for those tha...|\n",
      "| 1140133049|Cellphones are co...|\n",
      "| 1141074379|Why would you wan...|\n",
      "| 1141002031|Well Only Ruby pe...|\n",
      "| 1141007849|a *lot*. i use li...|\n",
      "| 1141008255|i haven't used ru...|\n",
      "| 1141067291|I've never worked...|\n",
      "| 1141228975|yes, runtime.\n",
      "\n",
      "...|\n",
      "| 1141145221|&gt;However, I th...|\n",
      "| 1141160666|Yeah, I was supri...|\n",
      "| 1141531205|Good writing, the...|\n",
      "| 1141531903|My only experienc...|\n",
      "| 1141671925|\"if you know and ...|\n",
      "| 1141770875|One thing I didnt...|\n",
      "+-----------+--------------------+\n",
      "only showing top 20 rows\n",
      "\n"
     ]
    }
   ],
   "source": [
    "df.createOrReplaceTempView(\"Reddit\")\n",
    "#time >1000000000 just filters out 6 bad entries --double chedk this is a good way to do it\n",
    "results = spark.sql(\"SELECT created_utc, body FROM Reddit WHERE body LIKE '% python %'\")\n",
    "#results = spark.sql(\"SELECT created_utc, body FROM Reddit WHERE body LIKE '% python %'  SORT BY created_utc ASC\")\n",
    "#AND time >1000000000\n",
    "results.show()"
   ]
  },
  {
   "cell_type": "code",
   "execution_count": 3,
   "metadata": {},
   "outputs": [],
   "source": [
    "from datetime import datetime\n",
    "python_results = results.select('created_utc').collect()\n",
    "#python_results_timestamp = results.select('timestamp').collect()\n",
    "python_results_plotting = [float(i[0]) for i in python_results]\n",
    "clean_python_results = [datetime.fromtimestamp(float(i[0])) for i in python_results]\n",
    "#print(clean_python_results_timestamp)"
   ]
  },
  {
   "cell_type": "code",
   "execution_count": 4,
   "metadata": {},
   "outputs": [
    {
     "data": {
      "image/png": "[encoded data removed]",
      "text/plain": [
       "<Figure size 432x288 with 1 Axes>"
      ]
     },
     "metadata": {
      "needs_background": "light"
     },
     "output_type": "display_data"
    },
    {
     "data": {
      "text/plain": [
       "<Figure size 432x288 with 0 Axes>"
      ]
     },
     "metadata": {},
     "output_type": "display_data"
    }
   ],
   "source": [
    "%matplotlib inline\n",
    "import numpy\n",
    "import matplotlib\n",
    "import matplotlib.pyplot as plt\n",
    "clean_python_results.sort()\n",
    "count = numpy.arange(len(clean_python_results))\n",
    "#Date_Data = matplotlib.dates.datestr2num(clean_python_results_utc)\n",
    "Date_Data = clean_python_results\n",
    "matplotlib.pyplot.plot_date(Date_Data,count,xdate=True, drawstyle = 'steps-pre', linestyle = 'solid' )\n",
    "matplotlib.pyplot.ylabel('Mentions')\n",
    "matplotlib.pyplot.title('Reddit 2018 python mentions')\n",
    "plt.show()\n",
    "plt.savefig('Reddit.png')\n"
   ]
  },
  {
   "cell_type": "code",
   "execution_count": 5,
   "metadata": {},
   "outputs": [
    {
     "name": "stdout",
     "output_type": "stream",
     "text": [
      "[1139381304.0, 1139397565.0, 1139385681.0, 1139411795.0, 1139846677.0, 1139803996.0, 1139870381.0, 1140133049.0, 1141074379.0, 1141002031.0, 1141007849.0, 1141008255.0, 1141067291.0, 1141228975.0, 1141145221.0, 1141160666.0, 1141531205.0, 1141531903.0, 1141671925.0, 1141770875.0, 1141738615.0, 1141868007.0, 1142141333.0, 1142449083.0, 1143237782.0, 1143680412.0, 1143681556.0, 1143688324.0, 1143709528.0, 1143713365.0, 1143923927.0, 1144133203.0, 1144111778.0, 1146262695.0, 1147308395.0, 1148228675.0, 1148931987.0, 1149622950.0, 1149602136.0, 1149686613.0, 1149687195.0, 1149687196.0, 1149830980.0, 1149874642.0, 1149997780.0, 1150483850.0, 1150663367.0, 1152527661.0, 1153184173.0, 1153099664.0, 1153141354.0, 1153757380.0, 1153839546.0, 1153842579.0, 1153851451.0, 1154960589.0, 1154984400.0, 1155048262.0, 1155228393.0, 1155480981.0, 1155738327.0, 1158519450.0, 1159121853.0, 1161948225.0, 1161953965.0, 1161966874.0, 1161962636.0, 1162999996.0, 1164236345.0, 1164481308.0, 1164486282.0, 1164933400.0, 1166370857.0, 1166517237.0, 1166567650.0, 1166852846.0, 1166915006.0, 1136984124.0, 1136349843.0, 1137072318.0, 1137155352.0, 1137155102.0, 1137310029.0, 1137285773.0, 1149466285.0, 1140447809.0, 1141402372.0, 1141931046.0, 1141931952.0, 1141956675.0, 1142641301.0, 1166643660.0, 1143478307.0, 1144027102.0, 1144309039.0, 1144373225.0, 1144448502.0, 1144852939.0, 1144853634.0, 1144867212.0, 1144868453.0, 1144869483.0, 1144853232.0, 1144829191.0, 1144855685.0, 1144881078.0, 1144944652.0, 1144928062.0, 1144928618.0, 1144926475.0, 1144928909.0, 1144881611.0, 1144881059.0, 1144893296.0, 1144954552.0, 1144966844.0, 1145211476.0, 1145830767.0, 1146329210.0, 1146443401.0, 1146521983.0, 1146625955.0, 1146676704.0, 1146675013.0, 1146748606.0, 1146861460.0, 1147387991.0, 1147395702.0, 1147405035.0, 1148359113.0, 1148326809.0, 1148446147.0, 1148510253.0, 1148473613.0, 1148520471.0, 1149053078.0, 1149351670.0, 1149512524.0, 1149610184.0, 1149662079.0, 1150294469.0, 1150358827.0, 1150772235.0, 1150654289.0, 1150718439.0, 1151354989.0, 1151331599.0, 1151359711.0, 1151362590.0, 1151338465.0, 1151342869.0, 1151959116.0, 1151955340.0, 1151958906.0, 1151952645.0, 1151945864.0, 1151994524.0, 1151996012.0, 1152055746.0, 1152088309.0, 1152091523.0, 1152124512.0, 1152596836.0, 1152594214.0, 1152716900.0, 1152772522.0, 1152726338.0, 1152863225.0, 1152787395.0, 1153517298.0, 1153511289.0, 1153759675.0, 1153933845.0, 1154430870.0, 1154439342.0, 1154417685.0, 1154536282.0, 1154612488.0, 1154693975.0, 1154631677.0, 1154636277.0, 1154641270.0, 1154641807.0, 1154645789.0, 1154914584.0, 1155013047.0, 1155102705.0, 1155375985.0, 1155375675.0, 1155362477.0, 1155521807.0, 1155778298.0, 1155943126.0, 1155872401.0, 1155894991.0, 1155903691.0, 1155879360.0, 1155905554.0, 1155927288.0, 1156263379.0, 1156268976.0, 1156331686.0, 1156260051.0, 1156345156.0, 1156371800.0, 1156373691.0, 1156385252.0, 1156465440.0, 1156384606.0, 1156436635.0, 1156550549.0, 1156703757.0, 1156746394.0, 1157205160.0, 1157050254.0, 1157050667.0, 1157115711.0, 1157136004.0, 1157490531.0, 1157519340.0, 1157557201.0, 1157486604.0, 1157508421.0, 1157617208.0, 1157759675.0, 1157709598.0, 1157838444.0, 1157993054.0, 1157891599.0, 1158569273.0, 1158082671.0, 1158274690.0, 1158238479.0, 1158282366.0, 1165040150.0, 1158406458.0, 1158333387.0, 1158372525.0, 1158357333.0, 1158640105.0, 1158520626.0, 1158500873.0, 1158516005.0, 1158504392.0, 1158632858.0, 1158673934.0, 1158695458.0, 1158679684.0, 1158687193.0, 1158692081.0, 1158897036.0, 1158779121.0, 1158776397.0, 1158882194.0, 1158960098.0, 1159037933.0, 1158921382.0, 1158932286.0, 1159215533.0, 1159195209.0, 1159711764.0, 1159619965.0, 1159648928.0, 1159680581.0, 1159640259.0, 1159607367.0, 1159644189.0, 1159701530.0, 1159700539.0, 1160057199.0, 1159854724.0, 1159937307.0, 1160142203.0, 1160607715.0, 1160802276.0, 1160872766.0, 1161071997.0, 1161290057.0, 1161815314.0, 1161874575.0, 1162229546.0, 1162380656.0, 1161972393.0, 1161996415.0, 1161986429.0, 1162224880.0, 1162145583.0, 1162170415.0, 1162179795.0, 1162935172.0, 1162873399.0, 1162878488.0, 1162919799.0, 1162872943.0, 1163326360.0, 1163269317.0, 1163527271.0, 1163267306.0, 1162975970.0, 1162932356.0, 1162937712.0, 1162976461.0, 1163282366.0, 1163340469.0, 1163292276.0, 1163420003.0, 1163439505.0, 1163636320.0, 1163634040.0, 1163648967.0, 1163655182.0, 1163690650.0, 1163718486.0, 1163708434.0, 1163713213.0, 1163733724.0, 1163725866.0, 1163746680.0, 1163910605.0, 1164046500.0, 1164097979.0, 1164587459.0, 1164699974.0, 1164840512.0, 1164895518.0, 1164923244.0, 1165024373.0, 1164922415.0, 1164958090.0, 1165012543.0, 1165121666.0, 1165161858.0, 1165171329.0, 1165236390.0, 1165239565.0, 1165238506.0, 1165251637.0, 1165365780.0, 1165335339.0, 1165329246.0, 1165344731.0, 1165415129.0, 1165436494.0, 1165444796.0, 1165477617.0, 1165528442.0, 1165558139.0, 1165594029.0, 1165554011.0, 1165626924.0, 1165719657.0, 1165591064.0, 1165621092.0, 1165668782.0, 1165656283.0, 1165592243.0, 1165580386.0, 1165656432.0, 1165720748.0, 1165876648.0, 1165948409.0, 1165879876.0, 1165878548.0, 1165878931.0, 1165889329.0, 1165875651.0, 1165937010.0, 1165875245.0, 1165945070.0, 1165885654.0, 1165927110.0, 1165965633.0, 1166032886.0, 1166069171.0, 1166127290.0, 1166125478.0, 1166110803.0, 1166128542.0, 1166132731.0, 1166154433.0, 1166149702.0, 1166245047.0, 1166213667.0, 1166153537.0, 1166140048.0, 1166152160.0, 1166266800.0, 1166393955.0, 1166299406.0, 1166239814.0, 1166231526.0, 1166253884.0, 1166253103.0, 1166301669.0, 1166385409.0, 1166564937.0, 1166637029.0, 1166694875.0, 1166716375.0, 1166630702.0, 1166641013.0, 1166709060.0, 1166662581.0, 1166654974.0, 1166810000.0, 1166809879.0, 1166805084.0, 1166828510.0, 1166815078.0, 1166840089.0, 1167086220.0, 1167096471.0, 1167111291.0, 1167086621.0, 1167146339.0, 1167110318.0, 1167108458.0, 1167118862.0, 1167342286.0, 1167307067.0, 1167208518.0, 1167380375.0, 1167536122.0, 1167362802.0, 1167374419.0, 1167423492.0, 1167310844.0, 1167289305.0, 1167392861.0, 1158137690.0, 1166404034.0]\n"
     ]
    }
   ],
   "source": [
    "print python_results_plotting"
   ]
  },
  {
   "cell_type": "code",
   "execution_count": 23,
   "metadata": {},
   "outputs": [],
   "source": [
    "import csv\n",
    "import pandas\n",
    "python_results_plotting.sort()\n",
    "pandas_df = pandas.DataFrame(python_results_plotting,count,columns=['timestamp'])\n",
    "pandas_df.head()\n",
    "pandas_df.to_csv(\"dash.csv\")"
   ]
  },
  {
   "cell_type": "code",
   "execution_count": 9,
   "metadata": {},
   "outputs": [
    {
     "ename": "NameError",
     "evalue": "name 'python_results_timestamp' is not defined",
     "output_type": "error",
     "traceback": [
      "\u001b[0;31m---------------------------------------------------------------------------\u001b[0m",
      "\u001b[0;31mNameError\u001b[0m                                 Traceback (most recent call last)",
      "\u001b[0;32m<ipython-input-9-a20ff051aba4>\u001b[0m in \u001b[0;36m<module>\u001b[0;34m()\u001b[0m\n\u001b[1;32m      2\u001b[0m \u001b[0;32mimport\u001b[0m \u001b[0mpandas\u001b[0m\u001b[0;34m\u001b[0m\u001b[0m\n\u001b[1;32m      3\u001b[0m \u001b[0;34m\u001b[0m\u001b[0m\n\u001b[0;32m----> 4\u001b[0;31m \u001b[0mpandas_df\u001b[0m \u001b[0;34m=\u001b[0m \u001b[0mpandas\u001b[0m\u001b[0;34m.\u001b[0m\u001b[0mDataFrame\u001b[0m\u001b[0;34m(\u001b[0m\u001b[0mpython_results_timestamp\u001b[0m\u001b[0;34m,\u001b[0m \u001b[0mcolumns\u001b[0m \u001b[0;34m=\u001b[0m \u001b[0;34m[\u001b[0m\u001b[0;34m'count, timestamp'\u001b[0m\u001b[0;34m]\u001b[0m\u001b[0;34m)\u001b[0m\u001b[0;34m\u001b[0m\u001b[0m\n\u001b[0m\u001b[1;32m      5\u001b[0m \u001b[0mpandas_df\u001b[0m\u001b[0;34m.\u001b[0m\u001b[0mshow\u001b[0m\u001b[0;34m(\u001b[0m\u001b[0;34m)\u001b[0m\u001b[0;34m\u001b[0m\u001b[0m\n",
      "\u001b[0;31mNameError\u001b[0m: name 'python_results_timestamp' is not defined"
     ]
    }
   ],
   "source": [
    "# import csv\n",
    "# import pandas\n",
    "\n",
    "# pandas_df = pandas.DataFrame(python_results_timestamp, columns = ['count, timestamp'])\n",
    "# pandas_df.show()"
   ]
  },
  {
   "cell_type": "code",
   "execution_count": 16,
   "metadata": {},
   "outputs": [
    {
     "name": "stdout",
     "output_type": "stream",
     "text": [
      "Running on http://0.0.0.0:9990/\n",
      "Running on http://0.0.0.0:9990/\n",
      "Running on http://0.0.0.0:9990/\n",
      "Debugger PIN: 820-081-177\n",
      "Debugger PIN: 820-081-177\n",
      "Debugger PIN: 820-081-177\n",
      " * Serving Flask app \"__main__\" (lazy loading)\n",
      " * Environment: production\n",
      "   WARNING: Do not use the development server in a production environment.\n",
      "   Use a production WSGI server instead.\n",
      " * Debug mode: on\n"
     ]
    },
    {
     "ename": "SystemExit",
     "evalue": "1",
     "output_type": "error",
     "traceback": [
      "An exception has occurred, use %tb to see the full traceback.\n",
      "\u001b[0;31mSystemExit\u001b[0m\u001b[0;31m:\u001b[0m 1\n"
     ]
    },
    {
     "name": "stderr",
     "output_type": "stream",
     "text": [
      "/home/ubuntu/.local/lib/python2.7/site-packages/IPython/core/interactiveshell.py:2886: UserWarning:\n",
      "\n",
      "To exit: use 'exit', 'quit', or Ctrl-D.\n",
      "\n"
     ]
    }
   ],
   "source": [
    "# import dash\n",
    "# import dash_core_components as dcc\n",
    "# import dash_html_components as html\n",
    "\n",
    "# external_stylesheets = ['https://codepen.io/chriddyp/pen/bWLwgP.css']\n",
    "\n",
    "# app = dash.Dash(__name__, external_stylesheets=external_stylesheets)\n",
    "\n",
    "# app.layout = html.Div(children=[\n",
    "#     html.H1(children='Reddit 2006'),\n",
    "\n",
    "#     html.Div(children='''\n",
    "#         Dash: A web application framework for Python.\n",
    "#     '''),\n",
    "\n",
    "#     dcc.Graph(\n",
    "#         id='Reddit 2006 python mentions',\n",
    "#         figure={\n",
    "#             'data': [\n",
    "#                 {'x': Date_Data, 'y': count, 'type': 'scatter', 'name': 'SF'}\n",
    "#             ],\n",
    "#             'layout': {\n",
    "#                 'title': 'Dash Data Visualization'\n",
    "#             }\n",
    "#         }\n",
    "#     )\n",
    "# ])\n",
    "\n",
    "# if __name__ == '__main__':\n",
    "#     app.run_server(debug=True, port = 9990, host ='0.0.0.0')"
   ]
  },
  {
   "cell_type": "code",
   "execution_count": null,
   "metadata": {},
   "outputs": [],
   "source": []
  }
 ],
 "metadata": {
  "kernelspec": {
   "display_name": "Python 2",
   "language": "python",
   "name": "python2"
  },
  "language_info": {
   "codemirror_mode": {
    "name": "ipython",
    "version": 2
   },
   "file_extension": ".py",
   "mimetype": "text/x-python",
   "name": "python",
   "nbconvert_exporter": "python",
   "pygments_lexer": "ipython2",
   "version": "2.7.12"
  }
 },
 "nbformat": 4,
 "nbformat_minor": 2
}
