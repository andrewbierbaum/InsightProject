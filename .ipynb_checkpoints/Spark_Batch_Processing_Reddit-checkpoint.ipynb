{
 "cells": [
  {
   "cell_type": "code",
   "execution_count": 1,
   "metadata": {},
   "outputs": [],
   "source": [
    "#sparting spark and reading Reddit\n",
    "from pyspark.sql import SparkSession\n",
    "spark = SparkSession.builder.appName(\"Reddit\").getOrCreate()\n",
    "df = None\n",
    "df = spark.read.csv(\"s3a://andrew-bierbaum-insight-test-dataset/Reddit/Reddit_Comments_2018-000000000000.csv.gz\", header=True,multiLine=True, escape='\"')"
   ]
  },
  {
   "cell_type": "code",
   "execution_count": 2,
   "metadata": {},
   "outputs": [],
   "source": [
    "#spark.sql.caseSensitive = False\n",
    "#sqlContext.sql(\"set spark.sql.caseSensitive=false\")"
   ]
  },
  {
   "cell_type": "code",
   "execution_count": 3,
   "metadata": {},
   "outputs": [
    {
     "name": "stdout",
     "output_type": "stream",
     "text": [
      "+--------------------+------------+--------+----+-------------+-----------------+-----+-----------+------------+---------+----------+-----+------------+----------------+------+-------+--------------+----+-------------+----------------------+\n",
      "|                body|score_hidden|archived|name|       author|author_flair_text|downs|created_utc|subreddit_id|  link_id| parent_id|score|retrieved_on|controversiality|gilded|     id|     subreddit| ups|distinguished|author_flair_css_class|\n",
      "+--------------------+------------+--------+----+-------------+-----------------+-----+-----------+------------+---------+----------+-----+------------+----------------+------+-------+--------------+----+-------------+----------------------+\n",
      "|If you pass NNN y...|        null|   false|null|    [deleted]|             null| null| 1543622400|    t5_2qjpg|t3_a1x20u| t3_a1x20u|    1|  1546258274|               0|     0|eatm39h|         memes|null|         null|                  null|\n",
      "|One dude one time...|        null|   false|null|  Juan_El_Way|         SB Elway| null| 1543622400|    t5_2s51j|t3_a1vyct|t1_eatltj2|    2|  1546258274|               0|     0|eatm39q| DenverBroncos|null|         null|                 elway|\n",
      "|&gt;getting banne...|        null|   false|null|     kfms6741|      VIDYA AKBAR| null| 1543622401|    t5_33726|t3_a1w5j4| t3_a1w5j4|   21|  1546258274|               0|     0|eatm3ah|KotakuInAction|null|         null|                  null|\n",
      "|it's definitely d...|        null|   false|null|  greenwitchy|          Mayfair| null| 1543622401|    t5_2qn3i|t3_a1xa4x|t1_eatjw37|    2|  1546258274|               0|     0|eatm3ak|        Denver|null|         null|                  null|\n",
      "|Get the home phon...|        null|   false|null|ToxicTraveler|             null| null| 1543622402|    t5_39hik|t3_a1p0nh| t3_a1p0nh|    1|  1546258275|               0|     0|eatm3bl|   amazonalexa|null|         null|                  null|\n",
      "+--------------------+------------+--------+----+-------------+-----------------+-----+-----------+------------+---------+----------+-----+------------+----------------+------+-------+--------------+----+-------------+----------------------+\n",
      "only showing top 5 rows\n",
      "\n",
      "root\n",
      " |-- body: string (nullable = true)\n",
      " |-- score_hidden: string (nullable = true)\n",
      " |-- archived: string (nullable = true)\n",
      " |-- name: string (nullable = true)\n",
      " |-- author: string (nullable = true)\n",
      " |-- author_flair_text: string (nullable = true)\n",
      " |-- downs: string (nullable = true)\n",
      " |-- created_utc: string (nullable = true)\n",
      " |-- subreddit_id: string (nullable = true)\n",
      " |-- link_id: string (nullable = true)\n",
      " |-- parent_id: string (nullable = true)\n",
      " |-- score: string (nullable = true)\n",
      " |-- retrieved_on: string (nullable = true)\n",
      " |-- controversiality: string (nullable = true)\n",
      " |-- gilded: string (nullable = true)\n",
      " |-- id: string (nullable = true)\n",
      " |-- subreddit: string (nullable = true)\n",
      " |-- ups: string (nullable = true)\n",
      " |-- distinguished: string (nullable = true)\n",
      " |-- author_flair_css_class: string (nullable = true)\n",
      "\n"
     ]
    }
   ],
   "source": [
    "#showing the start of the data and format\n",
    "df.show(5)\n",
    "df.printSchema()"
   ]
  },
  {
   "cell_type": "code",
   "execution_count": 4,
   "metadata": {},
   "outputs": [
    {
     "name": "stdout",
     "output_type": "stream",
     "text": [
      "+-----------+--------------------+\n",
      "|created_utc|                body|\n",
      "+-----------+--------------------+\n",
      "| 1543622570|It's kinda funny....|\n",
      "| 1543622614|You dont seem all...|\n",
      "| 1543709069|* Classic style /...|\n",
      "| 1543709074|yh I got no sympa...|\n",
      "| 1543709077|Okay, finally got...|\n",
      "| 1543709105|Looked like his t...|\n",
      "| 1543709111|I just left this ...|\n",
      "| 1543709140|Cash is always ni...|\n",
      "| 1543709145|/uj I've been on ...|\n",
      "| 1543709169|She’s doing reall...|\n",
      "| 1543709221|Because I had a v...|\n",
      "| 1544659353|Du und ich zusamm...|\n",
      "| 1545955332|I agree with you ...|\n",
      "| 1545955556|That sounds reall...|\n",
      "| 1544832276|Soon as we get 1....|\n",
      "| 1544832427|You have no idea ...|\n",
      "| 1544227371|Absolutely. Such ...|\n",
      "| 1544227540|Me either, happy ...|\n",
      "| 1543881709|Huh interesting. ...|\n",
      "| 1543881718|You will. It’ll t...|\n",
      "+-----------+--------------------+\n",
      "only showing top 20 rows\n",
      "\n"
     ]
    }
   ],
   "source": [
    "#Convert spark data to be readable using sql queries\n",
    "df.createOrReplaceTempView(\"Reddit\")\n",
    "happy_results = spark.sql(\"SELECT created_utc, body FROM Reddit WHERE body LIKE '%happy%'\")\n",
    "happy_results.show()"
   ]
  },
  {
   "cell_type": "code",
   "execution_count": 5,
   "metadata": {},
   "outputs": [],
   "source": [
    "xamarin_results = spark.sql(\"SELECT created_utc, body FROM Reddit WHERE body LIKE '%xamarin%'\")\n",
    "flutter_results = spark.sql(\"SELECT created_utc, body FROM Reddit WHERE body LIKE '%flutter%'\")\n",
    "react_native_results = spark.sql(\"SELECT created_utc, body FROM Reddit WHERE body LIKE '%react native%'\")\n",
    "#cross_xamarin_flutter_results.show()"
   ]
  },
  {
   "cell_type": "code",
   "execution_count": 6,
   "metadata": {},
   "outputs": [],
   "source": [
    "#collect, convert dates to datetime format for later graphing, and sort data\n",
    "from datetime import datetime\n",
    "python_xamarin_results = xamarin_results.collect()\n",
    "python_xamarin_results_cleaned = [(datetime.fromtimestamp(float(i)),body.encode('ascii',errors='ignore')) for i, body in python_xamarin_results]\n",
    "python_xamarin_results_cleaned.sort()\n"
   ]
  },
  {
   "cell_type": "code",
   "execution_count": 7,
   "metadata": {},
   "outputs": [],
   "source": [
    "#repeat collect, convert dates to datetime format for later graphing, and sort data for flutter results\n",
    "python_flutter_results = flutter_results.collect()\n",
    "python_flutter_results_cleaned = [(datetime.fromtimestamp(float(i)),body.encode('ascii',errors='ignore')) for i, body in python_flutter_results]\n",
    "python_flutter_results_cleaned.sort()"
   ]
  },
  {
   "cell_type": "code",
   "execution_count": 8,
   "metadata": {},
   "outputs": [],
   "source": [
    "#repeat collect, convert dates to datetime format for later graphing, and sort data for react native results\n",
    "python_react_native_results = react_native_results.collect()\n",
    "python_react_native_results_cleaned = [(datetime.fromtimestamp(float(i)),body.encode('ascii',errors='ignore')) for i, body in python_react_native_results]\n",
    "python_react_native_results_cleaned.sort()"
   ]
  },
  {
   "cell_type": "code",
   "execution_count": 9,
   "metadata": {},
   "outputs": [
    {
     "data": {
      "image/png": "[encoded data removed]",
      "text/plain": [
       "<Figure size 432x288 with 1 Axes>"
      ]
     },
     "metadata": {
      "needs_background": "light"
     },
     "output_type": "display_data"
    },
    {
     "data": {
      "text/plain": [
       "<Figure size 432x288 with 0 Axes>"
      ]
     },
     "metadata": {},
     "output_type": "display_data"
    }
   ],
   "source": [
    "#sort, number, and then graph the data\n",
    "%matplotlib inline\n",
    "import numpy\n",
    "import matplotlib\n",
    "import matplotlib.pyplot as plt\n",
    "count = numpy.arange(len(python_xamarin_results_cleaned))\n",
    "#Date_Data = matplotlib.dates.datestr2num(clean_python_results_utc)\n",
    "Date_Data = []\n",
    "Body_Data = []\n",
    "for date, body in python_xamarin_results_cleaned:\n",
    "    Date_Data.append(date)\n",
    "    Body_Data.append(body)\n",
    "matplotlib.pyplot.plot_date(Date_Data,count,xdate=True, drawstyle = 'steps-pre', linestyle = 'solid' )\n",
    "matplotlib.pyplot.ylabel('Xamarin Mentions')\n",
    "matplotlib.pyplot.title('Reddit Xamarin mentions')\n",
    "plt.show()\n",
    "plt.savefig('Reddit_xamarin.png')"
   ]
  },
  {
   "cell_type": "code",
   "execution_count": 10,
   "metadata": {},
   "outputs": [
    {
     "data": {
      "text/html": [
       "<div>\n",
       "<table border=\"1\" class=\"dataframe\">\n",
       "  <thead>\n",
       "    <tr style=\"text-align: right;\">\n",
       "      <th></th>\n",
       "      <th>body</th>\n",
       "      <th>date</th>\n",
       "    </tr>\n",
       "  </thead>\n",
       "  <tbody>\n",
       "    <tr>\n",
       "      <th>0</th>\n",
       "      <td>Had simillar issue with async methods in xamar...</td>\n",
       "      <td>2018-12-16 11:09:01</td>\n",
       "    </tr>\n",
       "    <tr>\n",
       "      <th>1</th>\n",
       "      <td>&amp;gt; ok i guess all the java based answers are...</td>\n",
       "      <td>2018-12-26 15:12:11</td>\n",
       "    </tr>\n",
       "    <tr>\n",
       "      <th>2</th>\n",
       "      <td>You can hack together a Xamarin.Forms app with...</td>\n",
       "      <td>2018-12-30 17:18:22</td>\n",
       "    </tr>\n",
       "  </tbody>\n",
       "</table>\n",
       "</div>"
      ],
      "text/plain": [
       "                                                body                date\n",
       "0  Had simillar issue with async methods in xamar... 2018-12-16 11:09:01\n",
       "1  &gt; ok i guess all the java based answers are... 2018-12-26 15:12:11\n",
       "2  You can hack together a Xamarin.Forms app with... 2018-12-30 17:18:22"
      ]
     },
     "execution_count": 10,
     "metadata": {},
     "output_type": "execute_result"
    }
   ],
   "source": [
    "import pandas\n",
    "pandas_df = pandas.DataFrame({'date':Date_Data,'body':Body_Data})\n",
    "pandas_df.to_csv(\"Reddit_xamarin.csv\")\n",
    "pandas_df"
   ]
  },
  {
   "cell_type": "code",
   "execution_count": 11,
   "metadata": {},
   "outputs": [],
   "source": [
    "#find flutter posts that already contain xamarin and export to csv\n",
    "pandas_df[pandas_df['body'].str.contains('flutter')].to_csv('Reddit_xamarin_flutter_cross.csv')"
   ]
  },
  {
   "cell_type": "code",
   "execution_count": 12,
   "metadata": {},
   "outputs": [
    {
     "data": {
      "image/png": "[encoded data removed]",
      "text/plain": [
       "<Figure size 432x288 with 1 Axes>"
      ]
     },
     "metadata": {
      "needs_background": "light"
     },
     "output_type": "display_data"
    },
    {
     "data": {
      "text/plain": [
       "<Figure size 432x288 with 0 Axes>"
      ]
     },
     "metadata": {},
     "output_type": "display_data"
    }
   ],
   "source": [
    "#repeat graphing and later csv export for flutter\n",
    "count = numpy.arange(len(python_flutter_results_cleaned))\n",
    "Date_Data = []\n",
    "Body_Data = []\n",
    "for date, body in python_flutter_results_cleaned:\n",
    "    Date_Data.append(date)\n",
    "    Body_Data.append(body)\n",
    "matplotlib.pyplot.plot_date(Date_Data,count,xdate=True, drawstyle = 'steps-pre', linestyle = 'solid' )\n",
    "matplotlib.pyplot.ylabel('Flutter Mentions')\n",
    "matplotlib.pyplot.title('Reddit Flutter mentions')\n",
    "plt.show()\n",
    "plt.savefig('Reddit_flutter.png')\n",
    "\n",
    "#print csv for flutter\n",
    "pandas_df = pandas.DataFrame({'date':Date_Data,'body':Body_Data})\n",
    "pandas_df.head()\n",
    "pandas_df.to_csv(\"Reddit_flutter.csv\")"
   ]
  },
  {
   "cell_type": "code",
   "execution_count": 13,
   "metadata": {},
   "outputs": [
    {
     "data": {
      "image/png": "[encoded data removed]",
      "text/plain": [
       "<Figure size 432x288 with 1 Axes>"
      ]
     },
     "metadata": {
      "needs_background": "light"
     },
     "output_type": "display_data"
    },
    {
     "data": {
      "text/plain": [
       "<Figure size 432x288 with 0 Axes>"
      ]
     },
     "metadata": {},
     "output_type": "display_data"
    }
   ],
   "source": [
    "#repeat graphing and later csv export for react native\n",
    "count = numpy.arange(len(python_react_native_results_cleaned))\n",
    "Date_Data = []\n",
    "Body_Data = []\n",
    "for date, body in python_react_native_results_cleaned:\n",
    "    Date_Data.append(date)\n",
    "    Body_Data.append(body)\n",
    "matplotlib.pyplot.plot_date(Date_Data,count,xdate=True, drawstyle = 'steps-pre', linestyle = 'solid' )\n",
    "matplotlib.pyplot.ylabel('React Native Mentions')\n",
    "matplotlib.pyplot.title('Reddit React Native mentions')\n",
    "plt.show()\n",
    "plt.savefig('Redditreact_native.png')\n",
    "\n",
    "#print csv for flutter\n",
    "pandas_df = pandas.DataFrame({'date':Date_Data,'body':Body_Data})\n",
    "pandas_df.head()\n",
    "pandas_df.to_csv(\"Reddit_react_native.csv\")"
   ]
  },
  {
   "cell_type": "code",
   "execution_count": null,
   "metadata": {},
   "outputs": [],
   "source": []
  },
  {
   "cell_type": "code",
   "execution_count": null,
   "metadata": {},
   "outputs": [],
   "source": []
  }
 ],
 "metadata": {
  "kernelspec": {
   "display_name": "Python 2",
   "language": "python",
   "name": "python2"
  },
  "language_info": {
   "codemirror_mode": {
    "name": "ipython",
    "version": 2
   },
   "file_extension": ".py",
   "mimetype": "text/x-python",
   "name": "python",
   "nbconvert_exporter": "python",
   "pygments_lexer": "ipython2",
   "version": "2.7.12"
  }
 },
 "nbformat": 4,
 "nbformat_minor": 2
}
