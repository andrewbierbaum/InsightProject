{
 "cells": [
  {
   "cell_type": "code",
   "execution_count": 1,
   "metadata": {},
   "outputs": [
    {
     "name": "stdout",
     "output_type": "stream",
     "text": [
      "+-------------+-----+----------+--------------------+-----+-------+----+--------------------+--------+-------+----+-----------+--------+-------+\n",
      "|           by|score|      time|           timestamp|title|   type| url|                text|  parent|deleted|dead|descendants|      id|ranking|\n",
      "+-------------+-----+----------+--------------------+-----+-------+----+--------------------+--------+-------+----+-----------+--------+-------+\n",
      "|      jonpugh| null|1470011203|2016-08-01 00:26:...| null|comment|null|I still can&#x27;...|12198470|   null|null|       null|12199585|   null|\n",
      "|mnemonicsloth| null|1283987630|2010-09-08 23:13:...| null|comment|null|<a href=\"http://y...| 1673082|   null|null|       null| 1673847|   null|\n",
      "|         null| null|1464793231|2016-06-01 15:00:...| null|comment|null|                null|11812488|   true|null|       null|11814825|   null|\n",
      "|  maxerickson| null|1493134717|2017-04-25 15:38:...| null|comment|null|First couple minu...|14194417|   null|null|       null|14194473|   null|\n",
      "|       anamax| null|1274194730|2010-05-18 14:58:...| null|comment|null|&#62; No, global ...| 1357545|   null|null|       null| 1357650|   null|\n",
      "|        daken| null|1391637065|2014-02-05 21:51:...| null|comment|null|This doesn&#x27;t...| 7186688|   null|null|       null| 7187079|   null|\n",
      "|      skosuri| null|1411588193|2014-09-24 19:49:...| null|comment|null|&gt; the majority...| 8363639|   null|null|       null| 8363696|   null|\n",
      "|  smhenderson| null|1421772820|2015-01-20 16:53:...| null|comment|null|<i>Bash installed...| 8917257|   null|null|       null| 8917806|   null|\n",
      "|    kaolinite| null|1426871295|2015-03-20 17:08:...| null|comment|null|Besides applicant...| 9238886|   null|null|       null| 9238910|   null|\n",
      "|     skowmunk| null|1283165001|2010-08-30 10:43:...| null|comment|null|Very well said, i...| 1645731|   null|null|       null| 1645835|   null|\n",
      "+-------------+-----+----------+--------------------+-----+-------+----+--------------------+--------+-------+----+-----------+--------+-------+\n",
      "only showing top 10 rows\n",
      "\n",
      "None\n"
     ]
    }
   ],
   "source": [
    "from pyspark.sql import SparkSession\n",
    "spark = SparkSession.builder.appName(\"HackerNews\").getOrCreate()\n",
    "\n",
    "#spark = SparkSession.builder.appName(\"HackerNews\").getOrCreate()\n",
    "\n",
    "df = None\n",
    "df = spark.read.csv(\"s3a://andrew-bierbaum-insight-test-dataset/HackerNews/hacker_news_full-00000000*.csv.gz\", header=True,multiLine=True, escape='\"',mode='append')\n",
    "\n",
    "print(df.show(10))"
   ]
  },
  {
   "cell_type": "code",
   "execution_count": 2,
   "metadata": {},
   "outputs": [
    {
     "name": "stdout",
     "output_type": "stream",
     "text": [
      "+----------+--------------------+--------------------+\n",
      "|      time|           timestamp|                text|\n",
      "+----------+--------------------+--------------------+\n",
      "|1176170593|2007-04-10 02:03:...|To be honest the ...|\n",
      "|1176609580|2007-04-15 03:59:...|Avail 1 br close ...|\n",
      "|1177028002|2007-04-20 00:13:...|An inmemory hashm...|\n",
      "|1180482615|2007-05-29 23:50:...|looks like web.py...|\n",
      "|1181843663|2007-06-14 17:54:...|A bit of semantic...|\n",
      "|1182778239|2007-06-25 13:30:...|As of now, you ca...|\n",
      "|1184510238|2007-07-15 14:37:...|As for the blog i...|\n",
      "|1187900763|2007-08-23 20:26:...|The post: <a href...|\n",
      "|1193375762|2007-10-26 05:16:...|nice. \n",
      "I like pyt...|\n",
      "|1195527730|2007-11-20 03:02:...|Have a look at Er...|\n",
      "|1198877227|2007-12-28 21:27:...|Funny you use thi...|\n",
      "|1199715395|2008-01-07 14:16:...|If we want python...|\n",
      "|1200426324|2008-01-15 19:45:...|because colons ar...|\n",
      "|1200547556|2008-01-17 05:25:...|What is wrong wit...|\n",
      "|1200882149|2008-01-21 02:22:...|If you're thinkin...|\n",
      "|1201408539|2008-01-27 04:35:...|I like it mapping...|\n",
      "|1201507756|2008-01-28 08:09:...|hahah this takes ...|\n",
      "|1202088422|2008-02-04 01:27:...|More specifically...|\n",
      "|1202264545|2008-02-06 02:22:...|<i>\"... I remembe...|\n",
      "|1202280297|2008-02-06 06:44:...|Good point .. if ...|\n",
      "+----------+--------------------+--------------------+\n",
      "only showing top 20 rows\n",
      "\n"
     ]
    }
   ],
   "source": [
    "df.createOrReplaceTempView(\"HackerNews\")\n",
    "#time >1000000000 just filters out 6 bad entries --double chedk this is a good way to do it\n",
    "results = spark.sql(\"SELECT time, timestamp, text FROM HackerNews WHERE text LIKE '% python %'  SORT BY time ASC\")\n",
    "#AND time >1000000000\n",
    "results.show()"
   ]
  },
  {
   "cell_type": "code",
   "execution_count": 3,
   "metadata": {},
   "outputs": [],
   "source": [
    "python_results = results.select('time').collect()\n",
    "python_results_timestamp = results.select('timestamp').collect()\n",
    "clean_python_results_timestamp = [i[0] for i in python_results_timestamp]\n",
    "#print(clean_python_results_timestamp)"
   ]
  },
  {
   "cell_type": "code",
   "execution_count": 4,
   "metadata": {},
   "outputs": [
    {
     "data": {
      "image/png": "[encoded data removed]",
      "text/plain": [
       "<Figure size 432x288 with 1 Axes>"
      ]
     },
     "metadata": {
      "needs_background": "light"
     },
     "output_type": "display_data"
    },
    {
     "data": {
      "text/plain": [
       "<Figure size 432x288 with 0 Axes>"
      ]
     },
     "metadata": {},
     "output_type": "display_data"
    }
   ],
   "source": [
    "%matplotlib inline\n",
    "import numpy\n",
    "import matplotlib\n",
    "import matplotlib.pyplot as plt\n",
    "count = numpy.arange(len(clean_python_results_timestamp))\n",
    "Date_Data = matplotlib.dates.datestr2num(clean_python_results_timestamp)\n",
    "matplotlib.pyplot.plot_date(Date_Data,count,xdate=True, drawstyle = 'steps-pre', linestyle = 'solid' )\n",
    "matplotlib.pyplot.ylabel('Mentions')\n",
    "matplotlib.pyplot.title('HackerNews python mentions')\n",
    "plt.show()\n",
    "plt.savefig('HackerNews.png')\n"
   ]
  },
  {
   "cell_type": "code",
   "execution_count": null,
   "metadata": {},
   "outputs": [],
   "source": []
  },
  {
   "cell_type": "code",
   "execution_count": null,
   "metadata": {},
   "outputs": [],
   "source": []
  },
  {
   "cell_type": "code",
   "execution_count": null,
   "metadata": {},
   "outputs": [],
   "source": []
  }
 ],
 "metadata": {
  "kernelspec": {
   "display_name": "Python 2",
   "language": "python",
   "name": "python2"
  },
  "language_info": {
   "codemirror_mode": {
    "name": "ipython",
    "version": 2
   },
   "file_extension": ".py",
   "mimetype": "text/x-python",
   "name": "python",
   "nbconvert_exporter": "python",
   "pygments_lexer": "ipython2",
   "version": "2.7.12"
  }
 },
 "nbformat": 4,
 "nbformat_minor": 2
}
