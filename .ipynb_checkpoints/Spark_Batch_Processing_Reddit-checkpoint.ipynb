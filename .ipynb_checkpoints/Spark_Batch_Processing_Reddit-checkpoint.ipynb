{
 "cells": [
  {
   "cell_type": "code",
   "execution_count": 1,
   "metadata": {},
   "outputs": [],
   "source": [
    "#sparting spark and reading Reddit\n",
    "from pyspark.sql import SparkSession\n",
    "from datetime import datetime\n",
    "import pandas\n",
    "import numpy\n",
    "import sqlite3"
   ]
  },
  {
   "cell_type": "code",
   "execution_count": null,
   "metadata": {},
   "outputs": [],
   "source": [
    "#set up spark\n",
    "spark = SparkSession.builder.appName(\"Reddit\").getOrCreate()\n",
    "df = None\n",
    "df = spark.read.csv(\"s3a://andrew-bierbaum-insight-test-dataset/Reddit_Fix/Reddit_Comments_20*.csv.gz\", header=True,multiLine=True, escape='\"')\n"
   ]
  },
  {
   "cell_type": "code",
   "execution_count": 2,
   "metadata": {},
   "outputs": [
    {
     "data": {
      "text/html": [
       "<div>\n",
       "<style scoped>\n",
       "    .dataframe tbody tr th:only-of-type {\n",
       "        vertical-align: middle;\n",
       "    }\n",
       "\n",
       "    .dataframe tbody tr th {\n",
       "        vertical-align: top;\n",
       "    }\n",
       "\n",
       "    .dataframe thead th {\n",
       "        text-align: right;\n",
       "    }\n",
       "</style>\n",
       "<table border=\"1\" class=\"dataframe\">\n",
       "  <thead>\n",
       "    <tr style=\"text-align: right;\">\n",
       "      <th></th>\n",
       "      <th>created_utc</th>\n",
       "      <th>body</th>\n",
       "      <th>subreddit_id</th>\n",
       "      <th>link_id</th>\n",
       "      <th>parent_id</th>\n",
       "      <th>id</th>\n",
       "      <th>subreddit</th>\n",
       "    </tr>\n",
       "  </thead>\n",
       "  <tbody>\n",
       "  </tbody>\n",
       "</table>\n",
       "</div>"
      ],
      "text/plain": [
       "Empty DataFrame\n",
       "Columns: [created_utc, body, subreddit_id, link_id, parent_id, id, subreddit]\n",
       "Index: []"
      ]
     },
     "execution_count": 2,
     "metadata": {},
     "output_type": "execute_result"
    }
   ],
   "source": [
    "# #Convert spark data to be readable using sql queries and query for the keyword terms\n",
    "df.createOrReplaceTempView(\"Reddit\")\n",
    "\n",
    "#these could be combined into one search to only have to access the table once and be much faster, but they work as written\n",
    "#query the spark data, transfer to pandas, and confirm the sorting\n",
    "xamarin_results = spark.sql(\"SELECT created_utc, body, subreddit_id, link_id, parent_id, id, subreddit FROM Reddit WHERE body RLIKE 'xamarin|Xamarin' ORDER BY created_utc ASC\")\n",
    "df_xamarin = xamarin_results.toPandas()\n",
    "df_xamarin = df_xamarin.sort_values('created_utc')\n",
    "\n",
    "#repeat for flutter\n",
    "flutter_results = spark.sql(\"SELECT created_utc, body, subreddit_id, link_id, parent_id, id, subreddit FROM Reddit WHERE body RLIKE 'flutter|Flutter' ORDER BY created_utc ASC\")\n",
    "df_flutter = flutter_results.toPandas()\n",
    "df_flutter = df_flutter.sort_values('created_utc')\n",
    "\n",
    "#repeat for react native\n",
    "react_native_results = spark.sql(\"SELECT created_utc, body, subreddit_id, link_id, parent_id, id, subreddit FROM Reddit WHERE body RLIKE 'react native|React native|React Native' ORDER BY created_utc ASC\")\n",
    "df_react_native = react_native_results.toPandas()\n",
    "df_react_native = df_react_native.sort_values('created_utc')"
   ]
  },
  {
   "cell_type": "code",
   "execution_count": 2,
   "metadata": {},
   "outputs": [],
   "source": [
    "#setup sqlite\n",
    "conn = sqlite3.connect('TechGraph.db')\n",
    "cur = conn.cursor()\n",
    "conn.text_factory = str"
   ]
  },
  {
   "cell_type": "code",
   "execution_count": 3,
   "metadata": {},
   "outputs": [],
   "source": [
    "#transfer to sqlite\n",
    "df_xamarin.to_sql('Reddit_xamarin', conn, if_exists='replace')\n",
    "df_flutter.to_sql('Reddit_flutter', conn, if_exists='replace')\n",
    "df_react_native.to_sql('Reddit_react_native', conn, if_exists='replace')"
   ]
  },
  {
   "cell_type": "code",
   "execution_count": 3,
   "metadata": {},
   "outputs": [
    {
     "data": {
      "text/plain": [
       "<sqlite3.Cursor at 0x7f6db06c6ab0>"
      ]
     },
     "execution_count": 3,
     "metadata": {},
     "output_type": "execute_result"
    }
   ],
   "source": [
    "#get rid of flutter comments before flutter was posted to github\n",
    "conn.execute(\"DELETE FROM Reddit_flutter WHERE created_utc<1305578972\")\n",
    "\n",
    "#delete subreddits not whitelisted\n",
    "conn.execute(\"DELETE FROM Reddit_flutter WHERE subreddit NOT IN ('FlutterDev','androiddev','programming','Android','techsupport','dartlang','technology','reactnative','Flutter','ProgrammerHumor','xamarindevelopers','Xamarin')\")\n",
    "conn.execute(\"DELETE FROM Reddit_flutter WHERE subreddit NOT IN ('csparp','learnprogramming','dotnet','windowsphone','gamedev','cscareerquestions','Unity3d','apple','linux','webdev','appdev','fsharp')\")\n",
    "conn.execute(\"DELETE FROM Reddit_flutter WHERE subreddit NOT IN ('reactjs','javascript','iOSProgramming','startups','Entrepreneur','swift','vuejs','AskProgramming','Clojure','AskReddit','learnjavascript','web_design','golang','forhire')\")"
   ]
  },
  {
   "cell_type": "code",
   "execution_count": 4,
   "metadata": {},
   "outputs": [],
   "source": [
    "conn.commit()\n",
    "conn.close()"
   ]
  },
  {
   "cell_type": "code",
   "execution_count": null,
   "metadata": {},
   "outputs": [],
   "source": []
  }
 ],
 "metadata": {
  "kernelspec": {
   "display_name": "Python 3",
   "language": "python",
   "name": "python3"
  },
  "language_info": {
   "codemirror_mode": {
    "name": "ipython",
    "version": 3
   },
   "file_extension": ".py",
   "mimetype": "text/x-python",
   "name": "python",
   "nbconvert_exporter": "python",
   "pygments_lexer": "ipython3",
   "version": "3.7.3"
  }
 },
 "nbformat": 4,
 "nbformat_minor": 2
}
