{
 "cells": [
  {
   "cell_type": "code",
   "execution_count": 1,
   "metadata": {},
   "outputs": [],
   "source": [
    "#sparting spark and reading Reddit\n",
    "from pyspark.sql import SparkSession\n",
    "spark = SparkSession.builder.appName(\"Reddit\").getOrCreate()\n",
    "df = None\n",
    "df = spark.read.csv(\"s3a://andrew-bierbaum-insight-test-dataset/Reddit_PushShift/Reddit_Comments_PushShift-000000000461.csv.gz\", header=True,multiLine=True, escape='\"')"
   ]
  },
  {
   "cell_type": "code",
   "execution_count": 2,
   "metadata": {},
   "outputs": [],
   "source": [
    "#spark.sql.caseSensitive = False\n",
    "#sqlContext.sql(\"set spark.sql.caseSensitive=false\")"
   ]
  },
  {
   "cell_type": "code",
   "execution_count": 3,
   "metadata": {},
   "outputs": [
    {
     "name": "stdout",
     "output_type": "stream",
     "text": [
      "+---------------+-----------------+----------------------+--------------------+--------------------+--------------+------------+-----------+---------+-----------+------------+--------+--------------+-----+------+--------+----------------+------------+---------+------+--------------------+--------------------+----------+\n",
      "|         author|author_flair_text|author_flair_css_class|                body|         created_utc|     subreddit|subreddit_id|  parent_id|  link_id|         id|send_replies|stickied|subreddit_type|score|gilded|can_gild|controversiality|is_submitter|no_follow|edited|           permalink|        retrieved_on|      name|\n",
      "+---------------+-----------------+----------------------+--------------------+--------------------+--------------+------------+-----------+---------+-----------+------------+--------+--------------+-----+------+--------+----------------+------------+---------+------+--------------------+--------------------+----------+\n",
      "|     Brookesyy_|             null|                  null|>Looking for 3 pe...|2018-06-14 15:59:...|      FORTnITE|     4721957|30515239236|529217254|30515245679|        true|   false|        public|    1|     0|    true|               0|        true|     true|  null|/r/FORTnITE/comme...|2018-06-14 15:59:...|t1_e0nzm9b|\n",
      "|  rektitroaster|        Liverpool|  s1 3 team-3 count...|      2 Petermetre. |2018-06-14 16:36:...|        soccer|     4595804|30515359440|529230703|30515369181|        true|   false|        public|    1|     0|    true|               0|       false|     true|  null|/r/soccer/comment...|2018-06-14 16:36:...|t1_e0o29jx|\n",
      "|      IzkaGruba|           Poland|  s1 58 team-58 cou...|Very good first h...|2018-06-14 15:48:...|        soccer|     4595804|  529185779|529185779|30515210309|        true|   false|        public|    1|     0|    true|               0|       false|     true|  null|/r/soccer/comment...|2018-06-14 15:48:...|t1_e0nyuyt|\n",
      "|yoursweetlord70|             null|   SS1 7-4 bungieday03|I like the s3 war...|2018-06-14 15:55:...|DestinyTheGame|     4839296|30512302763|528847836|30515233802|        true|   false|        public|    1|     0|    true|               0|       false|     true|  null|/r/DestinyTheGame...|2018-06-14 15:55:...|t1_e0nzd3e|\n",
      "|BlazeOrangeDeer|             null|                  null|It does act like ...|2018-06-14 15:56:...|    askscience|     4600958|30514197177|528978319|30515235482|        true|   false|        public|    1|     0|    true|               0|       false|     true|  null|/r/askscience/com...|2018-06-14 15:56:...|t1_e0nzee2|\n",
      "+---------------+-----------------+----------------------+--------------------+--------------------+--------------+------------+-----------+---------+-----------+------------+--------+--------------+-----+------+--------+----------------+------------+---------+------+--------------------+--------------------+----------+\n",
      "only showing top 5 rows\n",
      "\n",
      "root\n",
      " |-- author: string (nullable = true)\n",
      " |-- author_flair_text: string (nullable = true)\n",
      " |-- author_flair_css_class: string (nullable = true)\n",
      " |-- body: string (nullable = true)\n",
      " |-- created_utc: string (nullable = true)\n",
      " |-- subreddit: string (nullable = true)\n",
      " |-- subreddit_id: string (nullable = true)\n",
      " |-- parent_id: string (nullable = true)\n",
      " |-- link_id: string (nullable = true)\n",
      " |-- id: string (nullable = true)\n",
      " |-- send_replies: string (nullable = true)\n",
      " |-- stickied: string (nullable = true)\n",
      " |-- subreddit_type: string (nullable = true)\n",
      " |-- score: string (nullable = true)\n",
      " |-- gilded: string (nullable = true)\n",
      " |-- can_gild: string (nullable = true)\n",
      " |-- controversiality: string (nullable = true)\n",
      " |-- is_submitter: string (nullable = true)\n",
      " |-- no_follow: string (nullable = true)\n",
      " |-- edited: string (nullable = true)\n",
      " |-- permalink: string (nullable = true)\n",
      " |-- retrieved_on: string (nullable = true)\n",
      " |-- name: string (nullable = true)\n",
      "\n"
     ]
    }
   ],
   "source": [
    "#showing the start of the data and format\n",
    "df.show(5)\n",
    "df.printSchema()"
   ]
  },
  {
   "cell_type": "code",
   "execution_count": 4,
   "metadata": {},
   "outputs": [
    {
     "name": "stdout",
     "output_type": "stream",
     "text": [
      "root\n",
      " |-- author: string (nullable = true)\n",
      " |-- author_flair_text: string (nullable = true)\n",
      " |-- author_flair_css_class: string (nullable = true)\n",
      " |-- body: string (nullable = true)\n",
      " |-- created_utc: timestamp (nullable = true)\n",
      " |-- subreddit: string (nullable = true)\n",
      " |-- subreddit_id: string (nullable = true)\n",
      " |-- parent_id: string (nullable = true)\n",
      " |-- link_id: string (nullable = true)\n",
      " |-- id: string (nullable = true)\n",
      " |-- send_replies: string (nullable = true)\n",
      " |-- stickied: string (nullable = true)\n",
      " |-- subreddit_type: string (nullable = true)\n",
      " |-- score: string (nullable = true)\n",
      " |-- gilded: string (nullable = true)\n",
      " |-- can_gild: string (nullable = true)\n",
      " |-- controversiality: string (nullable = true)\n",
      " |-- is_submitter: string (nullable = true)\n",
      " |-- no_follow: string (nullable = true)\n",
      " |-- edited: string (nullable = true)\n",
      " |-- permalink: string (nullable = true)\n",
      " |-- retrieved_on: string (nullable = true)\n",
      " |-- name: string (nullable = true)\n",
      "\n"
     ]
    }
   ],
   "source": [
    "from pyspark.sql.functions import to_timestamp\n",
    "df = df.withColumn(\"created_utc\", to_timestamp(\"created_utc\", \"yyyy-MM-dd HH:mm:ss z\")) #time format is = \"2018-06-14 16:00:51 UTC\"\n",
    "df.printSchema()"
   ]
  },
  {
   "cell_type": "code",
   "execution_count": 5,
   "metadata": {},
   "outputs": [
    {
     "name": "stdout",
     "output_type": "stream",
     "text": [
      "+-------------------+--------------------+\n",
      "|        created_utc|                body|\n",
      "+-------------------+--------------------+\n",
      "|2018-06-14 16:00:51|Oh yeah it was al...|\n",
      "|2018-06-14 16:06:12|Why are you makin...|\n",
      "|2018-06-14 16:46:15|Don't worry, it'l...|\n",
      "|2018-06-14 16:29:16|Do enough logic w...|\n",
      "|2018-06-14 16:26:52|I decided that no...|\n",
      "|2018-06-14 16:18:36|I think of all th...|\n",
      "|2018-06-14 15:59:12|When will I be ha...|\n",
      "|2018-06-14 15:52:36|Never gonna happe...|\n",
      "|2018-06-14 16:50:15|            Be happy|\n",
      "|2018-06-14 15:56:03|I bet if those mo...|\n",
      "|2018-06-14 16:41:11|In the post-repea...|\n",
      "|2018-06-14 16:19:22|Man I'm happy tha...|\n",
      "|2018-06-14 16:12:32|tell that to the ...|\n",
      "|2018-06-14 16:36:07|Great, plenty of ...|\n",
      "|2018-06-14 16:11:47|[Where's grape ju...|\n",
      "|2018-06-14 16:38:06|Well imo publishe...|\n",
      "|2018-06-14 15:56:27|Friend of mine an...|\n",
      "|2018-06-14 15:51:30|[Seeing You](http...|\n",
      "|2018-06-14 17:00:00|Agree 100%, that’...|\n",
      "|2018-06-14 16:06:08|happy birthday jeff!|\n",
      "+-------------------+--------------------+\n",
      "only showing top 20 rows\n",
      "\n"
     ]
    }
   ],
   "source": [
    "#Convert spark data to be readable using sql queries\n",
    "df.createOrReplaceTempView(\"Reddit\")\n",
    "happy_results = spark.sql(\"SELECT created_utc, body FROM Reddit WHERE body LIKE '%happy%'\")\n",
    "happy_results.show()"
   ]
  },
  {
   "cell_type": "code",
   "execution_count": 6,
   "metadata": {},
   "outputs": [
    {
     "data": {
      "text/plain": [
       "datetime.datetime(2018, 6, 14, 16, 0, 51)"
      ]
     },
     "execution_count": 6,
     "metadata": {},
     "output_type": "execute_result"
    }
   ],
   "source": [
    "python_happy_results = happy_results.collect()\n",
    "python_happy_results[0][0]"
   ]
  },
  {
   "cell_type": "code",
   "execution_count": 7,
   "metadata": {},
   "outputs": [],
   "source": [
    "xamarin_results = spark.sql(\"SELECT created_utc, body FROM Reddit WHERE body LIKE '%xamarin%'\")\n",
    "flutter_results = spark.sql(\"SELECT created_utc, body FROM Reddit WHERE body LIKE '%flutter%'\")\n",
    "react_native_results = spark.sql(\"SELECT created_utc, body FROM Reddit WHERE body LIKE '%react native%'\")\n",
    "#cross_xamarin_flutter_results.show()"
   ]
  },
  {
   "cell_type": "code",
   "execution_count": 8,
   "metadata": {},
   "outputs": [],
   "source": [
    "#collect, convert dates to datetime format for later graphing, and sort data\n",
    "from datetime import datetime\n",
    "python_xamarin_results = xamarin_results.collect()\n",
    "python_xamarin_results_cleaned = [(date, body.encode('ascii',errors='ignore')) for date, body in python_xamarin_results]\n",
    "python_xamarin_results_cleaned.sort()\n"
   ]
  },
  {
   "cell_type": "code",
   "execution_count": 9,
   "metadata": {},
   "outputs": [],
   "source": [
    "#repeat collect, convert dates to datetime format for later graphing, and sort data for flutter results\n",
    "python_flutter_results = flutter_results.collect()\n",
    "python_flutter_results_cleaned = [(date,body.encode('ascii',errors='ignore')) for date, body in python_flutter_results]\n",
    "python_flutter_results_cleaned.sort()"
   ]
  },
  {
   "cell_type": "code",
   "execution_count": 10,
   "metadata": {},
   "outputs": [],
   "source": [
    "#repeat collect, convert dates to datetime format for later graphing, and sort data for react native results\n",
    "python_react_native_results = react_native_results.collect()\n",
    "python_react_native_results_cleaned = [(date,body.encode('ascii',errors='ignore')) for date, body in python_react_native_results]\n",
    "python_react_native_results_cleaned.sort()"
   ]
  },
  {
   "cell_type": "code",
   "execution_count": 11,
   "metadata": {},
   "outputs": [
    {
     "data": {
      "text/plain": [
       "[Row(created_utc=datetime.datetime(2018, 6, 14, 16, 42, 25), body=u'When writing multiplatform apps using frameworks like react native, flutter etc eventually you end up writing lot of native code for each platform to suit the requirements. I think the better way is to write business logic in kotlin for both iOS and Android. And for UI layer use respective native languages. ')]"
      ]
     },
     "execution_count": 11,
     "metadata": {},
     "output_type": "execute_result"
    }
   ],
   "source": [
    "python_react_native_results"
   ]
  },
  {
   "cell_type": "code",
   "execution_count": 12,
   "metadata": {},
   "outputs": [
    {
     "data": {
      "text/plain": [
       "datetime.datetime(2018, 6, 14, 16, 42, 25)"
      ]
     },
     "execution_count": 12,
     "metadata": {},
     "output_type": "execute_result"
    }
   ],
   "source": [
    "python_react_native_results[0][0]"
   ]
  },
  {
   "cell_type": "code",
   "execution_count": 13,
   "metadata": {},
   "outputs": [
    {
     "data": {
      "image/png": "[encoded data removed]",
      "text/plain": [
       "<Figure size 432x288 with 1 Axes>"
      ]
     },
     "metadata": {
      "needs_background": "light"
     },
     "output_type": "display_data"
    },
    {
     "data": {
      "text/plain": [
       "<Figure size 432x288 with 0 Axes>"
      ]
     },
     "metadata": {},
     "output_type": "display_data"
    }
   ],
   "source": [
    "#sort, number, and then graph the data\n",
    "%matplotlib inline\n",
    "import numpy\n",
    "import matplotlib\n",
    "import matplotlib.pyplot as plt\n",
    "count = numpy.arange(len(python_xamarin_results_cleaned))\n",
    "#Date_Data = matplotlib.dates.datestr2num(clean_python_results_utc)\n",
    "Date_Data = []\n",
    "Body_Data = []\n",
    "for date, body in python_xamarin_results_cleaned:\n",
    "    Date_Data.append(date)\n",
    "    Body_Data.append(body)\n",
    "matplotlib.pyplot.plot_date(Date_Data,count,xdate=True, drawstyle = 'steps-pre', linestyle = 'solid' )\n",
    "matplotlib.pyplot.ylabel('Xamarin Mentions')\n",
    "matplotlib.pyplot.title('Reddit Xamarin mentions')\n",
    "plt.show()\n",
    "plt.savefig('Reddit_xamarin.png')"
   ]
  },
  {
   "cell_type": "code",
   "execution_count": 14,
   "metadata": {},
   "outputs": [
    {
     "data": {
      "text/html": [
       "<div>\n",
       "<table border=\"1\" class=\"dataframe\">\n",
       "  <thead>\n",
       "    <tr style=\"text-align: right;\">\n",
       "      <th></th>\n",
       "      <th>body</th>\n",
       "      <th>date</th>\n",
       "    </tr>\n",
       "  </thead>\n",
       "  <tbody>\n",
       "  </tbody>\n",
       "</table>\n",
       "</div>"
      ],
      "text/plain": [
       "Empty DataFrame\n",
       "Columns: [body, date]\n",
       "Index: []"
      ]
     },
     "execution_count": 14,
     "metadata": {},
     "output_type": "execute_result"
    }
   ],
   "source": [
    "import pandas\n",
    "pandas_df = pandas.DataFrame({'date':Date_Data,'body':Body_Data})\n",
    "pandas_df.to_csv(\"Reddit_xamarin.csv\")\n",
    "pandas_df"
   ]
  },
  {
   "cell_type": "code",
   "execution_count": 16,
   "metadata": {},
   "outputs": [],
   "source": [
    "#find flutter posts that already contain xamarin and export to csv\n",
    "#pandas_df[pandas_df['body'].str.contains('flutter')].to_csv('Reddit_xamarin_flutter_cross.csv')"
   ]
  },
  {
   "cell_type": "code",
   "execution_count": 17,
   "metadata": {},
   "outputs": [
    {
     "data": {
      "image/png": "[encoded data removed]",
      "text/plain": [
       "<Figure size 432x288 with 1 Axes>"
      ]
     },
     "metadata": {
      "needs_background": "light"
     },
     "output_type": "display_data"
    },
    {
     "data": {
      "text/plain": [
       "<Figure size 432x288 with 0 Axes>"
      ]
     },
     "metadata": {},
     "output_type": "display_data"
    }
   ],
   "source": [
    "#repeat graphing and later csv export for flutter\n",
    "count = numpy.arange(len(python_flutter_results_cleaned))\n",
    "Date_Data = []\n",
    "Body_Data = []\n",
    "for date, body in python_flutter_results_cleaned:\n",
    "    Date_Data.append(date)\n",
    "    Body_Data.append(body)\n",
    "matplotlib.pyplot.plot_date(Date_Data,count,xdate=True, drawstyle = 'steps-pre', linestyle = 'solid' )\n",
    "matplotlib.pyplot.ylabel('Flutter Mentions')\n",
    "matplotlib.pyplot.title('Reddit Flutter mentions')\n",
    "plt.show()\n",
    "plt.savefig('Reddit_flutter.png')\n",
    "\n",
    "#print csv for flutter\n",
    "pandas_df = pandas.DataFrame({'date':Date_Data,'body':Body_Data})\n",
    "pandas_df.head()\n",
    "pandas_df.to_csv(\"Reddit_flutter.csv\")"
   ]
  },
  {
   "cell_type": "code",
   "execution_count": 18,
   "metadata": {},
   "outputs": [
    {
     "data": {
      "image/png": "[encoded data removed]",
      "text/plain": [
       "<Figure size 432x288 with 1 Axes>"
      ]
     },
     "metadata": {
      "needs_background": "light"
     },
     "output_type": "display_data"
    },
    {
     "data": {
      "text/plain": [
       "<Figure size 432x288 with 0 Axes>"
      ]
     },
     "metadata": {},
     "output_type": "display_data"
    }
   ],
   "source": [
    "#repeat graphing and later csv export for react native\n",
    "count = numpy.arange(len(python_react_native_results_cleaned))\n",
    "Date_Data = []\n",
    "Body_Data = []\n",
    "for date, body in python_react_native_results_cleaned:\n",
    "    Date_Data.append(date)\n",
    "    Body_Data.append(body)\n",
    "matplotlib.pyplot.plot_date(Date_Data,count,xdate=True, drawstyle = 'steps-pre', linestyle = 'solid' )\n",
    "matplotlib.pyplot.ylabel('React Native Mentions')\n",
    "matplotlib.pyplot.title('Reddit React Native mentions')\n",
    "plt.show()\n",
    "plt.savefig('Redditreact_native.png')\n",
    "\n",
    "#print csv for flutter\n",
    "pandas_df = pandas.DataFrame({'date':Date_Data,'body':Body_Data})\n",
    "pandas_df.head()\n",
    "pandas_df.to_csv(\"Reddit_react_native.csv\")"
   ]
  },
  {
   "cell_type": "code",
   "execution_count": null,
   "metadata": {},
   "outputs": [],
   "source": []
  },
  {
   "cell_type": "code",
   "execution_count": null,
   "metadata": {},
   "outputs": [],
   "source": []
  }
 ],
 "metadata": {
  "kernelspec": {
   "display_name": "Python 2",
   "language": "python",
   "name": "python2"
  },
  "language_info": {
   "codemirror_mode": {
    "name": "ipython",
    "version": 2
   },
   "file_extension": ".py",
   "mimetype": "text/x-python",
   "name": "python",
   "nbconvert_exporter": "python",
   "pygments_lexer": "ipython2",
   "version": "2.7.12"
  }
 },
 "nbformat": 4,
 "nbformat_minor": 2
}
