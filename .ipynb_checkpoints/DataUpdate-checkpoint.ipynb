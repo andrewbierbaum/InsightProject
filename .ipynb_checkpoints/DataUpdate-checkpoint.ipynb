{
 "cells": [
  {
   "cell_type": "code",
   "execution_count": 7,
   "metadata": {},
   "outputs": [],
   "source": [
    "\n",
    "\n",
    "import urllib\n",
    "import json\n",
    "from datetime import datetime\n",
    "import sqlite3\n",
    "\n",
    "#set up sql connection to get ready to write the data\n",
    "conn = sqlite3.connect('TechGraph.db')\n",
    "cur = conn.cursor()\n",
    "conn.text_factory = str\n",
    "cur.execute(\"SELECT max(created_utc) FROM Reddit_xamarin\")\n",
    "last_timestamp = cur.fetchall()[0][0]\n",
    "\n",
    "#add indexing to the table to max this max much faster, I don't need to worry about speed loss from having an index as well\n"
   ]
  },
  {
   "cell_type": "code",
   "execution_count": null,
   "metadata": {},
   "outputs": [],
   "source": [
    "last_timestamp"
   ]
  },
  {
   "cell_type": "code",
   "execution_count": null,
   "metadata": {},
   "outputs": [],
   "source": []
  },
  {
   "cell_type": "code",
   "execution_count": 17,
   "metadata": {},
   "outputs": [],
   "source": [
    "#get the data from the web api and load the resulting json into python\n",
    "xamarin_url = \"https://api.pushshift.io/reddit/search/comment/?q=xamarin&after={}&sort=asc&sort_type=created_utc&limit=5000\".format(last_timestamp)\n",
    "xamarin_file = urllib.urlopen(xamarin_url)\n",
    "xamarin_data = xamarin_file.read()\n",
    "xamarin_data_json = json.loads(xamarin_data)"
   ]
  },
  {
   "cell_type": "code",
   "execution_count": 18,
   "metadata": {},
   "outputs": [],
   "source": [
    "\n",
    "cur.execute(\"SELECT count(*) FROM Reddit_xamarin\")\n",
    "cur.fetchall()\n",
    "\n",
    "\n"
   ]
  },
  {
   "cell_type": "code",
   "execution_count": null,
   "metadata": {},
   "outputs": [],
   "source": [
    "cur.execute(\"SELECT sql FROM sqlite_master WHERE name='Reddit_xamarin'\")\n",
    "cur.fetchall()\n",
    "\n",
    "Date_Data = []\n",
    "Id_Data = []\n",
    "Body_Data = []\n",
    "for i in range(len(xamarin_data_json['data'])):\n",
    "    body = xamarin_data_json['data'][i]['body'].encode('ascii',errors='ignore')\n",
    "    date = xamarin_data_json['data'][i]['created_utc']\n",
    "    subreddit_id = xamarin_data_json['data'][i]['subreddit_id']\n",
    "    link_id = xamarin_data_json['data'][i]['link_id']\n",
    "    parent_id = xamarin_data_json['data'][i]['parent_id']\n",
    "    id = xamarin_data_json['data'][i]['id']\n",
    "    subreddit = xamarin_data_json['data'][i]['subreddit']\n",
    "    \n",
    "    query = 'INSERT INTO Reddit_xamarin (body, created_utc, subreddit_id, link_id, parent_id, id, subreddit) values (\"{}\",{},\"{}\",\"{}\",\"{}\",\"{}\",\"{}\")'.format(body,date,subreddit_id,link_id, parent_id, id, subreddit)\n",
    "    cur.execute(query)\n",
    "    \n",
    "cur.execute(\"SELECT count(*) FROM Reddit_xamarin\")\n",
    "cur.fetchall()"
   ]
  },
  {
   "cell_type": "code",
   "execution_count": null,
   "metadata": {},
   "outputs": [],
   "source": [
    "\n",
    "cur.execute(\"SELECT max(created_utc) FROM Reddit_react_native\")\n",
    "last_timestamp = cur.fetchall()[0][0]\n",
    "last_timestamp\n",
    "\n",
    "react_native_url = \"https://api.pushshift.io/reddit/search/comment/?q=react%20native&after={}&sort=asc&sort_type=created_utc&limit=5000\".format(last_timestamp)\n",
    "react_native_file = urllib.urlopen(react_native_url)\n",
    "react_native_data = react_native_file.read()\n",
    "react_native_data_json = json.loads(react_native_data)\n",
    "\n",
    "cur.execute(\"SELECT count(*) FROM Reddit_react_native\")\n",
    "cur.fetchall()\n",
    "\n",
    "\n",
    "Date_Data = []\n",
    "Id_Data = []\n",
    "Body_Data = []\n",
    "for i in range(len(react_native_data_json['data'])):\n",
    "    body = react_native_data_json['data'][i]['body'].encode('ascii',errors='ignore')\n",
    "    date = react_native_data_json['data'][i]['created_utc']\n",
    "    subreddit_id = react_native_data_json['data'][i]['subreddit_id']\n",
    "    link_id = react_native_data_json['data'][i]['link_id']\n",
    "    parent_id = react_native_data_json['data'][i]['parent_id']\n",
    "    id = react_native_data_json['data'][i]['id']\n",
    "    subreddit = react_native_data_json['data'][i]['subreddit']\n",
    "    \n",
    "    \n",
    "    query = 'INSERT INTO Reddit_react_native (body, created_utc, subreddit_id, link_id, parent_id, id, subreddit ) values (\"{}\",{},\"{}\",\"{}\",\"{}\",\"{}\",\"{}\")'.format(body,date,subreddit_id,link_id, parent_id, id, subreddit)\n",
    "    cur.execute(query)\n",
    "    \n",
    "    \n",
    "cur.execute(\"SELECT count(*) FROM Reddit_react_native\")\n",
    "cur.fetchall()"
   ]
  },
  {
   "cell_type": "code",
   "execution_count": null,
   "metadata": {},
   "outputs": [],
   "source": [
    "cur.execute(\"SELECT max(created_utc) FROM Reddit_flutter\")\n",
    "last_timestamp = cur.fetchall()[0][0]\n",
    "last_timestamp"
   ]
  },
  {
   "cell_type": "code",
   "execution_count": null,
   "metadata": {},
   "outputs": [],
   "source": [
    "flutter_url = \"https://api.pushshift.io/reddit/search/comment/?q=flutter&after={}&sort=asc&sort_type=created_utc&limit=10000\".format(last_timestamp)\n",
    "flutter_file = urllib.urlopen(flutter_url)\n",
    "flutter_data = flutter_file.read()\n",
    "flutter_data_json = json.loads(flutter_data)"
   ]
  },
  {
   "cell_type": "code",
   "execution_count": null,
   "metadata": {},
   "outputs": [],
   "source": [
    "\n",
    "len(flutter_data_json['data'])\n",
    "#this is maxing out the amount of data I can scrap. I need to ban subreddits or something\n"
   ]
  },
  {
   "cell_type": "code",
   "execution_count": null,
   "metadata": {},
   "outputs": [],
   "source": [
    "\n",
    "cur.execute(\"SELECT count(*) FROM Reddit_flutter\")\n",
    "cur.fetchall()\n"
   ]
  },
  {
   "cell_type": "code",
   "execution_count": null,
   "metadata": {},
   "outputs": [],
   "source": [
    "\n",
    "Date_Data = []\n",
    "Id_Data = []\n",
    "Body_Data = []\n",
    "for i in range(len(flutter_data_json['data'])):\n",
    "    body = flutter_data_json['data'][i]['body'].encode('ascii',errors='ignore')\n",
    "    date = flutter_data_json['data'][i]['created_utc']\n",
    "    subreddit_id = flutter_data_json['data'][i]['subreddit_id']\n",
    "    link_id = flutter_data_json['data'][i]['link_id']\n",
    "    parent_id = flutter_data_json['data'][i]['parent_id']\n",
    "    id = flutter_data_json['data'][i]['id']\n",
    "    subreddit = flutter_data_json['data'][i]['subreddit']\n",
    "    \n",
    "    query = 'INSERT INTO Reddit_flutter (body, created_utc, subreddit_id, link_id, parent_id, id, subreddit ) values (\"{}\",{},\"{}\",\"{}\",\"{}\",\"{}\",\"{}\")'.format(body,date,subreddit_id,link_id, parent_id, id, subreddit)\n",
    "    cur.execute(query)"
   ]
  },
  {
   "cell_type": "code",
   "execution_count": null,
   "metadata": {},
   "outputs": [],
   "source": [
    "\n",
    "cur.execute(\"SELECT count(*) FROM Reddit_flutter\")\n",
    "cur.fetchall()"
   ]
  },
  {
   "cell_type": "code",
   "execution_count": null,
   "metadata": {},
   "outputs": [],
   "source": [
    "conn.commit()\n",
    "conn.close()"
   ]
  }
 ],
 "metadata": {
  "kernelspec": {
   "display_name": "Python 2",
   "language": "python",
   "name": "python2"
  },
  "language_info": {
   "codemirror_mode": {
    "name": "ipython",
    "version": 2
   },
   "file_extension": ".py",
   "mimetype": "text/x-python",
   "name": "python",
   "nbconvert_exporter": "python",
   "pygments_lexer": "ipython2",
   "version": "2.7.12"
  }
 },
 "nbformat": 4,
 "nbformat_minor": 2
}
