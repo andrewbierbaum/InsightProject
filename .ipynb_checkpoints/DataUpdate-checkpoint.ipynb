{
 "cells": [
  {
   "cell_type": "code",
   "execution_count": 1,
   "metadata": {},
   "outputs": [],
   "source": [
    "import urllib\n",
    "import json\n",
    "from datetime import datetime\n",
    "import sqlite3\n",
    "import pandas\n",
    "\n",
    "#set up sql connection to get ready to write the data\n",
    "conn = sqlite3.connect('TechGraph.db')\n",
    "cur = conn.cursor()\n",
    "conn.text_factory = str\n",
    "cur.execute(\"SELECT max(created_utc) FROM Reddit_xamarin\")\n",
    "last_timestamp = cur.fetchall()[0][0]\n",
    "# last_timestamp\n"
   ]
  },
  {
   "cell_type": "code",
   "execution_count": 14,
   "metadata": {},
   "outputs": [],
   "source": [
    "#get the data from the web api and load the resulting json into python\n",
    "xamarin_url = \"https://api.pushshift.io/reddit/search/comment/?q=xamarin&after={}&sort=asc&sort_type=created_utc&limit=5000\".format(last_timestamp)\n",
    "xamarin_file = urllib.urlopen(xamarin_url)\n",
    "xamarin_data = xamarin_file.read()\n",
    "xamarin_data_json = json.loads(xamarin_data)\n",
    "\n",
    "#this grabs and matches the sql database colums (grabs 1 then delets it)\n",
    "df = pandas.read_sql(\"SELECT * FROM Reddit_xamarin LIMIT 1\", conn, columns = list)\n",
    "df = df.drop([0])\n",
    "\n",
    "#load the JSON data into pandas - this could be done by pandas\n",
    "for i in range(len(xamarin_data_json['data'])):\n",
    "    df.loc[i] = [xamarin_data_json['data'][i]['body'],xamarin_data_json['data'][i]['created_utc'],xamarin_data_json['data'][i]['subreddit_id'],xamarin_data_json['data'][i]['link_id'],xamarin_data_json['data'][i]['parent_id'],xamarin_data_json['data'][i]['id'],xamarin_data_json['data'][i]['subreddit']]\n",
    "\n",
    "#write the upated json data to sql\n",
    "df.to_sql(\"Reddit_xamarin\",conn, if_exists='append', index = False)"
   ]
  },
  {
   "cell_type": "code",
   "execution_count": 18,
   "metadata": {},
   "outputs": [],
   "source": [
    "cur.execute(\"SELECT max(created_utc) FROM Reddit_react_native\")\n",
    "last_timestamp = cur.fetchall()[0][0]\n",
    "\n",
    "react_native_url = \"https://api.pushshift.io/reddit/search/comment/?q=react%20native&after={}&sort=asc&sort_type=created_utc&limit=5000\".format(last_timestamp)\n",
    "react_native_file = urllib.urlopen(react_native_url)\n",
    "react_native_data = react_native_file.read()\n",
    "react_native_data_json = json.loads(react_native_data)\n",
    "\n",
    "df = pandas.read_sql(\"SELECT * FROM Reddit_react_native LIMIT 1\", conn, columns = list)\n",
    "df = df.drop([0])\n",
    "\n",
    "for i in range(len(react_native_data_json['data'])):\n",
    "    df.loc[i] = [react_native_data_json['data'][i]['body'],react_native_data_json['data'][i]['created_utc'],react_native_data_json['data'][i]['subreddit_id'],react_native_data_json['data'][i]['link_id'],react_native_data_json['data'][i]['parent_id'],react_native_data_json['data'][i]['id'],react_native_data_json['data'][i]['subreddit']]\n",
    "\n",
    "df.to_sql(\"Reddit_react_native\",conn, if_exists='append', index = False)"
   ]
  },
  {
   "cell_type": "code",
   "execution_count": null,
   "metadata": {},
   "outputs": [],
   "source": [
    "cur.execute(\"SELECT max(created_utc) FROM Reddit_flutter\")\n",
    "last_timestamp = cur.fetchall()[0][0]\n",
    "last_timestamp\n",
    "\n",
    "flutter_url = \"https://api.pushshift.io/reddit/search/comment/?q=flutter&after={}&sort=asc&sort_type=created_utc&limit=10000\".format(last_timestamp)\n",
    "flutter_file = urllib.urlopen(flutter_url)\n",
    "flutter_data = flutter_file.read()\n",
    "flutter_data_json = json.loads(flutter_data)\n",
    "\n",
    "cur.execute(\"SELECT count(*) FROM Reddit_flutter\")\n",
    "cur.fetchall()\n",
    "\n",
    "for i in range(len(flutter_data_json['data'])):\n",
    "    body = flutter_data_json['data'][i]['body'].encode('ascii',errors='ignore')\n",
    "    date = flutter_data_json['data'][i]['created_utc']\n",
    "    subreddit_id = flutter_data_json['data'][i]['subreddit_id']\n",
    "    link_id = flutter_data_json['data'][i]['link_id']\n",
    "    parent_id = flutter_data_json['data'][i]['parent_id']\n",
    "    id = flutter_data_json['data'][i]['id']\n",
    "    subreddit = flutter_data_json['data'][i]['subreddit']\n",
    "    \n",
    "    query = 'INSERT INTO Reddit_flutter (body, created_utc, subreddit_id, link_id, parent_id, id, subreddit ) values (\"{}\",{},\"{}\",\"{}\",\"{}\",\"{}\",\"{}\")'.format(body,date,subreddit_id,link_id, parent_id, id, subreddit)\n",
    "    cur.execute(query)\n",
    "\n",
    "cur.execute(\"SELECT count(*) FROM Reddit_flutter\")\n",
    "cur.fetchall()"
   ]
  },
  {
   "cell_type": "code",
   "execution_count": null,
   "metadata": {},
   "outputs": [],
   "source": [
    "conn.commit()\n",
    "conn.close()"
   ]
  },
  {
   "cell_type": "code",
   "execution_count": 19,
   "metadata": {},
   "outputs": [],
   "source": []
  },
  {
   "cell_type": "code",
   "execution_count": null,
   "metadata": {},
   "outputs": [],
   "source": []
  }
 ],
 "metadata": {
  "kernelspec": {
   "display_name": "Python 2",
   "language": "python",
   "name": "python2"
  },
  "language_info": {
   "codemirror_mode": {
    "name": "ipython",
    "version": 2
   },
   "file_extension": ".py",
   "mimetype": "text/x-python",
   "name": "python",
   "nbconvert_exporter": "python",
   "pygments_lexer": "ipython2",
   "version": "2.7.12"
  }
 },
 "nbformat": 4,
 "nbformat_minor": 2
}
