{
 "cells": [
  {
   "cell_type": "code",
   "execution_count": 2,
   "metadata": {},
   "outputs": [
    {
     "name": "stdout",
     "output_type": "stream",
     "text": [
      "+--------------------+--------------------+--------------------+--------------------+-----+--------+----+--------------------+--------------------+----------+--------------------+-----------+--------+-------+\n",
      "|                  by|               score|                time|           timestamp|title|    type| url|                text|              parent|   deleted|                dead|descendants|      id|ranking|\n",
      "+--------------------+--------------------+--------------------+--------------------+-----+--------+----+--------------------+--------------------+----------+--------------------+-----------+--------+-------+\n",
      "|             jonpugh|                null|          1470011203|2016-08-01 00:26:...| null| comment|null|I still can&#x27;...|                null|      null|                null|       null|    null|   null|\n",
      "|- The attacker ha...| because they can...|                null|                null| null|    null|null|                null|                null|      null|                null|       null|    null|   null|\n",
      "|- The attacker al...|  after writing this| I realize I coul...| I have no idea w...| null|    null|null|                null|                null|      null|                null|       null|    null|   null|\n",
      "|- The attacker is...|            12198470|                null|                null| null|12199585|null|                null|                null|      null|                null|       null|    null|   null|\n",
      "|       mnemonicsloth|                null|          1283987630|2010-09-08 23:13:...| null| comment|null|\"<a href=\"\"http:/...|            or crime| or sports| unless they're e...|    1673082|    null|   null|\n",
      "|                null|                null|          1464793231|2016-06-01 15:00:...| null| comment|null|                null|            11812488|      true|                null|       null|11814825|   null|\n",
      "|         maxerickson|                null|          1493134717|2017-04-25 15:38:...| null| comment|null|\"First couple min...|            14194417|      null|                null|       null|14194473|   null|\n",
      "|              anamax|                null|          1274194730|2010-05-18 14:58:...| null| comment|null|\"&#62; No, global...| but the response...|   1357545|                null|       null|    null|1357650|\n",
      "|               daken|                null|          1391637065|2014-02-05 21:51:...| null| comment|null|This doesn&#x27;t...|             7186688|      null|                null|       null| 7187079|   null|\n",
      "|             skosuri|                null|          1411588193|2014-09-24 19:49:...| null| comment|null|&gt; the majority...|             8363639|      null|                null|       null| 8363696|   null|\n",
      "+--------------------+--------------------+--------------------+--------------------+-----+--------+----+--------------------+--------------------+----------+--------------------+-----------+--------+-------+\n",
      "only showing top 10 rows\n",
      "\n",
      "None\n"
     ]
    }
   ],
   "source": [
    "from pyspark.sql import SparkSession\n",
    "spark = SparkSession.builder.appName(\"HackerNews\").getOrCreate()\n",
    "\n",
    "#spark = SparkSession.builder.appName(\"HackerNews\").getOrCreate()\n",
    "\n",
    "df = None\n",
    "df = spark.read.csv(\"s3a://andrew-bierbaum-insight-test-dataset/HackerNews/hacker_news_full-00000000*.csv.gz\", header=True)\n",
    "print(df.show(10))"
   ]
  },
  {
   "cell_type": "code",
   "execution_count": 3,
   "metadata": {},
   "outputs": [
    {
     "name": "stdout",
     "output_type": "stream",
     "text": [
      "+----------+--------------------+--------------------+\n",
      "|      time|           timestamp|                text|\n",
      "+----------+--------------------+--------------------+\n",
      "|1176170593|2007-04-10 02:03:...|To be honest the ...|\n",
      "|1176609580|2007-04-15 03:59:...|Avail 1 br close ...|\n",
      "|1177028002|2007-04-20 00:13:...|An inmemory hashm...|\n",
      "|1180482615|2007-05-29 23:50:...|\"looks like web.p...|\n",
      "|1182778239|2007-06-25 13:30:...|As of now, you ca...|\n",
      "|1184510238|2007-07-15 14:37:...|As for the blog i...|\n",
      "|1187900763|2007-08-23 20:26:...|\"The post: <a hre...|\n",
      "|1195527730|2007-11-20 03:02:...|\"Have a look at E...|\n",
      "|1199715395|2008-01-07 14:16:...|\"If we want pytho...|\n",
      "|1200547556|2008-01-17 05:25:...|What is wrong wit...|\n",
      "|1200882149|2008-01-21 02:22:...|If you're thinkin...|\n",
      "|1201408539|2008-01-27 04:35:...|I like it mapping...|\n",
      "|1202088422|2008-02-04 01:27:...|More specifically...|\n",
      "|1202264545|2008-02-06 02:22:...|\"<i>\"\"... I remem...|\n",
      "|1202425231|2008-02-07 23:00:...|I'm a big Erlang ...|\n",
      "|1202443081|2008-02-08 03:58:...|\"Here's a recipe ...|\n",
      "|1203877377|2008-02-24 18:22:...|Wow, I can't beli...|\n",
      "|1204093148|2008-02-27 06:19:...|Unfortunately web...|\n",
      "|1204285640|2008-02-29 11:47:...|I guess the main ...|\n",
      "|1204320110|2008-02-29 21:21:...|The way I've used...|\n",
      "+----------+--------------------+--------------------+\n",
      "only showing top 20 rows\n",
      "\n"
     ]
    }
   ],
   "source": [
    "df.createOrReplaceTempView(\"HackerNews\")\n",
    "#time >1000000000 just filters out 6 bad entries --double chedk this is a good way to do it\n",
    "results = spark.sql(\"SELECT time, timestamp, text FROM HackerNews WHERE text LIKE '% python %' AND time >1000000000 SORT BY time ASC\")\n",
    "results.show()"
   ]
  },
  {
   "cell_type": "code",
   "execution_count": 4,
   "metadata": {},
   "outputs": [],
   "source": [
    "python_results = results.select('time').collect()\n",
    "python_results_timestamp = results.select('timestamp').collect()\n",
    "clean_python_results_timestamp = [i[0] for i in python_results_timestamp]\n",
    "#print(clean_python_results_timestamp)"
   ]
  },
  {
   "cell_type": "code",
   "execution_count": 6,
   "metadata": {},
   "outputs": [
    {
     "name": "stderr",
     "output_type": "stream",
     "text": [
      "/usr/lib/python2.7/dist-packages/matplotlib/font_manager.py:273: UserWarning: Matplotlib is building the font cache using fc-list. This may take a moment.\n",
      "  warnings.warn('Matplotlib is building the font cache using fc-list. This may take a moment.')\n"
     ]
    },
    {
     "ename": "AttributeError",
     "evalue": "'module' object has no attribute 'to_rgba'",
     "output_type": "error",
     "traceback": [
      "\u001b[0;31m---------------------------------------------------------------------------\u001b[0m",
      "\u001b[0;31mAttributeError\u001b[0m                            Traceback (most recent call last)",
      "\u001b[0;32m<ipython-input-6-cec870e1242a>\u001b[0m in \u001b[0;36m<module>\u001b[0;34m()\u001b[0m\n\u001b[1;32m      7\u001b[0m \u001b[0mmatplotlib\u001b[0m\u001b[0;34m.\u001b[0m\u001b[0mpyplot\u001b[0m\u001b[0;34m.\u001b[0m\u001b[0mylabel\u001b[0m\u001b[0;34m(\u001b[0m\u001b[0;34m'Mentions'\u001b[0m\u001b[0;34m)\u001b[0m\u001b[0;34m\u001b[0m\u001b[0m\n\u001b[1;32m      8\u001b[0m \u001b[0mmatplotlib\u001b[0m\u001b[0;34m.\u001b[0m\u001b[0mpyplot\u001b[0m\u001b[0;34m.\u001b[0m\u001b[0mtitle\u001b[0m\u001b[0;34m(\u001b[0m\u001b[0;34m'HackerNews python mentions'\u001b[0m\u001b[0;34m)\u001b[0m\u001b[0;34m\u001b[0m\u001b[0m\n\u001b[0;32m----> 9\u001b[0;31m \u001b[0mplt\u001b[0m\u001b[0;34m.\u001b[0m\u001b[0mshow\u001b[0m\u001b[0;34m(\u001b[0m\u001b[0;34m)\u001b[0m\u001b[0;34m\u001b[0m\u001b[0m\n\u001b[0m\u001b[1;32m     10\u001b[0m \u001b[0mplt\u001b[0m\u001b[0;34m.\u001b[0m\u001b[0msavefig\u001b[0m\u001b[0;34m(\u001b[0m\u001b[0;34m'HackerNews.png'\u001b[0m\u001b[0;34m)\u001b[0m\u001b[0;34m\u001b[0m\u001b[0m\n",
      "\u001b[0;32m/usr/lib/python2.7/dist-packages/matplotlib/pyplot.pyc\u001b[0m in \u001b[0;36mshow\u001b[0;34m(*args, **kw)\u001b[0m\n\u001b[1;32m    242\u001b[0m     \"\"\"\n\u001b[1;32m    243\u001b[0m     \u001b[0;32mglobal\u001b[0m \u001b[0m_show\u001b[0m\u001b[0;34m\u001b[0m\u001b[0m\n\u001b[0;32m--> 244\u001b[0;31m     \u001b[0;32mreturn\u001b[0m \u001b[0m_show\u001b[0m\u001b[0;34m(\u001b[0m\u001b[0;34m*\u001b[0m\u001b[0margs\u001b[0m\u001b[0;34m,\u001b[0m \u001b[0;34m**\u001b[0m\u001b[0mkw\u001b[0m\u001b[0;34m)\u001b[0m\u001b[0;34m\u001b[0m\u001b[0m\n\u001b[0m\u001b[1;32m    245\u001b[0m \u001b[0;34m\u001b[0m\u001b[0m\n\u001b[1;32m    246\u001b[0m \u001b[0;34m\u001b[0m\u001b[0m\n",
      "\u001b[0;32m/home/ubuntu/.local/lib/python2.7/site-packages/ipykernel/pylab/backend_inline.pyc\u001b[0m in \u001b[0;36mshow\u001b[0;34m(close, block)\u001b[0m\n\u001b[1;32m     37\u001b[0m             display(\n\u001b[1;32m     38\u001b[0m                 \u001b[0mfigure_manager\u001b[0m\u001b[0;34m.\u001b[0m\u001b[0mcanvas\u001b[0m\u001b[0;34m.\u001b[0m\u001b[0mfigure\u001b[0m\u001b[0;34m,\u001b[0m\u001b[0;34m\u001b[0m\u001b[0m\n\u001b[0;32m---> 39\u001b[0;31m                 \u001b[0mmetadata\u001b[0m\u001b[0;34m=\u001b[0m\u001b[0m_fetch_figure_metadata\u001b[0m\u001b[0;34m(\u001b[0m\u001b[0mfigure_manager\u001b[0m\u001b[0;34m.\u001b[0m\u001b[0mcanvas\u001b[0m\u001b[0;34m.\u001b[0m\u001b[0mfigure\u001b[0m\u001b[0;34m)\u001b[0m\u001b[0;34m\u001b[0m\u001b[0m\n\u001b[0m\u001b[1;32m     40\u001b[0m             )\n\u001b[1;32m     41\u001b[0m     \u001b[0;32mfinally\u001b[0m\u001b[0;34m:\u001b[0m\u001b[0;34m\u001b[0m\u001b[0m\n",
      "\u001b[0;32m/home/ubuntu/.local/lib/python2.7/site-packages/ipykernel/pylab/backend_inline.pyc\u001b[0m in \u001b[0;36m_fetch_figure_metadata\u001b[0;34m(fig)\u001b[0m\n\u001b[1;32m    172\u001b[0m     \u001b[0;34m\"\"\"Get some metadata to help with displaying a figure.\"\"\"\u001b[0m\u001b[0;34m\u001b[0m\u001b[0m\n\u001b[1;32m    173\u001b[0m     \u001b[0;31m# determine if a background is needed for legibility\u001b[0m\u001b[0;34m\u001b[0m\u001b[0;34m\u001b[0m\u001b[0m\n\u001b[0;32m--> 174\u001b[0;31m     \u001b[0;32mif\u001b[0m \u001b[0m_is_transparent\u001b[0m\u001b[0;34m(\u001b[0m\u001b[0mfig\u001b[0m\u001b[0;34m.\u001b[0m\u001b[0mget_facecolor\u001b[0m\u001b[0;34m(\u001b[0m\u001b[0;34m)\u001b[0m\u001b[0;34m)\u001b[0m\u001b[0;34m:\u001b[0m\u001b[0;34m\u001b[0m\u001b[0m\n\u001b[0m\u001b[1;32m    175\u001b[0m         \u001b[0;31m# the background is transparent\u001b[0m\u001b[0;34m\u001b[0m\u001b[0;34m\u001b[0m\u001b[0m\n\u001b[1;32m    176\u001b[0m         ticksLight = _is_light([label.get_color()\n",
      "\u001b[0;32m/home/ubuntu/.local/lib/python2.7/site-packages/ipykernel/pylab/backend_inline.pyc\u001b[0m in \u001b[0;36m_is_transparent\u001b[0;34m(color)\u001b[0m\n\u001b[1;32m    193\u001b[0m \u001b[0;32mdef\u001b[0m \u001b[0m_is_transparent\u001b[0m\u001b[0;34m(\u001b[0m\u001b[0mcolor\u001b[0m\u001b[0;34m)\u001b[0m\u001b[0;34m:\u001b[0m\u001b[0;34m\u001b[0m\u001b[0m\n\u001b[1;32m    194\u001b[0m     \u001b[0;34m\"\"\"Determine transparency from alpha.\"\"\"\u001b[0m\u001b[0;34m\u001b[0m\u001b[0m\n\u001b[0;32m--> 195\u001b[0;31m     \u001b[0mrgba\u001b[0m \u001b[0;34m=\u001b[0m \u001b[0mcolors\u001b[0m\u001b[0;34m.\u001b[0m\u001b[0mto_rgba\u001b[0m\u001b[0;34m(\u001b[0m\u001b[0mcolor\u001b[0m\u001b[0;34m)\u001b[0m\u001b[0;34m\u001b[0m\u001b[0m\n\u001b[0m\u001b[1;32m    196\u001b[0m     \u001b[0;32mreturn\u001b[0m \u001b[0mrgba\u001b[0m\u001b[0;34m[\u001b[0m\u001b[0;36m3\u001b[0m\u001b[0;34m]\u001b[0m \u001b[0;34m<\u001b[0m \u001b[0;36m.5\u001b[0m\u001b[0;34m\u001b[0m\u001b[0m\n",
      "\u001b[0;31mAttributeError\u001b[0m: 'module' object has no attribute 'to_rgba'"
     ]
    }
   ],
   "source": [
    "import numpy\n",
    "import matplotlib\n",
    "import matplotlib.pyplot as plt\n",
    "count = numpy.arange(len(clean_python_results_timestamp))\n",
    "Date_Data = matplotlib.dates.datestr2num(clean_python_results_timestamp)\n",
    "matplotlib.pyplot.plot_date(Date_Data,count,xdate=True, drawstyle = 'steps-pre', linestyle = 'solid' )\n",
    "matplotlib.pyplot.ylabel('Mentions')\n",
    "matplotlib.pyplot.title('HackerNews python mentions')\n",
    "plt.show()\n",
    "plt.savefig('HackerNews.png')\n"
   ]
  },
  {
   "cell_type": "code",
   "execution_count": null,
   "metadata": {},
   "outputs": [],
   "source": []
  }
 ],
 "metadata": {
  "kernelspec": {
   "display_name": "Python 2",
   "language": "python",
   "name": "python2"
  },
  "language_info": {
   "codemirror_mode": {
    "name": "ipython",
    "version": 2
   },
   "file_extension": ".py",
   "mimetype": "text/x-python",
   "name": "python",
   "nbconvert_exporter": "python",
   "pygments_lexer": "ipython2",
   "version": "2.7.12"
  }
 },
 "nbformat": 4,
 "nbformat_minor": 2
}
