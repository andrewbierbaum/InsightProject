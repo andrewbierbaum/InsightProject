{
 "cells": [
  {
   "cell_type": "code",
   "execution_count": 1,
   "metadata": {},
   "outputs": [],
   "source": [
    "#sparting spark and reading Reddit\n",
    "from pyspark.sql import SparkSession\n",
    "spark = SparkSession.builder.appName(\"Reddit\").getOrCreate()\n",
    "df = None\n",
    "df = spark.read.csv(\"s3a://andrew-bierbaum-insight-test-dataset/Reddit/Reddit_Comments_2011*.csv.gz\", header=True,multiLine=True, escape='\"')\n"
   ]
  },
  {
   "cell_type": "code",
   "execution_count": 2,
   "metadata": {},
   "outputs": [
    {
     "name": "stdout",
     "output_type": "stream",
     "text": [
      "+--------------------+------------+--------+----------+---------+-----------------+-----+-----------+------------+--------+----------+-----+------------+----------------+------+-------+---------+---+-------------+----------------------+--------------+\n",
      "|                body|score_hidden|archived|      name|   author|author_flair_text|downs|created_utc|subreddit_id| link_id| parent_id|score|retrieved_on|controversiality|gilded|     id|subreddit|ups|distinguished|author_flair_css_class|removal_reason|\n",
      "+--------------------+------------+--------+----------+---------+-----------------+-----+-----------+------------+--------+----------+-----+------------+----------------+------+-------+---------+---+-------------+----------------------+--------------+\n",
      "|Richtig, es geht ...|       false|    true|t1_c35plz4|[deleted]|             null|    0| 1323161654|     t5_22i0|t3_n1bte|t1_c35hgrf|    0|  1427980714|               0|     0|c35plz4|       de|  0|         null|                  null|          null|\n",
      "|Gpap ist demokrat...|       false|    true|t1_c2w8pz1|   cinocu|             null|    0| 1320186438|     t5_22i0|t3_lwwyg|  t3_lwwyg|    0|  1427815973|               0|     0|c2w8pz1|       de|  0|         null|                  null|          null|\n",
      "|&gt; Die neue chr...|       false|    true|t1_c2z15a6|  barsoap|        Noordland|    0| 1321036405|     t5_22i0|t3_m8pig|t1_c2z0thm|    0|  1427864645|               0|     0|c2z15a6|       de|  0|         null|                  NOOR|          null|\n",
      "|Ich bedanke mich ...|       false|    true|t1_c1o8iuo|the-knife|             null|    0| 1302177154|     t5_22i0|t3_gkmbm|t1_c1o8hk3|    0|  1427046356|               0|     0|c1o8iuo|       de|  0|         null|                  null|          null|\n",
      "|           [deleted]|       false|    true|t1_c1zuj9w|[deleted]|             null|    0| 1308155463|     t5_22i0|t3_hzq06|t1_c1ztyh5|    0|  1427248088|               0|     0|c1zuj9w|       de|  0|         null|                  null|          null|\n",
      "+--------------------+------------+--------+----------+---------+-----------------+-----+-----------+------------+--------+----------+-----+------------+----------------+------+-------+---------+---+-------------+----------------------+--------------+\n",
      "only showing top 5 rows\n",
      "\n",
      "root\n",
      " |-- body: string (nullable = true)\n",
      " |-- score_hidden: string (nullable = true)\n",
      " |-- archived: string (nullable = true)\n",
      " |-- name: string (nullable = true)\n",
      " |-- author: string (nullable = true)\n",
      " |-- author_flair_text: string (nullable = true)\n",
      " |-- downs: string (nullable = true)\n",
      " |-- created_utc: string (nullable = true)\n",
      " |-- subreddit_id: string (nullable = true)\n",
      " |-- link_id: string (nullable = true)\n",
      " |-- parent_id: string (nullable = true)\n",
      " |-- score: string (nullable = true)\n",
      " |-- retrieved_on: string (nullable = true)\n",
      " |-- controversiality: string (nullable = true)\n",
      " |-- gilded: string (nullable = true)\n",
      " |-- id: string (nullable = true)\n",
      " |-- subreddit: string (nullable = true)\n",
      " |-- ups: string (nullable = true)\n",
      " |-- distinguished: string (nullable = true)\n",
      " |-- author_flair_css_class: string (nullable = true)\n",
      " |-- removal_reason: string (nullable = true)\n",
      "\n"
     ]
    }
   ],
   "source": [
    "\n",
    "#showing the start of the data and format\n",
    "df.show(5)\n",
    "df.printSchema()"
   ]
  },
  {
   "cell_type": "code",
   "execution_count": 3,
   "metadata": {},
   "outputs": [],
   "source": [
    "# #Convert spark data to be readable using sql queries and query for the keyword terms\n",
    "df.createOrReplaceTempView(\"Reddit\")\n",
    "xamarin_results = spark.sql(\"SELECT created_utc,link_id,  body FROM Reddit WHERE body RLIKE 'xamarin|Xamarin'\")\n",
    "flutter_results = spark.sql(\"SELECT created_utc, body FROM Reddit WHERE body RLIKE 'flutter|Flutter'\")\n",
    "react_native_results = spark.sql(\"SELECT created_utc, body FROM Reddit WHERE body RLIKE 'react native|React native'\")"
   ]
  },
  {
   "cell_type": "code",
   "execution_count": 4,
   "metadata": {},
   "outputs": [
    {
     "name": "stdout",
     "output_type": "stream",
     "text": [
      "+-----------+--------------------+\n",
      "|created_utc|                body|\n",
      "+-----------+--------------------+\n",
      "| 1315113994|As much as I enjo...|\n",
      "| 1311721933|I remember ferven...|\n",
      "| 1317357839|Not quite flutter...|\n",
      "| 1297061315|Pick someone. Ask...|\n",
      "| 1320253338|We'd had an amazi...|\n",
      "| 1325283492|S'okay, we've spa...|\n",
      "| 1310041003|I don't agree wit...|\n",
      "| 1323901634|I'm sure Flutters...|\n",
      "| 1324962558|[](/b02 \"Where am...|\n",
      "| 1313910798|http://flankbook....|\n",
      "| 1323169614|Sadly dash isnt o...|\n",
      "| 1315631627|Yes it is.  I hap...|\n",
      "| 1310175884|As soon as the ca...|\n",
      "| 1318207656|[](/flutterblush ...|\n",
      "| 1306376707|My order: Rainbow...|\n",
      "| 1322238370|[](/flutteryay \"I...|\n",
      "| 1322787183|[](/fluttershh \"B...|\n",
      "| 1325231493|[](/loveme) tirin...|\n",
      "| 1324230053|Also, you can nev...|\n",
      "| 1319309243|[](/flutterwink) ...|\n",
      "+-----------+--------------------+\n",
      "only showing top 20 rows\n",
      "\n"
     ]
    }
   ],
   "source": [
    "#Test output\n",
    "flutter_results.show()"
   ]
  },
  {
   "cell_type": "code",
   "execution_count": 5,
   "metadata": {},
   "outputs": [
    {
     "ename": "ValueError",
     "evalue": "too many values to unpack",
     "output_type": "error",
     "traceback": [
      "\u001b[0;31m---------------------------------------------------------------------------\u001b[0m",
      "\u001b[0;31mValueError\u001b[0m                                Traceback (most recent call last)",
      "\u001b[0;32m<ipython-input-5-fe6ebf818040>\u001b[0m in \u001b[0;36m<module>\u001b[0;34m()\u001b[0m\n\u001b[1;32m      6\u001b[0m \u001b[0;34m\u001b[0m\u001b[0m\n\u001b[1;32m      7\u001b[0m \u001b[0mpython_xamarin_results\u001b[0m \u001b[0;34m=\u001b[0m \u001b[0mxamarin_results\u001b[0m\u001b[0;34m.\u001b[0m\u001b[0mcollect\u001b[0m\u001b[0;34m(\u001b[0m\u001b[0;34m)\u001b[0m\u001b[0;34m\u001b[0m\u001b[0m\n\u001b[0;32m----> 8\u001b[0;31m \u001b[0mpython_xamarin_results_cleaned\u001b[0m \u001b[0;34m=\u001b[0m \u001b[0;34m[\u001b[0m\u001b[0;34m(\u001b[0m\u001b[0mdatetime\u001b[0m\u001b[0;34m.\u001b[0m\u001b[0mfromtimestamp\u001b[0m\u001b[0;34m(\u001b[0m\u001b[0mfloat\u001b[0m\u001b[0;34m(\u001b[0m\u001b[0mdate\u001b[0m\u001b[0;34m)\u001b[0m\u001b[0;34m)\u001b[0m\u001b[0;34m,\u001b[0m \u001b[0mbody\u001b[0m\u001b[0;34m.\u001b[0m\u001b[0mencode\u001b[0m\u001b[0;34m(\u001b[0m\u001b[0;34m'ascii'\u001b[0m\u001b[0;34m,\u001b[0m\u001b[0merrors\u001b[0m\u001b[0;34m=\u001b[0m\u001b[0;34m'ignore'\u001b[0m\u001b[0;34m)\u001b[0m\u001b[0;34m)\u001b[0m \u001b[0;32mfor\u001b[0m \u001b[0mdate\u001b[0m\u001b[0;34m,\u001b[0m \u001b[0mbody\u001b[0m \u001b[0;32min\u001b[0m \u001b[0mpython_xamarin_results\u001b[0m\u001b[0;34m]\u001b[0m\u001b[0;34m\u001b[0m\u001b[0m\n\u001b[0m\u001b[1;32m      9\u001b[0m \u001b[0mpython_xamarin_results_cleaned\u001b[0m\u001b[0;34m.\u001b[0m\u001b[0msort\u001b[0m\u001b[0;34m(\u001b[0m\u001b[0;34m)\u001b[0m\u001b[0;34m\u001b[0m\u001b[0m\n\u001b[1;32m     10\u001b[0m \u001b[0;34m\u001b[0m\u001b[0m\n",
      "\u001b[0;31mValueError\u001b[0m: too many values to unpack"
     ]
    }
   ],
   "source": [
    "#collect, convert dates to datetime format for later graphing, and sort data\n",
    "from datetime import datetime\n",
    "python_flutter_results = flutter_results.collect()\n",
    "python_flutter_results_cleaned = [(datetime.fromtimestamp(float(date)),body.encode('ascii',errors='ignore')) for date, body in python_flutter_results]\n",
    "python_flutter_results_cleaned.sort()\n",
    "\n",
    "python_xamarin_results = xamarin_results.collect()\n",
    "python_xamarin_results_cleaned = [(datetime.fromtimestamp(float(date)), body.encode('ascii',errors='ignore')) for date, body in python_xamarin_results]\n",
    "python_xamarin_results_cleaned.sort()\n",
    "\n",
    "python_react_native_results = react_native_results.collect()\n",
    "python_react_native_results_cleaned = [(datetime.fromtimestamp(float(date)),body.encode('ascii',errors='ignore')) for date, body in python_react_native_results]\n",
    "python_react_native_results_cleaned.sort()"
   ]
  },
  {
   "cell_type": "code",
   "execution_count": null,
   "metadata": {},
   "outputs": [],
   "source": [
    "#sort, number, and then graph the data\n",
    "%matplotlib inline\n",
    "import numpy\n",
    "import matplotlib\n",
    "import matplotlib.pyplot as plt\n",
    "import pandas\n",
    "# import sqlite3\n",
    "\n",
    "# conn = sqlite3.connect('Reddit.db')\n",
    "# cur = conn.cursor()\n",
    "# DATASET_COLUMNS = [\"count\",\"body\",\"date\"]\n",
    "# cur.execute(\"CREATE TABLE IF NOT EXISTS reddit (date FLOAT PRIMARY KEY, body , date DATETIME);\")\n",
    "# cur.execute(\"CREATE TABLE twitter (target, ids, date, flag, user,text);\")\n",
    "\n",
    "# #https://pandas.pydata.org/pandas-docs/stable/reference/api/pandas.read_csv.html\n",
    "# #https://www.kaggle.com/kazanova/sentiment140/version/2\n",
    "# df = pandas.read_csv('TwitterSmall.csv', encoding='ISO-8859-1', names=DATASET_COLUMNS)\n",
    "\n",
    "#testing to see if loading is working\n",
    "#print(len(df))\n",
    "#print(df.head(5))\n",
    "df.to_sql('twitter', conn, if_exists='replace', index=False)\n",
    "#don't rebuild the table if it already exists\n",
    "cur.execute(\"SELECT count(*) FROM sqlite_master WHERE type ='table'\")\n",
    "if cur.fetchall()[0] == 0:\n",
    "    cur.execute(\"CREATE TABLE twitter (target, ids, date, flag, user,text);\")\n",
    "    #read the csv  \n",
    "    df = pandas.read_csv('TwitterSmall.csv', encoding='ISO-8859-1', names=DATASET_COLUMNS)\n",
    "    #load into sql\n",
    "    df.to_sql('twitter', conn, if_exists='replace', index=False)\n",
    "\n",
    "#do SQL query and fetch results\n",
    "cur.execute(\"SELECT date FROM twitter WHERE text LIKE '%c++%'\")\n",
    "times = cur.fetchall()\n",
    "cleantime = [i[0] for i in times]\n",
    "\n",
    "#clean data (data,) - has a useless touple & produce a count\n",
    "cleantime = [i[0] for i in times]\n",
    "#print(times)\n",
    "count = numpy.arange(len(cleantime))"
   ]
  },
  {
   "cell_type": "code",
   "execution_count": null,
   "metadata": {},
   "outputs": [],
   "source": [
    "#graphing and later csv export for flutter\n",
    "count = numpy.arange(len(python_flutter_results_cleaned))\n",
    "Date_Data = []\n",
    "Body_Data = []\n",
    "for date, body in python_flutter_results_cleaned:\n",
    "    Date_Data.append(date)\n",
    "    Body_Data.append(body)\n",
    "matplotlib.pyplot.plot_date(Date_Data,count,xdate=True, drawstyle = 'steps-pre', linestyle = 'solid' )\n",
    "matplotlib.pyplot.ylabel('Flutter Mentions')\n",
    "matplotlib.pyplot.title('Reddit Flutter mentions')\n",
    "plt.show()\n",
    "plt.savefig('Reddit_flutter.png')\n",
    "\n",
    "#print csv for flutter\n",
    "pandas_df = pandas.DataFrame({'date':Date_Data,'body':Body_Data})\n",
    "with open('Reddit_flutter.csv', 'a') as f:\n",
    "    pandas_df.to_csv(f, header=False)"
   ]
  },
  {
   "cell_type": "code",
   "execution_count": null,
   "metadata": {},
   "outputs": [],
   "source": [
    "#graphing and later csv export for xamarin\n",
    "count = numpy.arange(len(python_xamarin_results_cleaned))\n",
    "Date_Data = []\n",
    "Body_Data = []\n",
    "for date, body in python_xamarin_results_cleaned:\n",
    "    Date_Data.append(date)\n",
    "    Body_Data.append(body)\n",
    "matplotlib.pyplot.plot_date(Date_Data,count,xdate=True, drawstyle = 'steps-pre', linestyle = 'solid' )\n",
    "matplotlib.pyplot.ylabel('Xamarin Mentions')\n",
    "matplotlib.pyplot.title('Reddit Xamarin mentions')\n",
    "plt.show()\n",
    "plt.savefig('Reddit_xamarin.png')\n",
    "\n",
    "#print csv for xamarin\n",
    "pandas_df = pandas.DataFrame({'date':Date_Data,'body':Body_Data})\n",
    "with open('Reddit_xamarin.csv', 'a') as f:\n",
    "    pandas_df.to_csv(f, header=False)"
   ]
  },
  {
   "cell_type": "code",
   "execution_count": null,
   "metadata": {},
   "outputs": [],
   "source": [
    "#repeat graphing and later csv export for react native\n",
    "count = numpy.arange(len(python_react_native_results_cleaned))\n",
    "Date_Data = []\n",
    "Body_Data = []\n",
    "for date, body in python_react_native_results_cleaned:\n",
    "    Date_Data.append(date)\n",
    "    Body_Data.append(body)\n",
    "matplotlib.pyplot.plot_date(Date_Data,count,xdate=True, drawstyle = 'steps-pre', linestyle = 'solid' )\n",
    "matplotlib.pyplot.ylabel('React Native Mentions')\n",
    "matplotlib.pyplot.title('Reddit React Native mentions')\n",
    "plt.show()\n",
    "plt.savefig('Reddit_react_native.png')\n",
    "\n",
    "#print csv for react native\n",
    "pandas_df = pandas.DataFrame({'date':Date_Data,'body':Body_Data})\n",
    "with open('Reddit_react_native.csv', 'a') as f:\n",
    "    pandas_df.to_csv(f, header=False)"
   ]
  },
  {
   "cell_type": "code",
   "execution_count": null,
   "metadata": {},
   "outputs": [],
   "source": []
  },
  {
   "cell_type": "code",
   "execution_count": null,
   "metadata": {},
   "outputs": [],
   "source": []
  }
 ],
 "metadata": {
  "kernelspec": {
   "display_name": "Python 2",
   "language": "python",
   "name": "python2"
  },
  "language_info": {
   "codemirror_mode": {
    "name": "ipython",
    "version": 2
   },
   "file_extension": ".py",
   "mimetype": "text/x-python",
   "name": "python",
   "nbconvert_exporter": "python",
   "pygments_lexer": "ipython2",
   "version": "2.7.12"
  }
 },
 "nbformat": 4,
 "nbformat_minor": 2
}
