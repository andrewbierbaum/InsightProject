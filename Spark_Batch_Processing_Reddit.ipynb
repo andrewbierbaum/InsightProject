{
 "cells": [
  {
   "cell_type": "code",
   "execution_count": 1,
   "metadata": {},
   "outputs": [],
   "source": [
    "#sparting spark and reading Reddit\n",
    "from pyspark.sql import SparkSession\n",
    "spark = SparkSession.builder.appName(\"Reddit\").getOrCreate()\n",
    "df = None\n",
    "df = spark.read.csv(\"s3a://andrew-bierbaum-insight-test-dataset/Reddit/Reddit_Comments_2005*.csv.gz\", header=True,multiLine=True, escape='\"')"
   ]
  },
  {
   "cell_type": "code",
   "execution_count": 3,
   "metadata": {},
   "outputs": [
    {
     "name": "stdout",
     "output_type": "stream",
     "text": [
      "+--------------------+------------+--------+----------+--------------+-----------------+-----+-----------+------------+--------+----------+-----+------------+----------------+------+-------+----------+---+-------------+----------------------+--------------+\n",
      "|                body|score_hidden|archived|      name|        author|author_flair_text|downs|created_utc|subreddit_id| link_id| parent_id|score|retrieved_on|controversiality|gilded|     id| subreddit|ups|distinguished|author_flair_css_class|removal_reason|\n",
      "+--------------------+------------+--------+----------+--------------+-----------------+-----+-----------+------------+--------+----------+-----+------------+----------------+------+-------+----------+---+-------------+----------------------+--------------+\n",
      "|How do you know w...|       false|    true|t1_c0a8131|   GeorgeWatts|             null|    0| 1244751403|        t5_6|t3_8rr0t|t1_c0a80pt|    0|  1425983671|               0|     0|c0a8131|reddit.com|  0|         null|                  null|          null|\n",
      "|I don't know anyo...|       false|    true|t1_c0a814x|   windynights|             null|    0| 1244751496|        t5_6|t3_8rrk8|  t3_8rrk8|    0|  1425983672|               0|     0|c0a814x|reddit.com|  0|         null|                  null|          null|\n",
      "|i know he comes f...|       false|    true|t1_c0a8389|   shootdashit|             null|    0| 1244755193|        t5_6|t3_8rrcs|t1_c0a819j|    0|  1425983700|               0|     0|c0a8389|reddit.com|  0|         null|                  null|          null|\n",
      "|               piitb|       false|    true|t1_c0gpkfk|Delicious_Dish|             null|    0| 1259966579|        t5_6|t3_ab89d|  t3_ab89d|    0|  1426149183|               0|     0|c0gpkfk|reddit.com|  0|         null|                  null|          null|\n",
      "|Please stop linki...|       false|    true|t1_c0gpydl|  Don_Quijoder|             null|    0| 1259982989|        t5_6|t3_aba8z|  t3_aba8z|    0|  1426149364|               0|     0|c0gpydl|reddit.com|  0|         null|                  null|          null|\n",
      "+--------------------+------------+--------+----------+--------------+-----------------+-----+-----------+------------+--------+----------+-----+------------+----------------+------+-------+----------+---+-------------+----------------------+--------------+\n",
      "only showing top 5 rows\n",
      "\n",
      "root\n",
      " |-- body: string (nullable = true)\n",
      " |-- score_hidden: string (nullable = true)\n",
      " |-- archived: string (nullable = true)\n",
      " |-- name: string (nullable = true)\n",
      " |-- author: string (nullable = true)\n",
      " |-- author_flair_text: string (nullable = true)\n",
      " |-- downs: string (nullable = true)\n",
      " |-- created_utc: string (nullable = true)\n",
      " |-- subreddit_id: string (nullable = true)\n",
      " |-- link_id: string (nullable = true)\n",
      " |-- parent_id: string (nullable = true)\n",
      " |-- score: string (nullable = true)\n",
      " |-- retrieved_on: string (nullable = true)\n",
      " |-- controversiality: string (nullable = true)\n",
      " |-- gilded: string (nullable = true)\n",
      " |-- id: string (nullable = true)\n",
      " |-- subreddit: string (nullable = true)\n",
      " |-- ups: string (nullable = true)\n",
      " |-- distinguished: string (nullable = true)\n",
      " |-- author_flair_css_class: string (nullable = true)\n",
      " |-- removal_reason: string (nullable = true)\n",
      "\n"
     ]
    }
   ],
   "source": [
    "#showing the start of the data and format\n",
    "df.show(5)\n",
    "df.printSchema()"
   ]
  },
  {
   "cell_type": "code",
   "execution_count": 6,
   "metadata": {},
   "outputs": [],
   "source": [
    "# #Convert spark data to be readable using sql queries and query for the keyword terms\n",
    "df.createOrReplaceTempView(\"Reddit\")\n",
    "xamarin_results = spark.sql(\"SELECT created_utc, body FROM Reddit WHERE body RLIKE 'xamarin|Xamarin'\")\n",
    "flutter_results = spark.sql(\"SELECT created_utc, body FROM Reddit WHERE body RLIKE 'flutter|Flutter'\")\n",
    "react_native_results = spark.sql(\"SELECT created_utc, body FROM Reddit WHERE body RLIKE 'react native|React native'\")"
   ]
  },
  {
   "cell_type": "code",
   "execution_count": 7,
   "metadata": {},
   "outputs": [
    {
     "name": "stdout",
     "output_type": "stream",
     "text": [
      "+-----------+--------------------+\n",
      "|created_utc|                body|\n",
      "+-----------+--------------------+\n",
      "| 1250643132|The continuation ...|\n",
      "| 1253685639|No, you make it s...|\n",
      "| 1253219098|I was driving up ...|\n",
      "| 1261437369|There was an Indi...|\n",
      "| 1261950873|I have a contact ...|\n",
      "| 1259575222|Many cat collars ...|\n",
      "| 1248296315|The record head s...|\n",
      "| 1259606954|its always a bask...|\n",
      "| 1245787883|And you combine t...|\n",
      "| 1253635002|You're thinking o...|\n",
      "| 1244736750|this is totally f...|\n",
      "| 1252444675|[You](http://www....|\n",
      "| 1249495520|He had enough qua...|\n",
      "| 1246054883|Cross posting fro...|\n",
      "| 1254295997|*flutters eyes an...|\n",
      "| 1256451010|since feeling is ...|\n",
      "| 1262291600|Oh yeah. Flutteri...|\n",
      "| 1237931216|I always get a li...|\n",
      "| 1231259897|one of the things...|\n",
      "| 1247733207|They'd be better ...|\n",
      "+-----------+--------------------+\n",
      "only showing top 20 rows\n",
      "\n"
     ]
    }
   ],
   "source": [
    "#Test output\n",
    "flutter_results.show()"
   ]
  },
  {
   "cell_type": "code",
   "execution_count": 8,
   "metadata": {},
   "outputs": [],
   "source": [
    "#collect, convert dates to datetime format for later graphing, and sort data\n",
    "from datetime import datetime\n",
    "python_flutter_results = flutter_results.collect()\n",
    "python_flutter_results_cleaned = [(datetime.fromtimestamp(float(date)),body.encode('ascii',errors='ignore')) for date, body in python_flutter_results]\n",
    "python_flutter_results_cleaned.sort()\n",
    "\n",
    "python_xamarin_results = xamarin_results.collect()\n",
    "python_xamarin_results_cleaned = [(datetime.fromtimestamp(float(date)), body.encode('ascii',errors='ignore')) for date, body in python_xamarin_results]\n",
    "python_xamarin_results_cleaned.sort()\n",
    "\n",
    "python_react_native_results = react_native_results.collect()\n",
    "python_react_native_results_cleaned = [(datetime.fromtimestamp(float(date)),body.encode('ascii',errors='ignore')) for date, body in python_react_native_results]\n",
    "python_react_native_results_cleaned.sort()"
   ]
  },
  {
   "cell_type": "code",
   "execution_count": 11,
   "metadata": {},
   "outputs": [],
   "source": [
    "#sort, number, and then graph the data\n",
    "%matplotlib inline\n",
    "import numpy\n",
    "import matplotlib\n",
    "import matplotlib.pyplot as plt\n",
    "import pandas\n",
    "# import sqlite3\n",
    "\n",
    "# conn = sqlite3.connect('Reddit.db')\n",
    "# cur = conn.cursor()\n",
    "# DATASET_COLUMNS = [\"count\",\"body\",\"date\"]\n",
    "# cur.execute(\"CREATE TABLE IF NOT EXISTS reddit (date FLOAT PRIMARY KEY, body , date DATETIME);\")\n",
    "# cur.execute(\"CREATE TABLE twitter (target, ids, date, flag, user,text);\")\n",
    "\n",
    "# #https://pandas.pydata.org/pandas-docs/stable/reference/api/pandas.read_csv.html\n",
    "# #https://www.kaggle.com/kazanova/sentiment140/version/2\n",
    "# df = pandas.read_csv('TwitterSmall.csv', encoding='ISO-8859-1', names=DATASET_COLUMNS)\n",
    "\n",
    "#testing to see if loading is working\n",
    "#print(len(df))\n",
    "#print(df.head(5))\n",
    "df.to_sql('twitter', conn, if_exists='replace', index=False)\n",
    "#don't rebuild the table if it already exists\n",
    "cur.execute(\"SELECT count(*) FROM sqlite_master WHERE type ='table'\")\n",
    "if cur.fetchall()[0] == 0:\n",
    "    cur.execute(\"CREATE TABLE twitter (target, ids, date, flag, user,text);\")\n",
    "    #read the csv  \n",
    "    df = pandas.read_csv('TwitterSmall.csv', encoding='ISO-8859-1', names=DATASET_COLUMNS)\n",
    "    #load into sql\n",
    "    df.to_sql('twitter', conn, if_exists='replace', index=False)\n",
    "\n",
    "#do SQL query and fetch results\n",
    "cur.execute(\"SELECT date FROM twitter WHERE text LIKE '%c++%'\")\n",
    "times = cur.fetchall()\n",
    "cleantime = [i[0] for i in times]\n",
    "\n",
    "#clean data (data,) - has a useless touple & produce a count\n",
    "cleantime = [i[0] for i in times]\n",
    "#print(times)\n",
    "count = numpy.arange(len(cleantime))"
   ]
  },
  {
   "cell_type": "code",
   "execution_count": 12,
   "metadata": {},
   "outputs": [
    {
     "data": {
      "image/png": "[encoded data removed]",
      "text/plain": [
       "<Figure size 432x288 with 1 Axes>"
      ]
     },
     "metadata": {
      "needs_background": "light"
     },
     "output_type": "display_data"
    },
    {
     "data": {
      "text/plain": [
       "<Figure size 432x288 with 0 Axes>"
      ]
     },
     "metadata": {},
     "output_type": "display_data"
    }
   ],
   "source": [
    "#graphing and later csv export for flutter\n",
    "count = numpy.arange(len(python_flutter_results_cleaned))\n",
    "Date_Data = []\n",
    "Body_Data = []\n",
    "for date, body in python_flutter_results_cleaned:\n",
    "    Date_Data.append(date)\n",
    "    Body_Data.append(body)\n",
    "matplotlib.pyplot.plot_date(Date_Data,count,xdate=True, drawstyle = 'steps-pre', linestyle = 'solid' )\n",
    "matplotlib.pyplot.ylabel('Flutter Mentions')\n",
    "matplotlib.pyplot.title('Reddit Flutter mentions')\n",
    "plt.show()\n",
    "plt.savefig('Reddit_flutter.png')\n",
    "\n",
    "#print csv for flutter\n",
    "pandas_df = pandas.DataFrame({'date':Date_Data,'body':Body_Data})\n",
    "with open('Reddit_flutter.csv', 'a') as f:\n",
    "    pandas_df.to_csv(f, header=False)"
   ]
  },
  {
   "cell_type": "code",
   "execution_count": 13,
   "metadata": {},
   "outputs": [
    {
     "data": {
      "image/png": "[encoded data removed]",
      "text/plain": [
       "<Figure size 432x288 with 1 Axes>"
      ]
     },
     "metadata": {
      "needs_background": "light"
     },
     "output_type": "display_data"
    },
    {
     "data": {
      "text/plain": [
       "<Figure size 432x288 with 0 Axes>"
      ]
     },
     "metadata": {},
     "output_type": "display_data"
    }
   ],
   "source": [
    "#graphing and later csv export for xamarin\n",
    "count = numpy.arange(len(python_xamarin_results_cleaned))\n",
    "Date_Data = []\n",
    "Body_Data = []\n",
    "for date, body in python_xamarin_results_cleaned:\n",
    "    Date_Data.append(date)\n",
    "    Body_Data.append(body)\n",
    "matplotlib.pyplot.plot_date(Date_Data,count,xdate=True, drawstyle = 'steps-pre', linestyle = 'solid' )\n",
    "matplotlib.pyplot.ylabel('Xamarin Mentions')\n",
    "matplotlib.pyplot.title('Reddit Xamarin mentions')\n",
    "plt.show()\n",
    "plt.savefig('Reddit_xamarin.png')\n",
    "\n",
    "#print csv for xamarin\n",
    "pandas_df = pandas.DataFrame({'date':Date_Data,'body':Body_Data})\n",
    "with open('Reddit_xamarin.csv', 'a') as f:\n",
    "    pandas_df.to_csv(f, header=False)"
   ]
  },
  {
   "cell_type": "code",
   "execution_count": 14,
   "metadata": {},
   "outputs": [
    {
     "data": {
      "image/png": "[encoded data removed]",
      "text/plain": [
       "<Figure size 432x288 with 1 Axes>"
      ]
     },
     "metadata": {
      "needs_background": "light"
     },
     "output_type": "display_data"
    },
    {
     "data": {
      "text/plain": [
       "<Figure size 432x288 with 0 Axes>"
      ]
     },
     "metadata": {},
     "output_type": "display_data"
    }
   ],
   "source": [
    "#repeat graphing and later csv export for react native\n",
    "count = numpy.arange(len(python_react_native_results_cleaned))\n",
    "Date_Data = []\n",
    "Body_Data = []\n",
    "for date, body in python_react_native_results_cleaned:\n",
    "    Date_Data.append(date)\n",
    "    Body_Data.append(body)\n",
    "matplotlib.pyplot.plot_date(Date_Data,count,xdate=True, drawstyle = 'steps-pre', linestyle = 'solid' )\n",
    "matplotlib.pyplot.ylabel('React Native Mentions')\n",
    "matplotlib.pyplot.title('Reddit React Native mentions')\n",
    "plt.show()\n",
    "plt.savefig('Reddit_react_native.png')\n",
    "\n",
    "#print csv for react native\n",
    "pandas_df = pandas.DataFrame({'date':Date_Data,'body':Body_Data})\n",
    "with open('Reddit_react_native.csv', 'a') as f:\n",
    "    pandas_df.to_csv(f, header=False)"
   ]
  }
 ],
 "metadata": {
  "kernelspec": {
   "display_name": "Python 2",
   "language": "python",
   "name": "python2"
  },
  "language_info": {
   "codemirror_mode": {
    "name": "ipython",
    "version": 2
   },
   "file_extension": ".py",
   "mimetype": "text/x-python",
   "name": "python",
   "nbconvert_exporter": "python",
   "pygments_lexer": "ipython2",
   "version": "2.7.12"
  }
 },
 "nbformat": 4,
 "nbformat_minor": 2
}
