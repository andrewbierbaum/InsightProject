{
 "cells": [
  {
   "cell_type": "code",
   "execution_count": 1,
   "metadata": {},
   "outputs": [],
   "source": [
    "#sparting spark and reading Reddit\n",
    "from pyspark.sql import SparkSession\n",
    "spark = SparkSession.builder.master('spark://ec2-34-218-102-254.us-west-2.compute.amazonaws.com:7077').appName(\"Reddit\").getOrCreate()\n",
    "df = None\n",
    "df = spark.read.csv(\"s3a://andrew-bierbaum-insight-test-dataset/Reddit_PushShift/Reddit_Comments_PushShift-00000000000*.csv.gz\", header=True,multiLine=True, escape='\"')"
   ]
  },
  {
   "cell_type": "code",
   "execution_count": 2,
   "metadata": {},
   "outputs": [],
   "source": [
    "#spark.sql.caseSensitive = False\n",
    "#sqlContext.sql(\"set spark.sql.caseSensitive=false\")"
   ]
  },
  {
   "cell_type": "code",
   "execution_count": 3,
   "metadata": {},
   "outputs": [
    {
     "name": "stdout",
     "output_type": "stream",
     "text": [
      "+------------+--------------------+----------------------+--------------------+--------------------+----------+------------+-----------+---------+-----------+------------+--------+--------------+-----+------+--------+----------------+------------+---------+------+--------------------+--------------------+----------+\n",
      "|      author|   author_flair_text|author_flair_css_class|                body|         created_utc| subreddit|subreddit_id|  parent_id|  link_id|         id|send_replies|stickied|subreddit_type|score|gilded|can_gild|controversiality|is_submitter|no_follow|edited|           permalink|        retrieved_on|      name|\n",
      "+------------+--------------------+----------------------+--------------------+--------------------+----------+------------+-----------+---------+-----------+------------+--------+--------------+-----+------+--------+----------------+------------+---------+------+--------------------+--------------------+----------+\n",
      "| CyborgCat42|                null|                  null|Anyone else find ...|2018-06-15 01:15:...|Unexpected|     4860278|  529395089|529395089|30516875439|        true|   false|        public|    1|     0|    true|               0|       false|     true|  null|/r/Unexpected/com...|2018-06-15 01:15:...|t1_e0oyjsf|\n",
      "| Take_A_Trip|                null|                  null|        Independence|2018-06-15 02:21:...| AskReddit|     4594374|  529244762|529244762|30517039316|        true|   false|        public|    1|     0|    true|               0|       false|     true|  null|/r/AskReddit/comm...|2018-06-15 02:21:...|t1_e0p228k|\n",
      "|LonzoDaVinci|                   2|                 black|Just give us the ...|2018-06-15 01:41:...|    lakers|     4595442|30516928162|529394709|30516941230|        true|   false|        public|    1|     0|    true|               0|       false|     true|  null|/r/lakers/comment...|2018-06-15 01:41:...|t1_e0ozyjy|\n",
      "|   Johannes8|18lb https://ligh...|                  null|What is the point...|2018-06-15 01:58:...|Ultralight|     4675574|30516640982|529333236|30516985900|        true|   false|        public|    1|     0|    true|               0|       false|     true|  null|/r/Ultralight/com...|2018-06-15 01:58:...|t1_e0p0x0s|\n",
      "| bike_wrench|                null|                  null|So much Commotion...|2018-06-15 01:53:...| bicycling|     4595644|30516332851|529225454|30516972828|        true|   false|        public|    1|     0|    true|               0|       false|     true|  null|/r/bicycling/comm...|2018-06-15 01:53:...|t1_e0p0mxo|\n",
      "+------------+--------------------+----------------------+--------------------+--------------------+----------+------------+-----------+---------+-----------+------------+--------+--------------+-----+------+--------+----------------+------------+---------+------+--------------------+--------------------+----------+\n",
      "only showing top 5 rows\n",
      "\n",
      "root\n",
      " |-- author: string (nullable = true)\n",
      " |-- author_flair_text: string (nullable = true)\n",
      " |-- author_flair_css_class: string (nullable = true)\n",
      " |-- body: string (nullable = true)\n",
      " |-- created_utc: string (nullable = true)\n",
      " |-- subreddit: string (nullable = true)\n",
      " |-- subreddit_id: string (nullable = true)\n",
      " |-- parent_id: string (nullable = true)\n",
      " |-- link_id: string (nullable = true)\n",
      " |-- id: string (nullable = true)\n",
      " |-- send_replies: string (nullable = true)\n",
      " |-- stickied: string (nullable = true)\n",
      " |-- subreddit_type: string (nullable = true)\n",
      " |-- score: string (nullable = true)\n",
      " |-- gilded: string (nullable = true)\n",
      " |-- can_gild: string (nullable = true)\n",
      " |-- controversiality: string (nullable = true)\n",
      " |-- is_submitter: string (nullable = true)\n",
      " |-- no_follow: string (nullable = true)\n",
      " |-- edited: string (nullable = true)\n",
      " |-- permalink: string (nullable = true)\n",
      " |-- retrieved_on: string (nullable = true)\n",
      " |-- name: string (nullable = true)\n",
      "\n"
     ]
    }
   ],
   "source": [
    "#showing the start of the data and format\n",
    "df.show(5)\n",
    "df.printSchema()"
   ]
  },
  {
   "cell_type": "code",
   "execution_count": 4,
   "metadata": {},
   "outputs": [
    {
     "name": "stdout",
     "output_type": "stream",
     "text": [
      "root\n",
      " |-- author: string (nullable = true)\n",
      " |-- author_flair_text: string (nullable = true)\n",
      " |-- author_flair_css_class: string (nullable = true)\n",
      " |-- body: string (nullable = true)\n",
      " |-- created_utc: timestamp (nullable = true)\n",
      " |-- subreddit: string (nullable = true)\n",
      " |-- subreddit_id: string (nullable = true)\n",
      " |-- parent_id: string (nullable = true)\n",
      " |-- link_id: string (nullable = true)\n",
      " |-- id: string (nullable = true)\n",
      " |-- send_replies: string (nullable = true)\n",
      " |-- stickied: string (nullable = true)\n",
      " |-- subreddit_type: string (nullable = true)\n",
      " |-- score: string (nullable = true)\n",
      " |-- gilded: string (nullable = true)\n",
      " |-- can_gild: string (nullable = true)\n",
      " |-- controversiality: string (nullable = true)\n",
      " |-- is_submitter: string (nullable = true)\n",
      " |-- no_follow: string (nullable = true)\n",
      " |-- edited: string (nullable = true)\n",
      " |-- permalink: string (nullable = true)\n",
      " |-- retrieved_on: string (nullable = true)\n",
      " |-- name: string (nullable = true)\n",
      "\n"
     ]
    }
   ],
   "source": [
    "from pyspark.sql.functions import to_timestamp\n",
    "df = df.withColumn(\"created_utc\", to_timestamp(\"created_utc\", \"yyyy-MM-dd HH:mm:ss z\")) #time format is = \"2018-06-14 16:00:51 UTC\"\n",
    "df.printSchema()"
   ]
  },
  {
   "cell_type": "code",
   "execution_count": 5,
   "metadata": {},
   "outputs": [
    {
     "name": "stdout",
     "output_type": "stream",
     "text": [
      "+-------------------+--------------------+\n",
      "|        created_utc|                body|\n",
      "+-------------------+--------------------+\n",
      "|2018-06-15 01:40:11|Same it’s between...|\n",
      "|2018-06-15 02:27:59|Glaube das war ei...|\n",
      "|2018-06-15 01:17:36|When doing an ene...|\n",
      "|2018-06-15 02:13:57|>Should I be thin...|\n",
      "|2018-06-15 01:44:28|I should've clari...|\n",
      "|2018-06-15 01:44:10|Actually finesse....|\n",
      "|2018-06-15 02:06:21|The made rapier t...|\n",
      "|2018-06-15 02:29:15|Yeah, I'm a maste...|\n",
      "|2018-06-15 01:43:29|His game is based...|\n",
      "|2018-06-15 01:16:08|This is the funni...|\n",
      "|2018-06-15 01:28:40|**Percee P - The ...|\n",
      "|2018-06-15 02:25:22|\\>Republicans mak...|\n",
      "|2018-06-15 01:19:46|I went with ~~Mer...|\n",
      "|2018-06-15 01:25:40|Why is England an...|\n",
      "|2018-06-15 01:36:16|Most CFIs at glid...|\n",
      "|2018-06-15 01:50:20|Not shes not. She...|\n",
      "|2018-06-15 02:41:46|I watched a few j...|\n",
      "|2018-06-15 03:22:33|You go ahead with...|\n",
      "|2018-06-15 03:17:44|Barbarian Weapon ...|\n",
      "|2018-06-15 02:52:10|Hell, Beau is fin...|\n",
      "+-------------------+--------------------+\n",
      "only showing top 20 rows\n",
      "\n",
      "+-------------------+--------------------+\n",
      "|        created_utc|                body|\n",
      "+-------------------+--------------------+\n",
      "|2018-06-15 01:40:11|Same it’s between...|\n",
      "|2018-06-15 02:27:59|Glaube das war ei...|\n",
      "|2018-06-15 01:17:36|When doing an ene...|\n",
      "|2018-06-15 02:13:57|>Should I be thin...|\n",
      "|2018-06-15 01:44:28|I should've clari...|\n",
      "|2018-06-15 01:28:40|**Percee P - The ...|\n",
      "|2018-06-15 01:19:46|I went with ~~Mer...|\n",
      "|2018-06-15 03:17:44|Barbarian Weapon ...|\n",
      "|2018-06-15 02:52:10|Hell, Beau is fin...|\n",
      "|2018-06-15 02:39:26|Qazlal's fun but ...|\n",
      "|2018-06-15 03:44:14|the only reason i...|\n",
      "|2018-06-15 13:02:57|Finesse low drive...|\n",
      "|2018-06-15 11:55:24|You put points in...|\n",
      "|2018-06-15 00:03:29|Other items not s...|\n",
      "|2018-06-15 00:28:06|I bought Finesse ...|\n",
      "|2018-06-15 00:35:26|You can't use Arc...|\n",
      "|2018-06-15 00:05:22|Just bought Fines...|\n",
      "|2018-06-15 00:01:30|Last time each it...|\n",
      "|2018-06-15 00:08:31|Finesse Finisher ...|\n",
      "|2018-06-15 05:44:48|Finesse finisher,...|\n",
      "+-------------------+--------------------+\n",
      "only showing top 20 rows\n",
      "\n"
     ]
    }
   ],
   "source": [
    "#Convert spark data to be readable using sql queries\n",
    "df.createOrReplaceTempView(\"Reddit\")\n",
    "happy_results = spark.sql(\"SELECT created_utc, body FROM Reddit WHERE body RLIKE 'finesse|Finesse'\")\n",
    "happy_results.show()\n",
    "Happy_results = spark.sql(\"SELECT created_utc, body FROM Reddit WHERE body LIKE '%Finesse%'\")\n",
    "Happy_results.show()"
   ]
  },
  {
   "cell_type": "code",
   "execution_count": 6,
   "metadata": {},
   "outputs": [
    {
     "data": {
      "text/plain": [
       "datetime.datetime(2018, 6, 15, 1, 40, 11)"
      ]
     },
     "execution_count": 6,
     "metadata": {},
     "output_type": "execute_result"
    }
   ],
   "source": [
    "python_happy_results = happy_results.collect()\n",
    "python_happy_results[0][0]"
   ]
  },
  {
   "cell_type": "code",
   "execution_count": 7,
   "metadata": {},
   "outputs": [],
   "source": [
    "xamarin_results = spark.sql(\"SELECT created_utc, body FROM Reddit WHERE body RLIKE 'xamarin|Xamarin'\")\n",
    "flutter_results = spark.sql(\"SELECT created_utc, body FROM Reddit WHERE body RLIKE 'flutter|Flutter'\")\n",
    "react_native_results = spark.sql(\"SELECT created_utc, body FROM Reddit WHERE body RLIKE 'react native|React native'\")\n",
    "#cross_xamarin_flutter_results.show()"
   ]
  },
  {
   "cell_type": "code",
   "execution_count": 8,
   "metadata": {},
   "outputs": [],
   "source": [
    "#collect, convert dates to datetime format for later graphing, and sort data\n",
    "from datetime import datetime\n",
    "python_xamarin_results = xamarin_results.collect()\n",
    "python_xamarin_results_cleaned = [(date, body.encode('ascii',errors='ignore')) for date, body in python_xamarin_results]\n",
    "python_xamarin_results_cleaned.sort()\n"
   ]
  },
  {
   "cell_type": "code",
   "execution_count": 9,
   "metadata": {},
   "outputs": [],
   "source": [
    "#repeat collect, convert dates to datetime format for later graphing, and sort data for flutter results\n",
    "python_flutter_results = flutter_results.collect()\n",
    "python_flutter_results_cleaned = [(date,body.encode('ascii',errors='ignore')) for date, body in python_flutter_results]\n",
    "python_flutter_results_cleaned.sort()"
   ]
  },
  {
   "cell_type": "code",
   "execution_count": 10,
   "metadata": {},
   "outputs": [],
   "source": [
    "#repeat collect, convert dates to datetime format for later graphing, and sort data for react native results\n",
    "python_react_native_results = react_native_results.collect()\n",
    "python_react_native_results_cleaned = [(date,body.encode('ascii',errors='ignore')) for date, body in python_react_native_results]\n",
    "python_react_native_results_cleaned.sort()"
   ]
  },
  {
   "cell_type": "code",
   "execution_count": 11,
   "metadata": {},
   "outputs": [
    {
     "data": {
      "image/png": "[encoded data removed]",
      "text/plain": [
       "<Figure size 432x288 with 1 Axes>"
      ]
     },
     "metadata": {
      "needs_background": "light"
     },
     "output_type": "display_data"
    },
    {
     "data": {
      "text/plain": [
       "<Figure size 432x288 with 0 Axes>"
      ]
     },
     "metadata": {},
     "output_type": "display_data"
    }
   ],
   "source": [
    "#sort, number, and then graph the data\n",
    "%matplotlib inline\n",
    "import numpy\n",
    "import matplotlib\n",
    "import matplotlib.pyplot as plt\n",
    "count = numpy.arange(len(python_xamarin_results_cleaned))\n",
    "#Date_Data = matplotlib.dates.datestr2num(clean_python_results_utc)\n",
    "Date_Data = []\n",
    "Body_Data = []\n",
    "for date, body in python_xamarin_results_cleaned:\n",
    "    Date_Data.append(date)\n",
    "    Body_Data.append(body)\n",
    "matplotlib.pyplot.plot_date(Date_Data,count,xdate=True, drawstyle = 'steps-pre', linestyle = 'solid' )\n",
    "matplotlib.pyplot.ylabel('Xamarin Mentions')\n",
    "matplotlib.pyplot.title('Reddit Xamarin mentions')\n",
    "plt.show()\n",
    "plt.savefig('Reddit_xamarin.png')"
   ]
  },
  {
   "cell_type": "code",
   "execution_count": 12,
   "metadata": {},
   "outputs": [
    {
     "data": {
      "text/html": [
       "<div>\n",
       "<table border=\"1\" class=\"dataframe\">\n",
       "  <thead>\n",
       "    <tr style=\"text-align: right;\">\n",
       "      <th></th>\n",
       "      <th>body</th>\n",
       "      <th>date</th>\n",
       "    </tr>\n",
       "  </thead>\n",
       "  <tbody>\n",
       "    <tr>\n",
       "      <th>0</th>\n",
       "      <td>Which is why Xamarin offers 3 flavours.  Xamar...</td>\n",
       "      <td>2018-06-15 01:21:06</td>\n",
       "    </tr>\n",
       "    <tr>\n",
       "      <th>1</th>\n",
       "      <td>only until the next update, which breaks your ...</td>\n",
       "      <td>2018-06-15 05:36:43</td>\n",
       "    </tr>\n",
       "    <tr>\n",
       "      <th>2</th>\n",
       "      <td>I suppose it's weird that you say you dislike ...</td>\n",
       "      <td>2018-06-15 07:19:52</td>\n",
       "    </tr>\n",
       "    <tr>\n",
       "      <th>3</th>\n",
       "      <td>I would recommend learning a cross platform to...</td>\n",
       "      <td>2018-06-15 11:56:47</td>\n",
       "    </tr>\n",
       "    <tr>\n",
       "      <th>4</th>\n",
       "      <td>Totally identify with your opinion and downvot...</td>\n",
       "      <td>2018-06-15 23:50:17</td>\n",
       "    </tr>\n",
       "  </tbody>\n",
       "</table>\n",
       "</div>"
      ],
      "text/plain": [
       "                                                body                date\n",
       "0  Which is why Xamarin offers 3 flavours.  Xamar... 2018-06-15 01:21:06\n",
       "1  only until the next update, which breaks your ... 2018-06-15 05:36:43\n",
       "2  I suppose it's weird that you say you dislike ... 2018-06-15 07:19:52\n",
       "3  I would recommend learning a cross platform to... 2018-06-15 11:56:47\n",
       "4  Totally identify with your opinion and downvot... 2018-06-15 23:50:17"
      ]
     },
     "execution_count": 12,
     "metadata": {},
     "output_type": "execute_result"
    }
   ],
   "source": [
    "import pandas\n",
    "pandas_df = pandas.DataFrame({'date':Date_Data,'body':Body_Data})\n",
    "pandas_df.to_csv(\"Reddit_xamarin.csv\")\n",
    "pandas_df"
   ]
  },
  {
   "cell_type": "code",
   "execution_count": 13,
   "metadata": {},
   "outputs": [],
   "source": [
    "#find flutter posts that already contain xamarin and export to csv\n",
    "#pandas_df[pandas_df['body'].str.contains('flutter')].to_csv('Reddit_xamarin_flutter_cross.csv')"
   ]
  },
  {
   "cell_type": "code",
   "execution_count": 14,
   "metadata": {},
   "outputs": [
    {
     "data": {
      "image/png": "[encoded data removed]",
      "text/plain": [
       "<Figure size 432x288 with 1 Axes>"
      ]
     },
     "metadata": {
      "needs_background": "light"
     },
     "output_type": "display_data"
    },
    {
     "data": {
      "text/plain": [
       "<Figure size 432x288 with 0 Axes>"
      ]
     },
     "metadata": {},
     "output_type": "display_data"
    }
   ],
   "source": [
    "#repeat graphing and later csv export for flutter\n",
    "count = numpy.arange(len(python_flutter_results_cleaned))\n",
    "Date_Data = []\n",
    "Body_Data = []\n",
    "for date, body in python_flutter_results_cleaned:\n",
    "    Date_Data.append(date)\n",
    "    Body_Data.append(body)\n",
    "matplotlib.pyplot.plot_date(Date_Data,count,xdate=True, drawstyle = 'steps-pre', linestyle = 'solid' )\n",
    "matplotlib.pyplot.ylabel('Flutter Mentions')\n",
    "matplotlib.pyplot.title('Reddit Flutter mentions')\n",
    "plt.show()\n",
    "plt.savefig('Reddit_flutter.png')\n",
    "\n",
    "#print csv for flutter\n",
    "pandas_df = pandas.DataFrame({'date':Date_Data,'body':Body_Data})\n",
    "pandas_df.head()\n",
    "pandas_df.to_csv(\"Reddit_flutter.csv\")"
   ]
  },
  {
   "cell_type": "code",
   "execution_count": 15,
   "metadata": {},
   "outputs": [
    {
     "data": {
      "image/png": "[encoded data removed]",
      "text/plain": [
       "<Figure size 432x288 with 1 Axes>"
      ]
     },
     "metadata": {
      "needs_background": "light"
     },
     "output_type": "display_data"
    },
    {
     "data": {
      "text/plain": [
       "<Figure size 432x288 with 0 Axes>"
      ]
     },
     "metadata": {},
     "output_type": "display_data"
    }
   ],
   "source": [
    "#repeat graphing and later csv export for react native\n",
    "count = numpy.arange(len(python_react_native_results_cleaned))\n",
    "Date_Data = []\n",
    "Body_Data = []\n",
    "for date, body in python_react_native_results_cleaned:\n",
    "    Date_Data.append(date)\n",
    "    Body_Data.append(body)\n",
    "matplotlib.pyplot.plot_date(Date_Data,count,xdate=True, drawstyle = 'steps-pre', linestyle = 'solid' )\n",
    "matplotlib.pyplot.ylabel('React Native Mentions')\n",
    "matplotlib.pyplot.title('Reddit React Native mentions')\n",
    "plt.show()\n",
    "plt.savefig('Redditreact_native.png')\n",
    "\n",
    "#print csv for flutter\n",
    "pandas_df = pandas.DataFrame({'date':Date_Data,'body':Body_Data})\n",
    "pandas_df.head()\n",
    "pandas_df.to_csv(\"Reddit_react_native.csv\")"
   ]
  },
  {
   "cell_type": "code",
   "execution_count": null,
   "metadata": {},
   "outputs": [],
   "source": []
  },
  {
   "cell_type": "code",
   "execution_count": null,
   "metadata": {},
   "outputs": [],
   "source": []
  }
 ],
 "metadata": {
  "kernelspec": {
   "display_name": "Python 2",
   "language": "python",
   "name": "python2"
  },
  "language_info": {
   "codemirror_mode": {
    "name": "ipython",
    "version": 2
   },
   "file_extension": ".py",
   "mimetype": "text/x-python",
   "name": "python",
   "nbconvert_exporter": "python",
   "pygments_lexer": "ipython2",
   "version": "2.7.12"
  }
 },
 "nbformat": 4,
 "nbformat_minor": 2
}
