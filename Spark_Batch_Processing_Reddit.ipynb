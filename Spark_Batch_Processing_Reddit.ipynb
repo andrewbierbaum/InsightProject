{
 "cells": [
  {
   "cell_type": "code",
   "execution_count": 6,
   "metadata": {},
   "outputs": [],
   "source": [
    "#sparting spark and reading Reddit\n",
    "from pyspark.sql import SparkSession\n",
    "from datetime import datetime\n",
    "import pandas\n",
    "import numpy\n",
    "import sqlite3\n",
    "\n",
    "spark = SparkSession.builder.appName(\"Reddit\").getOrCreate()\n",
    "df = None\n",
    "df = spark.read.csv(\"s3a://andrew-bierbaum-insight-test-dataset/Reddit/Reddit_Comments_2006*.csv.gz\", header=True,multiLine=True, escape='\"')\n"
   ]
  },
  {
   "cell_type": "code",
   "execution_count": 7,
   "metadata": {},
   "outputs": [],
   "source": [
    "# #Convert spark data to be readable using sql queries and query for the keyword terms\n",
    "df.createOrReplaceTempView(\"Reddit\")\n",
    "\n",
    "#query the spark data, transfer to pandas, and confirm the sorting\n",
    "xamarin_results = spark.sql(\"SELECT created_utc, body, subreddit_id, link_id, parent_id, id, subreddit FROM Reddit WHERE body RLIKE 'xamarin|Xamarin' ORDER BY created_utc ASC\")\n",
    "df_xamarin = xamarin_results.toPandas()\n",
    "df_xamarin.sort_values('created_utc')\n",
    "\n",
    "#repeat for flutter\n",
    "flutter_results = spark.sql(\"SELECT created_utc, body, subreddit_id, link_id, parent_id, id, subreddit FROM Reddit WHERE body RLIKE 'flutter|Flutter' ORDER BY created_utc ASC\")\n",
    "df_flutter = flutter_results.toPandas()\n",
    "df_flutter.sort_values('created_utc')\n",
    "\n",
    "#repeat for react native\n",
    "react_native_results = spark.sql(\"SELECT created_utc, body, subreddit_id, link_id, parent_id, id, subreddit FROM Reddit WHERE body RLIKE 'react native|React native|React Native' ORDER BY created_utc ASC\")\n",
    "df_react_native = react_native_results.toPandas()\n",
    "df_react_native.sort_values('created_utc')"
   ]
  },
  {
   "cell_type": "code",
   "execution_count": null,
   "metadata": {},
   "outputs": [],
   "source": [
    "conn = sqlite3.connect('TechGraph.db')\n",
    "cur = conn.cursor()\n",
    "conn.text_factory = str\n",
    "\n",
    "df_xamarin.to_sql('Reddit_xamarin.db', conn, if_exists='replace')\n",
    "df_flutter.to_sql('Reddit_flutter.db', conn, if_exists='replace')\n",
    "df_\n",
    "\n",
    "\n",
    "\n",
    "#don't rebuild the table if it already exists\n",
    "# cur.execute(\"SELECT count(*) FROM sqlite_master WHERE type ='table'\")\n",
    "# if cur.fetchall()[0] == 0:\n",
    "#     cur.execute(\"CREATE TABLE twitter (target, ids, date, flag, user,text);\")\n",
    "#     #read the csv  \n",
    "#     df = pandas.read_csv('TwitterSmall.csv', encoding='ISO-8859-1', names=DATASET_COLUMNS)\n",
    "#     #load into sql\n",
    "#     df.to_sql('twitter', conn, if_exists='replace', index=False)\n",
    "\n",
    "# #do SQL query and fetch results\n",
    "# cur.execute(\"SELECT date FROM twitter WHERE text LIKE '%c++%'\")\n",
    "# times = cur.fetchall()\n",
    "# cleantime = [i[0] for i in times]\n",
    "\n",
    "# #clean data (data,) - has a useless touple & produce a count\n",
    "# cleantime = [i[0] for i in times]\n",
    "# #print(times)\n",
    "# count = numpy.arange(len(cleantime))"
   ]
  },
  {
   "cell_type": "code",
   "execution_count": null,
   "metadata": {},
   "outputs": [],
   "source": [
    "#graphing and later csv export for flutter\n",
    "count = numpy.arange(len(python_flutter_results_cleaned))\n",
    "Date_Data = []\n",
    "Body_Data = []\n",
    "for date, body in python_flutter_results_cleaned:\n",
    "    Date_Data.append(date)\n",
    "    Body_Data.append(body)\n",
    "matplotlib.pyplot.plot_date(Date_Data,count,xdate=True, drawstyle = 'steps-pre', linestyle = 'solid' )\n",
    "matplotlib.pyplot.ylabel('Flutter Mentions')\n",
    "matplotlib.pyplot.title('Reddit Flutter mentions')\n",
    "plt.show()\n",
    "plt.savefig('Reddit_flutter.png')\n",
    "\n",
    "#print csv for flutter\n",
    "pandas_df = pandas.DataFrame({'date':Date_Data,'body':Body_Data})\n",
    "with open('Reddit_flutter.csv', 'a') as f:\n",
    "    pandas_df.to_csv(f, header=False)"
   ]
  },
  {
   "cell_type": "code",
   "execution_count": null,
   "metadata": {},
   "outputs": [],
   "source": [
    "#graphing and later csv export for xamarin\n",
    "count = numpy.arange(len(python_xamarin_results_cleaned))\n",
    "Date_Data = []\n",
    "Body_Data = []\n",
    "for date, body in python_xamarin_results_cleaned:\n",
    "    Date_Data.append(date)\n",
    "    Body_Data.append(body)\n",
    "matplotlib.pyplot.plot_date(Date_Data,count,xdate=True, drawstyle = 'steps-pre', linestyle = 'solid' )\n",
    "matplotlib.pyplot.ylabel('Xamarin Mentions')\n",
    "matplotlib.pyplot.title('Reddit Xamarin mentions')\n",
    "plt.show()\n",
    "plt.savefig('Reddit_xamarin.png')\n",
    "\n",
    "#print csv for xamarin\n",
    "pandas_df = pandas.DataFrame({'date':Date_Data,'body':Body_Data})\n",
    "with open('Reddit_xamarin.csv', 'a') as f:\n",
    "    pandas_df.to_csv(f, header=False)"
   ]
  },
  {
   "cell_type": "code",
   "execution_count": null,
   "metadata": {},
   "outputs": [],
   "source": [
    "#repeat graphing and later csv export for react native\n",
    "count = numpy.arange(len(python_react_native_results_cleaned))\n",
    "Date_Data = []\n",
    "Body_Data = []\n",
    "for date, body in python_react_native_results_cleaned:\n",
    "    Date_Data.append(date)\n",
    "    Body_Data.append(body)\n",
    "matplotlib.pyplot.plot_date(Date_Data,count,xdate=True, drawstyle = 'steps-pre', linestyle = 'solid' )\n",
    "matplotlib.pyplot.ylabel('React Native Mentions')\n",
    "matplotlib.pyplot.title('Reddit React Native mentions')\n",
    "plt.show()\n",
    "plt.savefig('Reddit_react_native.png')\n",
    "\n",
    "#print csv for react native\n",
    "pandas_df = pandas.DataFrame({'date':Date_Data,'body':Body_Data})\n",
    "with open('Reddit_react_native.csv', 'a') as f:\n",
    "    pandas_df.to_csv(f, header=False)"
   ]
  },
  {
   "cell_type": "code",
   "execution_count": null,
   "metadata": {},
   "outputs": [],
   "source": []
  },
  {
   "cell_type": "code",
   "execution_count": null,
   "metadata": {},
   "outputs": [],
   "source": []
  }
 ],
 "metadata": {
  "kernelspec": {
   "display_name": "Python 2",
   "language": "python",
   "name": "python2"
  },
  "language_info": {
   "codemirror_mode": {
    "name": "ipython",
    "version": 2
   },
   "file_extension": ".py",
   "mimetype": "text/x-python",
   "name": "python",
   "nbconvert_exporter": "python",
   "pygments_lexer": "ipython2",
   "version": "2.7.12"
  }
 },
 "nbformat": 4,
 "nbformat_minor": 2
}
