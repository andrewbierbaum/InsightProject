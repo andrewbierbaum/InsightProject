{
 "cells": [
  {
   "cell_type": "code",
   "execution_count": 1,
   "metadata": {},
   "outputs": [
    {
     "name": "stdout",
     "output_type": "stream",
     "text": [
      "+--------------------+------------+--------+----+---------------+-----------------+-----+-----------+------------+-------+---------+-----+------------+----------------+------+-----+----------+---+-------------+----------------------+\n",
      "|                body|score_hidden|archived|name|         author|author_flair_text|downs|created_utc|subreddit_id|link_id|parent_id|score|retrieved_on|controversiality|gilded|   id| subreddit|ups|distinguished|author_flair_css_class|\n",
      "+--------------------+------------+--------+----+---------------+-----------------+-----+-----------+------------+-------+---------+-----+------------+----------------+------+-----+----------+---+-------------+----------------------+\n",
      "|Guess this kinda ...|        null|    null|null|        dbenhur|             null| null| 1152221185|        t5_6|  t3_87|    t3_87|   35|  1473826345|               0|     0|c9gm2|reddit.com| 35|         null|                  null|\n",
      "|           [deleted]|        null|    null|null|      [deleted]|             null| null| 1152233208|        t5_6|  t3_87| t1_c9gm2|    1|  1473826353|               0|     0|c9h20|reddit.com|  1|         null|                  null|\n",
      "|Don't you start w...|        null|    null|null|        dbenhur|             null| null| 1152248505|        t5_6|  t3_87| t1_c9h21|    8|  1473826361|               0|     0|c9hhc|reddit.com|  8|         null|                  null|\n",
      "|I sort of regret ...|        null|    null|null|       kn0thing|             null| null| 1152233214|        t5_6|  t3_87| t1_c9gm2|   16|  1473826353|               0|     0|c9h21|reddit.com| 16|         null|                  null|\n",
      "|There were no com...|        null|    null|null|            Zak|             null| null| 1152232275|        t5_6|  t3_87| t1_c9gm2|   48|  1473826353|               0|     0|c9h18|reddit.com| 48|         null|                  null|\n",
      "|I plan to show th...|        null|    null|null|mistermajik2000|             null| null| 1149689361|        t5_6|  t3_89|    t3_89|    6|  1473824980|               0|     0|c7du9|reddit.com|  6|         null|                  null|\n",
      "|How about http://...|        null|    null|null|     campingcar|             null| null| 1158232526|        t5_6| t3_152|   t3_152|    0|  1473799692|               0|     0|cihc4|reddit.com|  0|         null|                  null|\n",
      "|tuber was here 9/...|        null|    null|null|          tuber|             null| null| 1159155120|        t5_6| t3_216|   t3_216|    1|  1473800534|               0|     0|cjqfy|reddit.com|  1|         null|                  null|\n",
      "|Very good referen...|        null|    null|null|          salma|             null| null| 1140963829|        t5_6| t3_406|   t3_406|    1|  1473821553|               0|     0|c28wh|reddit.com|  1|         null|                  null|\n",
      "|Very good referen...|        null|    null|null|          salma|             null| null| 1140963854|        t5_6| t3_406|   t3_406|    1|  1473821553|               0|     0|c28wi|reddit.com|  1|         null|                  null|\n",
      "+--------------------+------------+--------+----+---------------+-----------------+-----+-----------+------------+-------+---------+-----+------------+----------------+------+-----+----------+---+-------------+----------------------+\n",
      "only showing top 10 rows\n",
      "\n",
      "None\n"
     ]
    }
   ],
   "source": [
    "from pyspark.sql import SparkSession\n",
    "spark = SparkSession.builder.appName(\"Reddit\").getOrCreate()\n",
    "\n",
    "#spark = SparkSession.builder.appName(\"HackerNews\").getOrCreate()\n",
    "\n",
    "df = None\n",
    "df = spark.read.csv(\"s3a://andrew-bierbaum-insight-test-dataset/Reddit/Reddit_Comments_2006*csv.gz\", header=True,multiLine=True, escape='\"')\n",
    "\n",
    "print(df.show(10))"
   ]
  },
  {
   "cell_type": "code",
   "execution_count": 2,
   "metadata": {},
   "outputs": [
    {
     "name": "stdout",
     "output_type": "stream",
     "text": [
      "+-----------+--------------------+\n",
      "|created_utc|                body|\n",
      "+-----------+--------------------+\n",
      "| 1136349843|will it always be...|\n",
      "| 1136984124|I was going to le...|\n",
      "| 1137072318|eclipse and pydev...|\n",
      "| 1137155102|I love python but...|\n",
      "| 1137155352|Ruby until *very*...|\n",
      "| 1137285773|Software as art p...|\n",
      "| 1137310029|i tried this a wh...|\n",
      "| 1139381304|Maybe. But python...|\n",
      "| 1139385681|Lisp macros aren'...|\n",
      "| 1139397565|I don't think pyt...|\n",
      "| 1139411795|Unfortunately, la...|\n",
      "| 1139803996|Why should I choo...|\n",
      "| 1139846677|This article just...|\n",
      "| 1139870381|and for those tha...|\n",
      "| 1140133049|Cellphones are co...|\n",
      "| 1140447809|I've implemented ...|\n",
      "| 1141002031|Well Only Ruby pe...|\n",
      "| 1141007849|a *lot*. i use li...|\n",
      "| 1141008255|i haven't used ru...|\n",
      "| 1141067291|I've never worked...|\n",
      "+-----------+--------------------+\n",
      "only showing top 20 rows\n",
      "\n"
     ]
    }
   ],
   "source": [
    "df.createOrReplaceTempView(\"Reddit\")\n",
    "#time >1000000000 just filters out 6 bad entries --double chedk this is a good way to do it\n",
    "results = spark.sql(\"SELECT created_utc, body FROM Reddit WHERE body LIKE '% python %'  SORT BY created_utc ASC\")\n",
    "#AND time >1000000000\n",
    "results.show()"
   ]
  },
  {
   "cell_type": "code",
   "execution_count": 3,
   "metadata": {},
   "outputs": [],
   "source": [
    "from datetime import datetime\n",
    "python_results = results.select('created_utc').collect()\n",
    "#python_results_timestamp = results.select('timestamp').collect()\n",
    "clean_python_results = [datetime.fromtimestamp(float(i[0])) for i in python_results]\n",
    "#print(clean_python_results_timestamp)"
   ]
  },
  {
   "cell_type": "code",
   "execution_count": 4,
   "metadata": {},
   "outputs": [
    {
     "data": {
      "image/png": "[encoded data removed]",
      "text/plain": [
       "<Figure size 432x288 with 1 Axes>"
      ]
     },
     "metadata": {
      "needs_background": "light"
     },
     "output_type": "display_data"
    },
    {
     "data": {
      "text/plain": [
       "<Figure size 432x288 with 0 Axes>"
      ]
     },
     "metadata": {},
     "output_type": "display_data"
    }
   ],
   "source": [
    "%matplotlib inline\n",
    "import numpy\n",
    "import matplotlib\n",
    "import matplotlib.pyplot as plt\n",
    "count = numpy.arange(len(clean_python_results))\n",
    "#Date_Data = matplotlib.dates.datestr2num(clean_python_results_utc)\n",
    "Date_Data = clean_python_results\n",
    "matplotlib.pyplot.plot_date(Date_Data,count,xdate=True, drawstyle = 'steps-pre', linestyle = 'solid' )\n",
    "matplotlib.pyplot.ylabel('Mentions')\n",
    "matplotlib.pyplot.title('HackerNews python mentions')\n",
    "plt.show()\n",
    "plt.savefig('Reddit.png')\n"
   ]
  },
  {
   "cell_type": "code",
   "execution_count": null,
   "metadata": {},
   "outputs": [],
   "source": []
  },
  {
   "cell_type": "code",
   "execution_count": null,
   "metadata": {},
   "outputs": [],
   "source": []
  },
  {
   "cell_type": "code",
   "execution_count": null,
   "metadata": {},
   "outputs": [],
   "source": []
  }
 ],
 "metadata": {
  "kernelspec": {
   "display_name": "Python 2",
   "language": "python",
   "name": "python2"
  },
  "language_info": {
   "codemirror_mode": {
    "name": "ipython",
    "version": 2
   },
   "file_extension": ".py",
   "mimetype": "text/x-python",
   "name": "python",
   "nbconvert_exporter": "python",
   "pygments_lexer": "ipython2",
   "version": "2.7.12"
  }
 },
 "nbformat": 4,
 "nbformat_minor": 2
}
