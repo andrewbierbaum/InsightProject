{
 "cells": [
  {
   "cell_type": "code",
   "execution_count": 1,
   "metadata": {},
   "outputs": [],
   "source": [
    "#sparting spark and reading Reddit\n",
    "from pyspark.sql import SparkSession\n",
    "spark = SparkSession.builder.appName(\"Reddit\").getOrCreate()\n",
    "df = None\n",
    "df = spark.read.csv(\"s3a://andrew-bierbaum-insight-test-dataset/Reddit/Reddit_Comments_2006*.csv.gz\", header=True,multiLine=True, escape='\"')"
   ]
  },
  {
   "cell_type": "code",
   "execution_count": 2,
   "metadata": {},
   "outputs": [],
   "source": [
    "#spark.sql.caseSensitive = False\n",
    "#sqlContext.sql(\"set spark.sql.caseSensitive=false\")"
   ]
  },
  {
   "cell_type": "code",
   "execution_count": 3,
   "metadata": {},
   "outputs": [
    {
     "name": "stdout",
     "output_type": "stream",
     "text": [
      "+--------------------+------------+--------+----+---------+-----------------+-----+-----------+------------+-------+---------+-----+------------+----------------+------+-----+----------+---+-------------+----------------------+\n",
      "|                body|score_hidden|archived|name|   author|author_flair_text|downs|created_utc|subreddit_id|link_id|parent_id|score|retrieved_on|controversiality|gilded|   id| subreddit|ups|distinguished|author_flair_css_class|\n",
      "+--------------------+------------+--------+----+---------+-----------------+-----+-----------+------------+-------+---------+-----+------------+----------------+------+-----+----------+---+-------------+----------------------+\n",
      "|Guess this kinda ...|        null|    null|null|  dbenhur|             null| null| 1152221185|        t5_6|  t3_87|    t3_87|   35|  1473826345|               0|     0|c9gm2|reddit.com| 35|         null|                  null|\n",
      "|           [deleted]|        null|    null|null|[deleted]|             null| null| 1152233208|        t5_6|  t3_87| t1_c9gm2|    1|  1473826353|               0|     0|c9h20|reddit.com|  1|         null|                  null|\n",
      "|Don't you start w...|        null|    null|null|  dbenhur|             null| null| 1152248505|        t5_6|  t3_87| t1_c9h21|    8|  1473826361|               0|     0|c9hhc|reddit.com|  8|         null|                  null|\n",
      "|I sort of regret ...|        null|    null|null| kn0thing|             null| null| 1152233214|        t5_6|  t3_87| t1_c9gm2|   16|  1473826353|               0|     0|c9h21|reddit.com| 16|         null|                  null|\n",
      "|There were no com...|        null|    null|null|      Zak|             null| null| 1152232275|        t5_6|  t3_87| t1_c9gm2|   48|  1473826353|               0|     0|c9h18|reddit.com| 48|         null|                  null|\n",
      "+--------------------+------------+--------+----+---------+-----------------+-----+-----------+------------+-------+---------+-----+------------+----------------+------+-----+----------+---+-------------+----------------------+\n",
      "only showing top 5 rows\n",
      "\n",
      "root\n",
      " |-- body: string (nullable = true)\n",
      " |-- score_hidden: string (nullable = true)\n",
      " |-- archived: string (nullable = true)\n",
      " |-- name: string (nullable = true)\n",
      " |-- author: string (nullable = true)\n",
      " |-- author_flair_text: string (nullable = true)\n",
      " |-- downs: string (nullable = true)\n",
      " |-- created_utc: string (nullable = true)\n",
      " |-- subreddit_id: string (nullable = true)\n",
      " |-- link_id: string (nullable = true)\n",
      " |-- parent_id: string (nullable = true)\n",
      " |-- score: string (nullable = true)\n",
      " |-- retrieved_on: string (nullable = true)\n",
      " |-- controversiality: string (nullable = true)\n",
      " |-- gilded: string (nullable = true)\n",
      " |-- id: string (nullable = true)\n",
      " |-- subreddit: string (nullable = true)\n",
      " |-- ups: string (nullable = true)\n",
      " |-- distinguished: string (nullable = true)\n",
      " |-- author_flair_css_class: string (nullable = true)\n",
      "\n"
     ]
    }
   ],
   "source": [
    "#showing the start of the data and format\n",
    "df.show(5)\n",
    "df.printSchema()"
   ]
  },
  {
   "cell_type": "code",
   "execution_count": 4,
   "metadata": {},
   "outputs": [
    {
     "name": "stdout",
     "output_type": "stream",
     "text": [
      "+-----------+--------------------+\n",
      "|created_utc|                body|\n",
      "+-----------+--------------------+\n",
      "| 1138887377|&gt;How do I read...|\n",
      "| 1139421448|This reminds me w...|\n",
      "...|\n",
      "| 1140228495|To be honest, I t...|\n",
      "| 1140534535|...even if it is ...|\n",
      "| 1141310099|better google tha...|\n",
      "| 1141774735|Just for fun, try...|\n",
      "| 1142008287|How about we get ...|\n",
      "| 1141999615|Click on \"Back to...|\n",
      "| 1142011255|microsoft gives o...|\n",
      "| 1142297475|Considering googl...|\n",
      "| 1142273051|It was a hurried ...|\n",
      "| 1142600431|good idea. next-u...|\n",
      "| 1143488319|\"Whaaaa Wahhhaaaa...|\n",
      "| 1143732622|you know this is ...|\n",
      "| 1143944594|Reddit has a new ...|\n",
      "| 1144254444|VPC doesn't run o...|\n",
      "| 1144254029|There is:\n",
      "\n",
      "http...|\n",
      "| 1144375601|I thought the 60%...|\n",
      "| 1144721252|well...im a progr...|\n",
      "+-----------+--------------------+\n",
      "only showing top 20 rows\n",
      "\n"
     ]
    }
   ],
   "source": [
    "#Convert spark data to be readable using sql queries\n",
    "df.createOrReplaceTempView(\"Reddit\")\n",
    "microsoft_results = spark.sql(\"SELECT created_utc, body FROM Reddit WHERE body LIKE '%microsoft%'\")\n",
    "facebook_results = spark.sql(\"SELECT created_utc, body FROM Reddit WHERE body LIKE '%facebook%'\")\n",
    "amazon_results = spark.sql(\"SELECT created_utc, body FROM Reddit WHERE body LIKE '%amazon%'\")\n",
    "google_results = spark.sql(\"SELECT created_utc, body FROM Reddit WHERE body LIKE '%google%'\")\n",
    "microsoft_results.show()"
   ]
  },
  {
   "cell_type": "code",
   "execution_count": 5,
   "metadata": {},
   "outputs": [],
   "source": [
    "#collect, convert dates to datetime format for later graphing, and sort data\n",
    "from datetime import datetime\n",
    "python_microsoft_results = microsoft_results.collect()\n",
    "python_microsoft_results_cleaned = [(datetime.fromtimestamp(float(i)),body.encode('ascii',errors='ignore')) for i, body in python_microsoft_results]\n",
    "python_microsoft_results_cleaned.sort()\n",
    "\n",
    "#b = bytes('pythön', encoding='utf-8')\n",
    "#print(str(b, encoding='ascii', errors='ignore'))"
   ]
  },
  {
   "cell_type": "code",
   "execution_count": 6,
   "metadata": {},
   "outputs": [],
   "source": [
    "#validation steps\n",
    "\n",
    "#print python_microsoft_results_cleaned\n",
    "#print python_microsoft_results_cleaned"
   ]
  },
  {
   "cell_type": "code",
   "execution_count": 7,
   "metadata": {},
   "outputs": [
    {
     "data": {
      "image/png": "[encoded data removed]",
      "text/plain": [
       "<Figure size 432x288 with 1 Axes>"
      ]
     },
     "metadata": {
      "needs_background": "light"
     },
     "output_type": "display_data"
    },
    {
     "data": {
      "text/plain": [
       "<Figure size 432x288 with 0 Axes>"
      ]
     },
     "metadata": {},
     "output_type": "display_data"
    }
   ],
   "source": [
    "#sort, number, and then graph the data\n",
    "%matplotlib inline\n",
    "import numpy\n",
    "import matplotlib\n",
    "import matplotlib.pyplot as plt\n",
    "count = numpy.arange(len(python_microsoft_results_cleaned))\n",
    "#Date_Data = matplotlib.dates.datestr2num(clean_python_results_utc)\n",
    "Date_Data = []\n",
    "Body_Data = []\n",
    "for date, body in python_microsoft_results_cleaned:\n",
    "    Date_Data.append(date)\n",
    "    Body_Data.append(body)\n",
    "matplotlib.pyplot.plot_date(Date_Data,count,xdate=True, drawstyle = 'steps-pre', linestyle = 'solid' )\n",
    "matplotlib.pyplot.ylabel('Microsoft Mentions')\n",
    "matplotlib.pyplot.title('Reddit 2006 Microsoft mentions')\n",
    "plt.show()\n",
    "plt.savefig('Reddit2006.png')\n"
   ]
  },
  {
   "cell_type": "code",
   "execution_count": 12,
   "metadata": {},
   "outputs": [],
   "source": [
    "#import csv\n",
    "import pandas\n",
    "\n",
    "# with open('dash.csv', 'w') as csvfile:   #, newline=''\n",
    "#     #csv.writer(csvfile, delimiter=' ', quotechar='|', quoting=csv.QUOTE_MINIMAL)\n",
    "#     writer = csv.writer(csvfile)\n",
    "#     writer.writerows(\"count\",\"Date_Data\")\n",
    "\n",
    "#zipped_Data = zip(Date_Data, body)\n",
    "#pandas_df = pandas.DataFrame(zipped_Data)\n",
    "pandas_df = pandas.DataFrame({'date':Date_Data,'body':Body_Data})\n",
    "pandas_df.head()\n",
    "pandas_df.to_csv(\"dash.csv\")\n",
    "\n",
    "# percentile_list = pd.DataFrame(\n",
    "#     {'lst1Title': lst1,\n",
    "#      'lst2Title': lst2,\n",
    "#      'lst3Title': lst3\n",
    "#     })"
   ]
  },
  {
   "cell_type": "code",
   "execution_count": 5,
   "metadata": {},
   "outputs": [],
   "source": [
    "# import csv\n",
    "# import pandas\n",
    "\n",
    "# pandas_df = pandas.DataFrame(python_results_timestamp, columns = ['count, timestamp'])\n",
    "# pandas_df.show()"
   ]
  },
  {
   "cell_type": "code",
   "execution_count": 6,
   "metadata": {},
   "outputs": [],
   "source": [
    "# import dash\n",
    "# import dash_core_components as dcc\n",
    "# import dash_html_components as html\n",
    "\n",
    "# external_stylesheets = ['https://codepen.io/chriddyp/pen/bWLwgP.css']\n",
    "\n",
    "# app = dash.Dash(__name__, external_stylesheets=external_stylesheets)\n",
    "\n",
    "# app.layout = html.Div(children=[\n",
    "#     html.H1(children='Reddit 2006'),\n",
    "\n",
    "#     html.Div(children='''\n",
    "#         Dash: A web application framework for Python.\n",
    "#     '''),\n",
    "\n",
    "#     dcc.Graph(\n",
    "#         id='Reddit 2006 python mentions',\n",
    "#         figure={\n",
    "#             'data': [\n",
    "#                 {'x': Date_Data, 'y': count, 'type': 'scatter', 'name': 'SF'}\n",
    "#             ],\n",
    "#             'layout': {\n",
    "#                 'title': 'Dash Data Visualization'\n",
    "#             }\n",
    "#         }\n",
    "#     )\n",
    "# ])\n",
    "\n",
    "# if __name__ == '__main__':\n",
    "#     app.run_server(debug=True, port = 9990, host ='0.0.0.0')"
   ]
  }
 ],
 "metadata": {
  "kernelspec": {
   "display_name": "Python 2",
   "language": "python",
   "name": "python2"
  },
  "language_info": {
   "codemirror_mode": {
    "name": "ipython",
    "version": 2
   },
   "file_extension": ".py",
   "mimetype": "text/x-python",
   "name": "python",
   "nbconvert_exporter": "python",
   "pygments_lexer": "ipython2",
   "version": "2.7.12"
  }
 },
 "nbformat": 4,
 "nbformat_minor": 2
}
