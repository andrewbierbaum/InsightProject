{
 "cells": [
  {
   "cell_type": "code",
   "execution_count": 1,
   "metadata": {},
   "outputs": [],
   "source": [
    "#sparting spark and reading HackerNews\n",
    "from pyspark.sql import SparkSession\n",
    "from datetime import datetime\n",
    "import pandas\n",
    "import numpy\n",
    "import sqlite3\n",
    "\n",
    "spark = SparkSession.builder.appName(\"HackerNews\").getOrCreate()\n",
    "df = None\n",
    "df = spark.read.csv(\"s3a://andrew-bierbaum-insight-test-dataset/HackerNews/hacker_news_full-000000*.csv.gz\", header=True, multiLine=True, escape='\"')"
   ]
  },
  {
   "cell_type": "code",
   "execution_count": null,
   "metadata": {},
   "outputs": [],
   "source": [
    "#Convert spark data to be readable using sql queries\n",
    "#this could be likely spead up by sending all the keyword rows to pandas once, which is the slow step, then subsearching from there \n",
    "df.createOrReplaceTempView(\"HackerNews\")\n",
    "xamarin_results = spark.sql(\"SELECT time, text, id, parent FROM HackerNews WHERE text RLIKE 'xamarin|Xamarin' ORDER BY time ASC\")\n",
    "df_xamarin = xamarin_results.toPandas()\n",
    "df_xamarin = df_xamarin[['time', 'text', 'id', 'parent']]\n",
    "df_xamarin = df_xamarin.sort_values('time')\n",
    "\n",
    "flutter_results = spark.sql(\"SELECT time, text, id, parent FROM HackerNews WHERE text RLIKE 'flutter|Flutter' ORDER BY time ASC\")\n",
    "df_flutter = flutter_results.toPandas()\n",
    "df_flutter = df_flutter[['time', 'text', 'id', 'parent']]\n",
    "df_flutter = df_flutter.sort_values('time')\n",
    "\n",
    "react_native_results = spark.sql(\"SELECT time, text, id, parent FROM HackerNews WHERE text RLIKE 'react native|React native|React Native' ORDER BY time ASC\")\n",
    "df_react_native = react_native_results.toPandas()\n",
    "df_react_native = df_react_native[['time', 'text', 'id', 'parent']]\n",
    "df_react_native = df_react_native.sort_values('time')\n"
   ]
  },
  {
   "cell_type": "code",
   "execution_count": null,
   "metadata": {},
   "outputs": [],
   "source": [
    "conn = sqlite3.connect('TechGraph.db')\n",
    "cur = conn.cursor()\n",
    "conn.text_factory = str\n",
    "\n",
    "df_xamarin.to_sql('HackerNews_xamarin', conn, if_exists='replace')\n",
    "df_flutter.to_sql('HackerNews_flutter', conn, if_exists='replace')\n",
    "df_react_native.to_sql('HackerNews_react_native', conn, if_exists='replace')\n",
    "\n",
    "#delete non whitelisted subreddits to clean up mess\n",
    "conn.execute(\"DELETE FROM Reddit_flutter WHERE subreddit NOT IN ('FlutterDev','androiddev','programming','Android','techsupport','dartlang','technology','reactnative','Flutter','ProgrammerHumor','xamarindevelopers','Xamarin')\")\n",
    "\n",
    "conn.commit()\n",
    "conn.close()"
   ]
  },
  {
   "cell_type": "code",
   "execution_count": null,
   "metadata": {},
   "outputs": [],
   "source": []
  }
 ],
 "metadata": {
  "kernelspec": {
   "display_name": "Python 2",
   "language": "python",
   "name": "python2"
  },
  "language_info": {
   "codemirror_mode": {
    "name": "ipython",
    "version": 2
   },
   "file_extension": ".py",
   "mimetype": "text/x-python",
   "name": "python",
   "nbconvert_exporter": "python",
   "pygments_lexer": "ipython2",
   "version": "2.7.12"
  }
 },
 "nbformat": 4,
 "nbformat_minor": 2
}
