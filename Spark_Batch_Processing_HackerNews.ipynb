{
 "cells": [
  {
   "cell_type": "code",
   "execution_count": 1,
   "metadata": {},
   "outputs": [],
   "source": [
    "#sparting spark and reading Reddit\n",
    "from pyspark.sql import SparkSession\n",
    "spark = SparkSession.builder.appName(\"Reddit\").getOrCreate()\n",
    "df = None\n",
    "df = spark.read.csv(\"s3a://andrew-bierbaum-insight-test-dataset/HackerNews/hacker_news_full-000*.csv.gz\", header=True,multiLine=True, escape='\"')"
   ]
  },
  {
   "cell_type": "code",
   "execution_count": 2,
   "metadata": {},
   "outputs": [],
   "source": [
    "#spark.sql.caseSensitive = False\n",
    "#sqlContext.sql(\"set spark.sql.caseSensitive=false\")"
   ]
  },
  {
   "cell_type": "code",
   "execution_count": 3,
   "metadata": {},
   "outputs": [
    {
     "name": "stdout",
     "output_type": "stream",
     "text": [
      "+-------------+-----+----------+--------------------+-----+-------+----+--------------------+--------+-------+----+-----------+--------+-------+\n",
      "|           by|score|      time|           timestamp|title|   type| url|                text|  parent|deleted|dead|descendants|      id|ranking|\n",
      "+-------------+-----+----------+--------------------+-----+-------+----+--------------------+--------+-------+----+-----------+--------+-------+\n",
      "|      jonpugh| null|1470011203|2016-08-01 00:26:...| null|comment|null|I still can&#x27;...|12198470|   null|null|       null|12199585|   null|\n",
      "|mnemonicsloth| null|1283987630|2010-09-08 23:13:...| null|comment|null|<a href=\"http://y...| 1673082|   null|null|       null| 1673847|   null|\n",
      "|         null| null|1464793231|2016-06-01 15:00:...| null|comment|null|                null|11812488|   true|null|       null|11814825|   null|\n",
      "|  maxerickson| null|1493134717|2017-04-25 15:38:...| null|comment|null|First couple minu...|14194417|   null|null|       null|14194473|   null|\n",
      "|       anamax| null|1274194730|2010-05-18 14:58:...| null|comment|null|&#62; No, global ...| 1357545|   null|null|       null| 1357650|   null|\n",
      "+-------------+-----+----------+--------------------+-----+-------+----+--------------------+--------+-------+----+-----------+--------+-------+\n",
      "only showing top 5 rows\n",
      "\n",
      "root\n",
      " |-- by: string (nullable = true)\n",
      " |-- score: string (nullable = true)\n",
      " |-- time: string (nullable = true)\n",
      " |-- timestamp: string (nullable = true)\n",
      " |-- title: string (nullable = true)\n",
      " |-- type: string (nullable = true)\n",
      " |-- url: string (nullable = true)\n",
      " |-- text: string (nullable = true)\n",
      " |-- parent: string (nullable = true)\n",
      " |-- deleted: string (nullable = true)\n",
      " |-- dead: string (nullable = true)\n",
      " |-- descendants: string (nullable = true)\n",
      " |-- id: string (nullable = true)\n",
      " |-- ranking: string (nullable = true)\n",
      "\n"
     ]
    }
   ],
   "source": [
    "#showing the start of the data and format\n",
    "df.show(5)\n",
    "df.printSchema()"
   ]
  },
  {
   "cell_type": "code",
   "execution_count": 4,
   "metadata": {},
   "outputs": [],
   "source": [
    "#Convert spark data to be readable using sql queries\n",
    "df.createOrReplaceTempView(\"HackerNews\")\n",
    "xamarin_results = spark.sql(\"SELECT time, text FROM HackerNews WHERE text LIKE '%xamarin%'\")\n",
    "flutter_results = spark.sql(\"SELECT time, text FROM HackerNews WHERE text LIKE '%flutter%'\")\n",
    "#cross_xamarin_flutter_results = spark.sql(\"SELECT time, text FROM HackerNews WHERE text LIKE '%flutter%' AND WHERE text LIKE '%xamarin'\")\n",
    "#microsoft_results = spark.sql(\"SELECT time, text FROM HackerNews WHERE text LIKE '%microsoft%'\")\n",
    "#apple_results = spark.sql(\"SELECT time, text FROM HackerNews WHERE text LIKE '%apple%'\")\n",
    "#facebook_results = spark.sql(\"SELECT time, text FROM HackerNews WHERE text LIKE '%facebook%'\")\n",
    "#amazon_results = spark.sql(\"SELECT time, text FROM HackerNews WHERE text LIKE '%amazon%'\")\n",
    "#google_results = spark.sql(\"SELECT time, text FROM HackerNews WHERE text LIKE '%google%'\")\n",
    "#netflix_results = spark.sql(\"SELECT time, text FROM HackerNews WHERE text LIKE '%netlifx%'\")\n",
    "#cross_xamarin_flutter_results.show()"
   ]
  },
  {
   "cell_type": "code",
   "execution_count": 5,
   "metadata": {},
   "outputs": [],
   "source": [
    "#collect, convert dates to datetime format for later graphing, and sort data\n",
    "from datetime import datetime\n",
    "python_xamarin_results = xamarin_results.collect()\n",
    "python_xamarin_results_cleaned = [(datetime.fromtimestamp(float(i)),body.encode('ascii',errors='ignore')) for i, body in python_xamarin_results]\n",
    "python_xamarin_results_cleaned.sort()\n"
   ]
  },
  {
   "cell_type": "code",
   "execution_count": null,
   "metadata": {},
   "outputs": [],
   "source": [
    "#repeat collect, convert dates to datetime format for later graphing, and sort data for flutter results\n",
    "python_flutter_results = flutter_results.collect()\n",
    "python_flutter_results_cleaned = [(datetime.fromtimestamp(float(i)),body.encode('ascii',errors='ignore')) for i, body in python_flutter_results]\n",
    "python_flutter_results_cleaned.sort()"
   ]
  },
  {
   "cell_type": "code",
   "execution_count": null,
   "metadata": {},
   "outputs": [],
   "source": [
    "#sort, number, and then graph the data\n",
    "%matplotlib inline\n",
    "import numpy\n",
    "import matplotlib\n",
    "import matplotlib.pyplot as plt\n",
    "count = numpy.arange(len(python_xamarin_results_cleaned))\n",
    "#Date_Data = matplotlib.dates.datestr2num(clean_python_results_utc)\n",
    "Date_Data = []\n",
    "Body_Data = []\n",
    "for date, body in python_xamarin_results_cleaned:\n",
    "    Date_Data.append(date)\n",
    "    Body_Data.append(body)\n",
    "matplotlib.pyplot.plot_date(Date_Data,count,xdate=True, drawstyle = 'steps-pre', linestyle = 'solid' )\n",
    "matplotlib.pyplot.ylabel('Xamarin Mentions')\n",
    "matplotlib.pyplot.title('HackerNews Xamarin mentions')\n",
    "plt.show()\n",
    "plt.savefig('HackerNews_xamarin.png')"
   ]
  },
  {
   "cell_type": "code",
   "execution_count": null,
   "metadata": {},
   "outputs": [],
   "source": [
    "import pandas\n",
    "pandas_df = pandas.DataFrame({'date':Date_Data,'body':Body_Data})\n",
    "pandas_df.to_csv(\"HackerNews_xamarin.csv\")\n",
    "pandas_df"
   ]
  },
  {
   "cell_type": "code",
   "execution_count": null,
   "metadata": {},
   "outputs": [],
   "source": [
    "#find flutter posts that already contain xamarin and export to csv\n",
    "pandas_df[pandas_df['body'].str.contains('flutter')].to_csv('HackerNews_xamarin_flutter_cross.csv')"
   ]
  },
  {
   "cell_type": "code",
   "execution_count": null,
   "metadata": {},
   "outputs": [],
   "source": [
    "#repeat graphing and later csv export for flutter\n",
    "count = numpy.arange(len(python_flutter_results_cleaned))\n",
    "Date_Data = []\n",
    "Body_Data = []\n",
    "for date, body in python_flutter_results_cleaned:\n",
    "    Date_Data.append(date)\n",
    "    Body_Data.append(body)\n",
    "matplotlib.pyplot.plot_date(Date_Data,count,xdate=True, drawstyle = 'steps-pre', linestyle = 'solid' )\n",
    "matplotlib.pyplot.ylabel('Flutter Mentions')\n",
    "matplotlib.pyplot.title('HackerNews Flutter mentions')\n",
    "plt.show()\n",
    "plt.savefig('HackerNews_flutter.png')\n",
    "\n",
    "#print csv for flutter\n",
    "pandas_df = pandas.DataFrame({'date':Date_Data,'body':Body_Data})\n",
    "pandas_df.head()\n",
    "pandas_df.to_csv(\"HackerNews_flutter.csv\")"
   ]
  },
  {
   "cell_type": "code",
   "execution_count": null,
   "metadata": {},
   "outputs": [],
   "source": [
    "# #building dash graph\n",
    "# import dash\n",
    "# import dash_core_components as dcc\n",
    "# import dash_html_components as html\n",
    "\n",
    "# df = pandas.read_csv(\"HackerNews_xamarin.csv\")\n",
    "# xamarin_Date_Data = df['date'].tolist()\n",
    "# xamarin_Body_Data = df['body'].tolist()\n",
    "# xamarin_count = df['Unnamed: 0'].tolist()\n",
    "# df = None\n",
    "\n",
    "# df = pandas.read_csv(\"HackerNews_flutter.csv\")\n",
    "# flutter_Date_Data = df['date'].tolist()\n",
    "# flutter_Body_Data = df['body'].tolist()\n",
    "# flutter_count = df['Unnamed: 0'].tolist()\n",
    "# df = None\n",
    "\n",
    "# external_stylesheets = ['https://codepen.io/chriddyp/pen/bWLwgP.css']\n",
    "\n",
    "# app = dash.Dash(__name__, external_stylesheets=external_stylesheets)\n",
    "\n",
    "# app.layout = html.Div(children=[\n",
    "#     html.H1(children='HackerNews Mentions'),\n",
    "#     html.Div(children='''Comparing the mentions of Xamarin and Flutter on HackerNews'''),\n",
    "    \n",
    "#     #builds the year range selector\n",
    "#     dcc.RangeSlider(id='year_slider', min=2008, max=2020, value=[2008, 2020]),\n",
    "                    \n",
    "#     #builds the graph                    \n",
    "#     dcc.Graph(\n",
    "#         id='HackerNews-graph',\n",
    "#         figure={\n",
    "#             'data': [\n",
    "#                 {'x': xamarin_Date_Data, 'y': xamarin_count, 'text': xamarin_Body_Data,'type': 'scatter', 'name': 'HackerNews Xamarin Mentions'},\n",
    "#                 {'x': flutter_Date_Data, 'y': flutter_count, 'text': flutter_Body_Data,'type': 'scatter', 'name': 'HackerNews Flutter Mentions'},\n",
    "#             ],\n",
    "#             'layout': {\n",
    "#                 'title': 'Mentions'\n",
    "#             }\n",
    "#         }\n",
    "#     )\n",
    "# ])\n"
   ]
  },
  {
   "cell_type": "code",
   "execution_count": null,
   "metadata": {},
   "outputs": [],
   "source": []
  }
 ],
 "metadata": {
  "kernelspec": {
   "display_name": "Python 2",
   "language": "python",
   "name": "python2"
  },
  "language_info": {
   "codemirror_mode": {
    "name": "ipython",
    "version": 2
   },
   "file_extension": ".py",
   "mimetype": "text/x-python",
   "name": "python",
   "nbconvert_exporter": "python",
   "pygments_lexer": "ipython2",
   "version": "2.7.12"
  }
 },
 "nbformat": 4,
 "nbformat_minor": 2
}
