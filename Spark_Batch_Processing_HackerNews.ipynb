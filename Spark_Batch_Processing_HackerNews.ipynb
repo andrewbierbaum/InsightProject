{
 "cells": [
  {
   "cell_type": "code",
   "execution_count": 1,
   "metadata": {},
   "outputs": [],
   "source": [
    "#sparting spark and reading Reddit\n",
    "from pyspark.sql import SparkSession\n",
    "spark = SparkSession.builder.appName(\"Reddit\").getOrCreate()\n",
    "df = None\n",
    "df = spark.read.csv(\"s3a://andrew-bierbaum-insight-test-dataset/HackerNews/hacker_news_full-000*.csv.gz\", header=True,multiLine=True, escape='\"')"
   ]
  },
  {
   "cell_type": "code",
   "execution_count": 2,
   "metadata": {},
   "outputs": [],
   "source": [
    "#spark.sql.caseSensitive = False\n",
    "#sqlContext.sql(\"set spark.sql.caseSensitive=false\")"
   ]
  },
  {
   "cell_type": "code",
   "execution_count": 3,
   "metadata": {},
   "outputs": [
    {
     "name": "stdout",
     "output_type": "stream",
     "text": [
      "+-------------+-----+----------+--------------------+-----+-------+----+--------------------+--------+-------+----+-----------+--------+-------+\n",
      "|           by|score|      time|           timestamp|title|   type| url|                text|  parent|deleted|dead|descendants|      id|ranking|\n",
      "+-------------+-----+----------+--------------------+-----+-------+----+--------------------+--------+-------+----+-----------+--------+-------+\n",
      "|      jonpugh| null|1470011203|2016-08-01 00:26:...| null|comment|null|I still can&#x27;...|12198470|   null|null|       null|12199585|   null|\n",
      "|mnemonicsloth| null|1283987630|2010-09-08 23:13:...| null|comment|null|<a href=\"http://y...| 1673082|   null|null|       null| 1673847|   null|\n",
      "|         null| null|1464793231|2016-06-01 15:00:...| null|comment|null|                null|11812488|   true|null|       null|11814825|   null|\n",
      "|  maxerickson| null|1493134717|2017-04-25 15:38:...| null|comment|null|First couple minu...|14194417|   null|null|       null|14194473|   null|\n",
      "|       anamax| null|1274194730|2010-05-18 14:58:...| null|comment|null|&#62; No, global ...| 1357545|   null|null|       null| 1357650|   null|\n",
      "+-------------+-----+----------+--------------------+-----+-------+----+--------------------+--------+-------+----+-----------+--------+-------+\n",
      "only showing top 5 rows\n",
      "\n",
      "root\n",
      " |-- by: string (nullable = true)\n",
      " |-- score: string (nullable = true)\n",
      " |-- time: string (nullable = true)\n",
      " |-- timestamp: string (nullable = true)\n",
      " |-- title: string (nullable = true)\n",
      " |-- type: string (nullable = true)\n",
      " |-- url: string (nullable = true)\n",
      " |-- text: string (nullable = true)\n",
      " |-- parent: string (nullable = true)\n",
      " |-- deleted: string (nullable = true)\n",
      " |-- dead: string (nullable = true)\n",
      " |-- descendants: string (nullable = true)\n",
      " |-- id: string (nullable = true)\n",
      " |-- ranking: string (nullable = true)\n",
      "\n"
     ]
    }
   ],
   "source": [
    "#showing the start of the data and format\n",
    "df.show(5)\n",
    "df.printSchema()"
   ]
  },
  {
   "cell_type": "code",
   "execution_count": 4,
   "metadata": {},
   "outputs": [
    {
     "name": "stdout",
     "output_type": "stream",
     "text": [
      "+----------+--------------------+\n",
      "|      time|                text|\n",
      "+----------+--------------------+\n",
      "|1463308051|Could be anything...|\n",
      "|1439461388|As others have sa...|\n",
      "|1353638659|<i>\"Microsoft pro...|\n",
      "|1429371259|Lobbying from loc...|\n",
      "|1494207277|Joel Spolsky famo...|\n",
      "|1532716429|I don&#x27;t thin...|\n",
      "|1287340736|<a href=\"http://m...|\n",
      "|1477677180|Not that I have a...|\n",
      "|1348621918|Probably Apple ha...|\n",
      "|1368829768|Firefox gives thi...|\n",
      "|1343270965|You are completel...|\n",
      "|1321968941|Sure.<p>&#62;With...|\n",
      "|1510177005|Yeah, it was a gr...|\n",
      "|1203406862|This is silly. Th...|\n",
      "|1359471757|When I can run xc...|\n",
      "|1286160319|Of course, since ...|\n",
      "|1277857562|engineers.<p>marc...|\n",
      "|1535938164|This is similar t...|\n",
      "|1264769069|If we assume iPad...|\n",
      "|1535836057|<a href=\"https:&#...|\n",
      "+----------+--------------------+\n",
      "only showing top 20 rows\n",
      "\n"
     ]
    }
   ],
   "source": [
    "#Convert spark data to be readable using sql queries\n",
    "df.createOrReplaceTempView(\"HackerNews\")\n",
    "microsoft_results = spark.sql(\"SELECT time, text FROM HackerNews WHERE text LIKE '%microsoft%'\")\n",
    "facebook_results = spark.sql(\"SELECT time, text FROM HackerNews WHERE text LIKE '%facebook%'\")\n",
    "amazon_results = spark.sql(\"SELECT time, text FROM HackerNews WHERE text LIKE '%amazon%'\")\n",
    "google_results = spark.sql(\"SELECT time, text FROM HackerNews WHERE text LIKE '%google%'\")\n",
    "microsoft_results.show()"
   ]
  },
  {
   "cell_type": "code",
   "execution_count": 5,
   "metadata": {},
   "outputs": [],
   "source": [
    "#collect, convert dates to datetime format for later graphing, and sort data\n",
    "from datetime import datetime\n",
    "python_microsoft_results = microsoft_results.collect()\n",
    "python_microsoft_results_cleaned = [(datetime.fromtimestamp(float(i)),body.encode('ascii',errors='ignore')) for i, body in python_microsoft_results]\n",
    "python_microsoft_results_cleaned.sort()\n",
    "\n",
    "#b = bytes('pythön', encoding='utf-8')\n",
    "#print(str(b, encoding='ascii', errors='ignore'))"
   ]
  },
  {
   "cell_type": "code",
   "execution_count": 6,
   "metadata": {},
   "outputs": [],
   "source": [
    "#validation steps\n",
    "\n",
    "#print python_microsoft_results_cleaned\n",
    "#print python_microsoft_results_cleaned"
   ]
  },
  {
   "cell_type": "code",
   "execution_count": 7,
   "metadata": {},
   "outputs": [
    {
     "data": {
      "image/png": "[encoded data removed]",
      "text/plain": [
       "<Figure size 432x288 with 1 Axes>"
      ]
     },
     "metadata": {
      "needs_background": "light"
     },
     "output_type": "display_data"
    },
    {
     "data": {
      "text/plain": [
       "<Figure size 432x288 with 0 Axes>"
      ]
     },
     "metadata": {},
     "output_type": "display_data"
    }
   ],
   "source": [
    "#sort, number, and then graph the data\n",
    "%matplotlib inline\n",
    "import numpy\n",
    "import matplotlib\n",
    "import matplotlib.pyplot as plt\n",
    "count = numpy.arange(len(python_microsoft_results_cleaned))\n",
    "#Date_Data = matplotlib.dates.datestr2num(clean_python_results_utc)\n",
    "Date_Data = []\n",
    "Body_Data = []\n",
    "for date, body in python_microsoft_results_cleaned:\n",
    "    Date_Data.append(date)\n",
    "    Body_Data.append(body)\n",
    "matplotlib.pyplot.plot_date(Date_Data,count,xdate=True, drawstyle = 'steps-pre', linestyle = 'solid' )\n",
    "matplotlib.pyplot.ylabel('Microsoft Mentions')\n",
    "matplotlib.pyplot.title('HackerNews Microsoft mentions')\n",
    "plt.show()\n",
    "plt.savefig('HackerNews.png')\n"
   ]
  },
  {
   "cell_type": "code",
   "execution_count": 8,
   "metadata": {},
   "outputs": [],
   "source": [
    "#import csv\n",
    "import pandas\n",
    "\n",
    "# with open('dash.csv', 'w') as csvfile:   #, newline=''\n",
    "#     #csv.writer(csvfile, delimiter=' ', quotechar='|', quoting=csv.QUOTE_MINIMAL)\n",
    "#     writer = csv.writer(csvfile)\n",
    "#     writer.writerows(\"count\",\"Date_Data\")\n",
    "\n",
    "#zipped_Data = zip(Date_Data, body)\n",
    "#pandas_df = pandas.DataFrame(zipped_Data)\n",
    "pandas_df = pandas.DataFrame({'date':Date_Data,'body':Body_Data})\n",
    "pandas_df.head()\n",
    "pandas_df.to_csv(\"HackerNews_Microsoft.csv\")\n",
    "\n",
    "# percentile_list = pd.DataFrame(\n",
    "#     {'lst1Title': lst1,\n",
    "#      'lst2Title': lst2,\n",
    "#      'lst3Title': lst3\n",
    "#     })"
   ]
  },
  {
   "cell_type": "code",
   "execution_count": 5,
   "metadata": {},
   "outputs": [],
   "source": [
    "# import csv\n",
    "# import pandas\n",
    "\n",
    "# pandas_df = pandas.DataFrame(python_results_timestamp, columns = ['count, timestamp'])\n",
    "# pandas_df.show()"
   ]
  },
  {
   "cell_type": "code",
   "execution_count": 6,
   "metadata": {},
   "outputs": [],
   "source": [
    "# import dash\n",
    "# import dash_core_components as dcc\n",
    "# import dash_html_components as html\n",
    "\n",
    "# external_stylesheets = ['https://codepen.io/chriddyp/pen/bWLwgP.css']\n",
    "\n",
    "# app = dash.Dash(__name__, external_stylesheets=external_stylesheets)\n",
    "\n",
    "# app.layout = html.Div(children=[\n",
    "#     html.H1(children='Reddit 2006'),\n",
    "\n",
    "#     html.Div(children='''\n",
    "#         Dash: A web application framework for Python.\n",
    "#     '''),\n",
    "\n",
    "#     dcc.Graph(\n",
    "#         id='Reddit 2006 python mentions',\n",
    "#         figure={\n",
    "#             'data': [\n",
    "#                 {'x': Date_Data, 'y': count, 'type': 'scatter', 'name': 'SF'}\n",
    "#             ],\n",
    "#             'layout': {\n",
    "#                 'title': 'Dash Data Visualization'\n",
    "#             }\n",
    "#         }\n",
    "#     )\n",
    "# ])\n",
    "\n",
    "# if __name__ == '__main__':\n",
    "#     app.run_server(debug=True, port = 9990, host ='0.0.0.0')"
   ]
  }
 ],
 "metadata": {
  "kernelspec": {
   "display_name": "Python 2",
   "language": "python",
   "name": "python2"
  },
  "language_info": {
   "codemirror_mode": {
    "name": "ipython",
    "version": 2
   },
   "file_extension": ".py",
   "mimetype": "text/x-python",
   "name": "python",
   "nbconvert_exporter": "python",
   "pygments_lexer": "ipython2",
   "version": "2.7.12"
  }
 },
 "nbformat": 4,
 "nbformat_minor": 2
}
