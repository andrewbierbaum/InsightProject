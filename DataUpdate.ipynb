{
 "cells": [
  {
   "cell_type": "code",
   "execution_count": 1,
   "metadata": {},
   "outputs": [],
   "source": [
    "\n",
    "\n",
    "import urllib\n",
    "import json\n",
    "from datetime import datetime\n",
    "import sqlite3\n",
    "\n",
    "#set up sql connection to get ready to write the data\n",
    "conn = sqlite3.connect('TechGraph.db')\n",
    "cur = conn.cursor()\n",
    "conn.text_factory = str\n",
    "cur.execute(\"SELECT max(created_utc) FROM Reddit_xamarin\")\n",
    "last_timestamp = cur.fetchall()[0][0]\n",
    "\n",
    "#add indexing to the table to max this max much faster, I don't need to worry about speed loss from having an index as well\n"
   ]
  },
  {
   "cell_type": "code",
   "execution_count": 2,
   "metadata": {},
   "outputs": [
    {
     "data": {
      "text/plain": [
       "1548961211"
      ]
     },
     "execution_count": 2,
     "metadata": {},
     "output_type": "execute_result"
    }
   ],
   "source": [
    "last_timestamp"
   ]
  },
  {
   "cell_type": "code",
   "execution_count": null,
   "metadata": {},
   "outputs": [],
   "source": []
  },
  {
   "cell_type": "code",
   "execution_count": 3,
   "metadata": {},
   "outputs": [],
   "source": [
    "#get the data from the web api and load the resulting json into python\n",
    "xamarin_url = \"https://api.pushshift.io/reddit/search/comment/?q=xamarin&after={}&sort=asc&sort_type=created_utc&limit=5000\".format(last_timestamp)\n",
    "xamarin_file = urllib.urlopen(xamarin_url)\n",
    "xamarin_data = xamarin_file.read()\n",
    "xamarin_data_json = json.loads(xamarin_data)"
   ]
  },
  {
   "cell_type": "code",
   "execution_count": 4,
   "metadata": {},
   "outputs": [
    {
     "data": {
      "text/plain": [
       "[(4966,)]"
      ]
     },
     "execution_count": 4,
     "metadata": {},
     "output_type": "execute_result"
    }
   ],
   "source": [
    "\n",
    "cur.execute(\"SELECT count(*) FROM Reddit_xamarin\")\n",
    "cur.fetchall()\n",
    "\n",
    "\n"
   ]
  },
  {
   "cell_type": "code",
   "execution_count": 6,
   "metadata": {},
   "outputs": [
    {
     "name": "stdout",
     "output_type": "stream",
     "text": [
      "INSERT INTO Reddit_xamarin (body, created_utc, subreddit_id, link_id, parent_id, id, subreddit) values (\"Did they share any more information (or do you know of any existing details I may not) that describe what their plan/goal is for the WASM/client-side runtime?  As I understand it the WASM prototypes are based on mono and I'm guessing that's still the case, but is that the plan for shipping 1.0?  No plans to expand/consolidate on the Core runtime?\n",
      "\n",
      "I think Blazor has a lot of really cool potential but even with .NET Core moving as fast as it is these days I feel like we're 2 years away from having something viable running on the client.  I'm choosing to use viable to mean package download size and performance competitive with angular or react.\n",
      "\n",
      "I know mono runtime bits end up in Xamarin mobile apps but those app packages are generally pretty large and a far cry from a reasonable size for a web app.\n",
      "\n",
      "Anyway, thanks for sharing!\",1548967088,\"t5_2qh3h\",\"t3_alradt\",\"t3_alradt\",\"efgx0j2\",\"dotnet\")\n",
      "INSERT INTO Reddit_xamarin (body, created_utc, subreddit_id, link_id, parent_id, id, subreddit) values (\"&gt; I have no idea where you would use .Net Standard but it's there if you need it.\n",
      "\n",
      "If you write libraries that you want to use from different runtimes (.NET, .NET Core, Mono, Xamarin, Unity, UWP).\",1548968233,\"t5_2qhdf\",\"t3_als1ke\",\"t1_efgwjl1\",\"efgytg4\",\"csharp\")\n",
      "INSERT INTO Reddit_xamarin (body, created_utc, subreddit_id, link_id, parent_id, id, subreddit) values (\"I'm a Linux Dev. I use Linux everywhere. \n",
      "\n",
      "But there are plenty of \"windows camp\" devs that use the Microsoft Dev stack. Having worked with Xamarin, it's pretty decent, if you don't mind sounding a week getting it up and running. It's pretty laborious.\n",
      "\n",
      "But I daresay that most developers are NOT just MacOS or Linux... Just the really good ones. \",1548992633,\"t5_2qh16\",\"t3_alumdq\",\"t1_efhlnqq\",\"efhtagb\",\"technology\")\n"
     ]
    },
    {
     "ename": "OperationalError",
     "evalue": "near \"windows\": syntax error",
     "output_type": "error",
     "traceback": [
      "\u001b[0;31m---------------------------------------------------------------------------\u001b[0m",
      "\u001b[0;31mOperationalError\u001b[0m                          Traceback (most recent call last)",
      "\u001b[0;32m<ipython-input-6-a33f52398b39>\u001b[0m in \u001b[0;36m<module>\u001b[0;34m()\u001b[0m\n\u001b[1;32m     16\u001b[0m     \u001b[0mquery\u001b[0m \u001b[0;34m=\u001b[0m \u001b[0;34m'INSERT INTO Reddit_xamarin (body, created_utc, subreddit_id, link_id, parent_id, id, subreddit) values (\"{}\",{},\"{}\",\"{}\",\"{}\",\"{}\",\"{}\")'\u001b[0m\u001b[0;34m.\u001b[0m\u001b[0mformat\u001b[0m\u001b[0;34m(\u001b[0m\u001b[0mbody\u001b[0m\u001b[0;34m,\u001b[0m\u001b[0mdate\u001b[0m\u001b[0;34m,\u001b[0m\u001b[0msubreddit_id\u001b[0m\u001b[0;34m,\u001b[0m\u001b[0mlink_id\u001b[0m\u001b[0;34m,\u001b[0m \u001b[0mparent_id\u001b[0m\u001b[0;34m,\u001b[0m \u001b[0mid\u001b[0m\u001b[0;34m,\u001b[0m \u001b[0msubreddit\u001b[0m\u001b[0;34m)\u001b[0m\u001b[0;34m\u001b[0m\u001b[0m\n\u001b[1;32m     17\u001b[0m     \u001b[0;32mprint\u001b[0m\u001b[0;34m(\u001b[0m\u001b[0mquery\u001b[0m\u001b[0;34m)\u001b[0m\u001b[0;34m\u001b[0m\u001b[0m\n\u001b[0;32m---> 18\u001b[0;31m     \u001b[0mcur\u001b[0m\u001b[0;34m.\u001b[0m\u001b[0mexecute\u001b[0m\u001b[0;34m(\u001b[0m\u001b[0mquery\u001b[0m\u001b[0;34m)\u001b[0m\u001b[0;34m\u001b[0m\u001b[0m\n\u001b[0m\u001b[1;32m     19\u001b[0m \u001b[0;34m\u001b[0m\u001b[0m\n\u001b[1;32m     20\u001b[0m \u001b[0mcur\u001b[0m\u001b[0;34m.\u001b[0m\u001b[0mexecute\u001b[0m\u001b[0;34m(\u001b[0m\u001b[0;34m\"SELECT count(*) FROM Reddit_xamarin\"\u001b[0m\u001b[0;34m)\u001b[0m\u001b[0;34m\u001b[0m\u001b[0m\n",
      "\u001b[0;31mOperationalError\u001b[0m: near \"windows\": syntax error"
     ]
    }
   ],
   "source": [
    "cur.execute(\"SELECT sql FROM sqlite_master WHERE name='Reddit_xamarin'\")\n",
    "cur.fetchall()\n",
    "\n",
    "Date_Data = []\n",
    "Id_Data = []\n",
    "Body_Data = []\n",
    "for i in range(len(xamarin_data_json['data'])):\n",
    "    body = xamarin_data_json['data'][i]['body'].encode('ascii',errors='ignore')\n",
    "    date = xamarin_data_json['data'][i]['created_utc']\n",
    "    subreddit_id = xamarin_data_json['data'][i]['subreddit_id']\n",
    "    link_id = xamarin_data_json['data'][i]['link_id']\n",
    "    parent_id = xamarin_data_json['data'][i]['parent_id']\n",
    "    id = xamarin_data_json['data'][i]['id']\n",
    "    subreddit = xamarin_data_json['data'][i]['subreddit']\n",
    "    \n",
    "    query = 'INSERT INTO Reddit_xamarin (body, created_utc, subreddit_id, link_id, parent_id, id, subreddit) values (\"{}\",{},\"{}\",\"{}\",\"{}\",\"{}\",\"{}\")'.format(body,date,subreddit_id,link_id, parent_id, id, subreddit)\n",
    "    print(query)\n",
    "    cur.execute(query)\n",
    "    \n",
    "cur.execute(\"SELECT count(*) FROM Reddit_xamarin\")\n",
    "cur.fetchall()"
   ]
  },
  {
   "cell_type": "code",
   "execution_count": null,
   "metadata": {},
   "outputs": [],
   "source": []
  },
  {
   "cell_type": "code",
   "execution_count": null,
   "metadata": {},
   "outputs": [],
   "source": [
    "\n",
    "cur.execute(\"SELECT max(created_utc) FROM Reddit_react_native\")\n",
    "last_timestamp = cur.fetchall()[0][0]\n",
    "last_timestamp\n",
    "\n",
    "react_native_url = \"https://api.pushshift.io/reddit/search/comment/?q=react%20native&after={}&sort=asc&sort_type=created_utc&limit=5000\".format(last_timestamp)\n",
    "react_native_file = urllib.urlopen(react_native_url)\n",
    "react_native_data = react_native_file.read()\n",
    "react_native_data_json = json.loads(react_native_data)\n",
    "\n",
    "cur.execute(\"SELECT count(*) FROM Reddit_react_native\")\n",
    "cur.fetchall()\n",
    "\n",
    "\n",
    "Date_Data = []\n",
    "Id_Data = []\n",
    "Body_Data = []\n",
    "for i in range(len(react_native_data_json['data'])):\n",
    "    body = react_native_data_json['data'][i]['body'].encode('ascii',errors='ignore')\n",
    "    date = react_native_data_json['data'][i]['created_utc']\n",
    "    subreddit_id = react_native_data_json['data'][i]['subreddit_id']\n",
    "    link_id = react_native_data_json['data'][i]['link_id']\n",
    "    parent_id = react_native_data_json['data'][i]['parent_id']\n",
    "    id = react_native_data_json['data'][i]['id']\n",
    "    subreddit = react_native_data_json['data'][i]['subreddit']\n",
    "    \n",
    "    \n",
    "    query = 'INSERT INTO Reddit_react_native (body, created_utc, subreddit_id, link_id, parent_id, id, subreddit ) values (\"{}\",{},\"{}\",\"{}\",\"{}\",\"{}\",\"{}\")'.format(body,date,subreddit_id,link_id, parent_id, id, subreddit)\n",
    "    cur.execute(query)\n",
    "    \n",
    "    \n",
    "cur.execute(\"SELECT count(*) FROM Reddit_react_native\")\n",
    "cur.fetchall()"
   ]
  },
  {
   "cell_type": "code",
   "execution_count": null,
   "metadata": {},
   "outputs": [],
   "source": [
    "cur.execute(\"SELECT max(created_utc) FROM Reddit_flutter\")\n",
    "last_timestamp = cur.fetchall()[0][0]\n",
    "last_timestamp"
   ]
  },
  {
   "cell_type": "code",
   "execution_count": null,
   "metadata": {},
   "outputs": [],
   "source": [
    "flutter_url = \"https://api.pushshift.io/reddit/search/comment/?q=flutter&after={}&sort=asc&sort_type=created_utc&limit=10000\".format(last_timestamp)\n",
    "flutter_file = urllib.urlopen(flutter_url)\n",
    "flutter_data = flutter_file.read()\n",
    "flutter_data_json = json.loads(flutter_data)"
   ]
  },
  {
   "cell_type": "code",
   "execution_count": null,
   "metadata": {},
   "outputs": [],
   "source": [
    "\n",
    "len(flutter_data_json['data'])\n",
    "#this is maxing out the amount of data I can scrap. I need to ban subreddits or something\n"
   ]
  },
  {
   "cell_type": "code",
   "execution_count": null,
   "metadata": {},
   "outputs": [],
   "source": [
    "\n",
    "cur.execute(\"SELECT count(*) FROM Reddit_flutter\")\n",
    "cur.fetchall()\n"
   ]
  },
  {
   "cell_type": "code",
   "execution_count": null,
   "metadata": {},
   "outputs": [],
   "source": [
    "\n",
    "Date_Data = []\n",
    "Id_Data = []\n",
    "Body_Data = []\n",
    "for i in range(len(flutter_data_json['data'])):\n",
    "    body = flutter_data_json['data'][i]['body'].encode('ascii',errors='ignore')\n",
    "    date = flutter_data_json['data'][i]['created_utc']\n",
    "    subreddit_id = flutter_data_json['data'][i]['subreddit_id']\n",
    "    link_id = flutter_data_json['data'][i]['link_id']\n",
    "    parent_id = flutter_data_json['data'][i]['parent_id']\n",
    "    id = flutter_data_json['data'][i]['id']\n",
    "    subreddit = flutter_data_json['data'][i]['subreddit']\n",
    "    \n",
    "    query = 'INSERT INTO Reddit_flutter (body, created_utc, subreddit_id, link_id, parent_id, id, subreddit ) values (\"{}\",{},\"{}\",\"{}\",\"{}\",\"{}\",\"{}\")'.format(body,date,subreddit_id,link_id, parent_id, id, subreddit)\n",
    "    cur.execute(query)"
   ]
  },
  {
   "cell_type": "code",
   "execution_count": null,
   "metadata": {},
   "outputs": [],
   "source": [
    "\n",
    "cur.execute(\"SELECT count(*) FROM Reddit_flutter\")\n",
    "cur.fetchall()"
   ]
  },
  {
   "cell_type": "code",
   "execution_count": 3,
   "metadata": {},
   "outputs": [],
   "source": [
    "conn.commit()\n",
    "conn.close()"
   ]
  },
  {
   "cell_type": "code",
   "execution_count": null,
   "metadata": {},
   "outputs": [],
   "source": []
  }
 ],
 "metadata": {
  "kernelspec": {
   "display_name": "Python 2",
   "language": "python",
   "name": "python2"
  },
  "language_info": {
   "codemirror_mode": {
    "name": "ipython",
    "version": 2
   },
   "file_extension": ".py",
   "mimetype": "text/x-python",
   "name": "python",
   "nbconvert_exporter": "python",
   "pygments_lexer": "ipython2",
   "version": "2.7.12"
  }
 },
 "nbformat": 4,
 "nbformat_minor": 2
}
