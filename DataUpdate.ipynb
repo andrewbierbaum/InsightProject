{
 "cells": [
  {
   "cell_type": "code",
   "execution_count": 7,
   "metadata": {},
   "outputs": [],
   "source": [
    "import urllib\n",
    "\n",
    "xamarin_link = \"https://api.pushshift.io/reddit/search/comment/?q=xamarin\"\n",
    "xamarin_file = urllib.urlopen(xamarin_link)\n",
    "xamarin_data = xamarin_file.read()\n"
   ]
  },
  {
   "cell_type": "code",
   "execution_count": 17,
   "metadata": {},
   "outputs": [],
   "source": [
    "#xamarin_data"
   ]
  },
  {
   "cell_type": "code",
   "execution_count": 18,
   "metadata": {},
   "outputs": [],
   "source": [
    "import json \n",
    "from datetime import datetime\n",
    "xamarin_data_json = json.loads(xamarin_data)\n",
    "\n",
    "Date_Data = []\n",
    "Body_Data = []\n",
    "\n",
    "for i in range(len(xamarin_data_json['data'])):\n",
    "    Date_Data.append(datetime.fromtimestamp(float(xamarin_data_json['data'][i]['created_utc'])))\n",
    "    Body_Data.append(xamarin_data_json['data'][i]['body'].encode('ascii',errors='ignore'))\n"
   ]
  },
  {
   "cell_type": "code",
   "execution_count": null,
   "metadata": {},
   "outputs": [],
   "source": []
  }
 ],
 "metadata": {
  "kernelspec": {
   "display_name": "Python 2",
   "language": "python",
   "name": "python2"
  },
  "language_info": {
   "codemirror_mode": {
    "name": "ipython",
    "version": 2
   },
   "file_extension": ".py",
   "mimetype": "text/x-python",
   "name": "python",
   "nbconvert_exporter": "python",
   "pygments_lexer": "ipython2",
   "version": "2.7.12"
  }
 },
 "nbformat": 4,
 "nbformat_minor": 2
}
