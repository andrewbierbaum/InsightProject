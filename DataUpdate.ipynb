{
 "cells": [
  {
   "cell_type": "code",
   "execution_count": 1,
   "metadata": {},
   "outputs": [],
   "source": [
    "#reddit api works with urllib\n",
    "import urllib\n",
    "#hackernews api works with requests\n",
    "import requests\n",
    "import json\n",
    "from datetime import datetime\n",
    "import sqlite3\n",
    "import pandas\n",
    "from pandas.io.json import json_normalize\n",
    "#set up sql connection to get ready to write the data\n",
    "conn = sqlite3.connect('TechGraph.db')\n",
    "cur = conn.cursor()\n",
    "conn.text_factory = str"
   ]
  },
  {
   "cell_type": "code",
   "execution_count": 2,
   "metadata": {},
   "outputs": [],
   "source": [
    "cur.execute(\"SELECT max(time) FROM HackerNews_xamarin\")\n",
    "last_timestamp = cur.fetchall()[0][0]\n",
    "\n",
    "\n",
    "xamarin_url = \"https://hn.algolia.com/api/v1/search?query=xamarin&numericFilters=created_at_i>{}&hitsPerPage=1000&tags=comment\".format(last_timestamp)\n",
    "headers = {'User-Agent': 'Mozilla/5.0 (Macintosh; Intel Mac OS X 10_10_1) AppleWebKit/537.36 (KHTML, like Gecko) Chrome/39.0.2171.95 Safari/537.36'}\n",
    "xamarin_file = requests.get(xamarin_url,headers=headers)\n",
    "xamarin_data = xamarin_file.content\n",
    "xamarin_data_json = json.loads(xamarin_data)\n",
    "if xamarin_data_json['nbHits']>0:\n",
    "    df = json_normalize(xamarin_data_json['hits'])\n",
    "    df = df.rename(index=str, columns={\"created_at_i\":\"time\", \"comment_text\":\"text\", \"story_id\":\"id\", \"parent_id\":\"parent\"})\n",
    "    df = df[['time', 'text', 'id', 'parent']]\n",
    "    df = df.sort_values('time')\n",
    "    df.to_sql(\"HackerNews_xamarin\",conn, if_exists='append', index = False) \n",
    "df = None"
   ]
  },
  {
   "cell_type": "code",
   "execution_count": 3,
   "metadata": {},
   "outputs": [],
   "source": [
    "cur.execute(\"SELECT max(time) FROM HackerNews_react_native\")\n",
    "last_timestamp = cur.fetchall()[0][0]\n",
    "\n",
    "\n",
    "react_native_url = \"https://hn.algolia.com/api/v1/search?query=react%20native&numericFilters=created_at_i>{}&hitsPerPage=1000&tags=comment\".format(last_timestamp)\n",
    "headers = {'User-Agent': 'Mozilla/5.0 (Macintosh; Intel Mac OS X 10_10_1) AppleWebKit/537.36 (KHTML, like Gecko) Chrome/39.0.2171.95 Safari/537.36'}\n",
    "react_native_file = requests.get(react_native_url,headers=headers)\n",
    "react_native_data = react_native_file.content\n",
    "react_native_data_json = json.loads(react_native_data)\n",
    "if react_native_data_json['nbHits']>0:\n",
    "    df = json_normalize(react_native_data_json['hits'])\n",
    "    df = df.rename(index=str, columns={\"created_at_i\":\"time\", \"comment_text\":\"text\", \"story_id\":\"id\", \"parent_id\":\"parent\"})\n",
    "    df = df[['time', 'text', 'id', 'parent']]\n",
    "    df = df.sort_values('time')\n",
    "    df.to_sql(\"HackerNews_react_native\",conn, if_exists='append', index = False)\n",
    "df = None"
   ]
  },
  {
   "cell_type": "code",
   "execution_count": 4,
   "metadata": {},
   "outputs": [],
   "source": [
    "cur.execute(\"SELECT max(time) FROM HackerNews_flutter\")\n",
    "last_timestamp = cur.fetchall()[0][0]\n",
    "\n",
    "\n",
    "flutter_url = \"https://hn.algolia.com/api/v1/search?query=flutter&numericFilters=created_at_i>{}&hitsPerPage=1000&tags=comment\".format(last_timestamp)\n",
    "headers = {'User-Agent': 'Mozilla/5.0 (Macintosh; Intel Mac OS X 10_10_1) AppleWebKit/537.36 (KHTML, like Gecko) Chrome/39.0.2171.95 Safari/537.36'}\n",
    "flutter_file = requests.get(flutter_url,headers=headers)\n",
    "flutter_data = flutter_file.content\n",
    "flutter_data_json = json.loads(flutter_data)\n",
    "if flutter_data_json['nbHits']>0:\n",
    "    df = json_normalize(flutter_data_json['hits'])\n",
    "    df = df.rename(index=str, columns={\"created_at_i\":\"time\", \"comment_text\":\"text\", \"story_id\":\"id\", \"parent_id\":\"parent\"})\n",
    "    df = df[['time', 'text', 'id', 'parent']]\n",
    "    df = df.sort_values('time')\n",
    "    df.to_sql(\"HackerNews_flutter\",conn, if_exists='append', index = False)\n",
    "df = None    \n"
   ]
  },
  {
   "cell_type": "code",
   "execution_count": 5,
   "metadata": {},
   "outputs": [],
   "source": [
    "#get the data from the web api and load the resulting json into python\n",
    "cur.execute(\"SELECT max(created_utc) FROM Reddit_xamarin\")\n",
    "last_timestamp = cur.fetchall()[0][0]\n",
    "\n",
    "xamarin_url = \"https://api.pushshift.io/reddit/search/comment/?q=xamarin&after={}&sort=asc&sort_type=created_utc&limit=5000\".format(last_timestamp)\n",
    "xamarin_file = urllib.urlopen(xamarin_url)\n",
    "xamarin_data = xamarin_file.read()\n",
    "xamarin_data_json = json.loads(xamarin_data)\n",
    "if xamarin_data_json['data']:\n",
    "    df = json_normalize(xamarin_data_json['data'])\n",
    "    df = df[['created_utc', 'body', 'subreddit_id', 'link_id', 'parent_id','score', 'id', 'subreddit']]\n",
    "    df.to_sql(\"Reddit_xamarin\",conn, if_exists='append', index = False)\n",
    "df = None"
   ]
  },
  {
   "cell_type": "code",
   "execution_count": 6,
   "metadata": {},
   "outputs": [],
   "source": [
    "cur.execute(\"SELECT max(created_utc) FROM Reddit_react_native\")\n",
    "last_timestamp = cur.fetchall()[0][0]\n",
    "\n",
    "react_native_url = \"https://api.pushshift.io/reddit/search/comment/?q=react%20native&after={}&sort=asc&sort_type=created_utc&limit=5000\".format(last_timestamp)\n",
    "react_native_file = urllib.urlopen(react_native_url)\n",
    "react_native_data = react_native_file.read()\n",
    "react_native_data_json = json.loads(react_native_data)\n",
    "if react_native_data_json['data']:\n",
    "    df = json_normalize(react_native_data_json['data'])\n",
    "    df = df[['created_utc', 'body', 'subreddit_id', 'link_id', 'parent_id','score', 'id', 'subreddit']]\n",
    "    df.to_sql(\"Reddit_react_native\",conn, if_exists='append', index = False)\n",
    "df = None"
   ]
  },
  {
   "cell_type": "code",
   "execution_count": 7,
   "metadata": {},
   "outputs": [],
   "source": [
    "cur.execute(\"SELECT max(created_utc) FROM Reddit_flutter\")\n",
    "last_timestamp = cur.fetchall()[0][0]\n",
    "\n",
    "flutter_url = \"https://api.pushshift.io/reddit/search/comment/?q=flutter&after={}&sort=asc&sort_type=created_utc&limit=10000\".format(last_timestamp)\n",
    "flutter_file = urllib.urlopen(flutter_url)\n",
    "flutter_data = flutter_file.read()\n",
    "flutter_data_json = json.loads(flutter_data)\n",
    "if flutter_data_json['data']:\n",
    "    df = json_normalize(flutter_data_json['data'])\n",
    "    df = df[['created_utc', 'body', 'subreddit_id', 'link_id', 'parent_id','score', 'id', 'subreddit']]\n",
    "    df.to_sql(\"Reddit_flutter\",conn, if_exists='append', index = False)\n",
    "df = None"
   ]
  },
  {
   "cell_type": "code",
   "execution_count": 8,
   "metadata": {},
   "outputs": [],
   "source": [
    "conn.commit()\n",
    "conn.close()"
   ]
  },
  {
   "cell_type": "code",
   "execution_count": null,
   "metadata": {},
   "outputs": [],
   "source": []
  },
  {
   "cell_type": "code",
   "execution_count": null,
   "metadata": {},
   "outputs": [],
   "source": []
  }
 ],
 "metadata": {
  "kernelspec": {
   "display_name": "Python 2",
   "language": "python",
   "name": "python2"
  },
  "language_info": {
   "codemirror_mode": {
    "name": "ipython",
    "version": 2
   },
   "file_extension": ".py",
   "mimetype": "text/x-python",
   "name": "python",
   "nbconvert_exporter": "python",
   "pygments_lexer": "ipython2",
   "version": "2.7.12"
  }
 },
 "nbformat": 4,
 "nbformat_minor": 2
}
