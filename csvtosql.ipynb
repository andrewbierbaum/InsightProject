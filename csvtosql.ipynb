{
 "cells": [
  {
   "cell_type": "code",
   "execution_count": null,
   "metadata": {},
   "outputs": [],
   "source": [
    "\n",
    "import sqlite3\n",
    "import pandas\n",
    "\n",
    "conn = sqlite3.connect('TechGraph.db')\n",
    "cur = conn.cursor()\n",
    "\n",
    "conn.text_factory = str\n",
    "\n",
    "\n",
    "\n",
    "\n",
    "\n",
    "cur.execute(\"SELECT text FROM HackerNews_xamarin WHERE text LIKE '%react native%'\")\n",
    "cur.fetchall()\n",
    "\n",
    "df = pandas.read_csv(\"HackerNews_xamarin.csv\")\n",
    "df.to_sql('HackerNews_xamarin', conn, index = False)\n",
    "df = None\n",
    "\n",
    "df = pandas.read_csv(\"HackerNews_react_native.csv\")\n",
    "df.to_sql('HackerNews_react_native', conn, index = False)\n",
    "df = None\n",
    "\n",
    "df = pandas.read_csv(\"HackerNews_flutter.csv\")\n",
    "df.to_sql('HackerNews_flutter', conn, index = False)\n",
    "df = None\n",
    "\n",
    "df = pandas.read_csv(\"Reddit_xamarin.csv\")\n",
    "df.to_sql('Reddit_xamarin', conn, index = False)\n",
    "df = None\n",
    "\n",
    "df = pandas.read_csv(\"Reddit_react_native.csv\")\n",
    "df.to_sql('Reddit_react_native', conn, index = False)\n",
    "df = None\n",
    "\n",
    "df = pandas.read_csv(\"Reddit_flutter.csv\")\n",
    "df.to_sql('Reddit_flutter', conn, index = False)\n",
    "df = None\n",
    "\n",
    "\n",
    "cur.execute(\"SELECT body FROM Reddit_flutter WHERE body LIKE '%xamarin%&%react native%'\")\n",
    "cur.fetchall()\n",
    "\n",
    "conn.commit()\n",
    "conn.close()"
   ]
  },
  {
   "cell_type": "code",
   "execution_count": null,
   "metadata": {},
   "outputs": [],
   "source": []
  }
 ],
 "metadata": {
  "kernelspec": {
   "display_name": "Python 2",
   "language": "python",
   "name": "python2"
  },
  "language_info": {
   "codemirror_mode": {
    "name": "ipython",
    "version": 2
   },
   "file_extension": ".py",
   "mimetype": "text/x-python",
   "name": "python",
   "nbconvert_exporter": "python",
   "pygments_lexer": "ipython2",
   "version": "2.7.12"
  }
 },
 "nbformat": 4,
 "nbformat_minor": 2
}
