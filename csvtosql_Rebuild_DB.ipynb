{
 "cells": [
  {
   "cell_type": "code",
   "execution_count": 1,
   "metadata": {},
   "outputs": [
    {
     "name": "stderr",
     "output_type": "stream",
     "text": [
      "/home/ubuntu/.local/lib/python2.7/site-packages/IPython/core/interactiveshell.py:2714: DtypeWarning: Columns (1,2,3) have mixed types. Specify dtype option on import or set low_memory=False.\n",
      "  interactivity=interactivity, compiler=compiler, result=result)\n"
     ]
    }
   ],
   "source": [
    "import sqlite3\n",
    "import pandas\n",
    "import s3fs\n",
    "\n",
    "conn = sqlite3.connect('TechGraph.db')\n",
    "cur = conn.cursor()\n",
    "\n",
    "conn.text_factory = str\n",
    "\n",
    "# df = pandas.read_csv(\"HackerNews_xamarin.csv\")\n",
    "# df.to_sql('HackerNews_xamarin', conn)\n",
    "# df = None\n",
    "\n",
    "# df = pandas.read_csv(\"HackerNews_react_native.csv\")\n",
    "# df.to_sql('HackerNews_react_native', conn)\n",
    "# df = None\n",
    "\n",
    "# df = pandas.read_csv(\"HackerNews_flutter.csv\")\n",
    "# df.to_sql('HackerNews_flutter', conn)\n",
    "# df = None\n",
    "\n",
    "df = pandas.read_csv(\"s3a://andrew-bierbaum-insight-test-dataset/Reddit_case_fix/Reddit_case_fixed_xamarin000000000000.csv.gzip\",compression='gzip')\n",
    "df = df[['created_utc', 'body', 'subreddit_id', 'link_id', 'parent_id','score', 'id', 'subreddit']]\n",
    "df.to_sql('Reddit_xamarin', conn, if_exists='replace')\n",
    "df = None\n",
    "\n",
    "df = pandas.read_csv(\"s3a://andrew-bierbaum-insight-test-dataset/Reddit_case_fix/Reddit_case_fixed_react_native000000000000.csv.gzip\",compression='gzip')\n",
    "df = df[['created_utc', 'body', 'subreddit_id', 'link_id', 'parent_id','score', 'id', 'subreddit']]\n",
    "df.to_sql('Reddit_react_native', conn, if_exists='replace')\n",
    "df = None\n",
    "\n",
    "df = pandas.read_csv(\"s3a://andrew-bierbaum-insight-test-dataset/Reddit_case_fix/Reddit_case_fixed_flutter000000000000.csv.gzip\",compression='gzip')\n",
    "df = df[['created_utc', 'body', 'subreddit_id', 'link_id', 'parent_id','score', 'id', 'subreddit']]\n",
    "df.to_sql('Reddit_flutter', conn, if_exists='replace')\n",
    "df = None\n",
    "\n",
    "\n",
    "# cur.execute(\"SELECT body FROM Reddit_flutter WHERE body LIKE '%xamarin%&%react native%'\")\n",
    "# cur.fetchall()\n",
    "\n",
    "conn.commit()\n",
    "conn.close()"
   ]
  },
  {
   "cell_type": "code",
   "execution_count": null,
   "metadata": {},
   "outputs": [],
   "source": []
  },
  {
   "cell_type": "code",
   "execution_count": null,
   "metadata": {},
   "outputs": [],
   "source": []
  }
 ],
 "metadata": {
  "kernelspec": {
   "display_name": "Python 2",
   "language": "python",
   "name": "python2"
  },
  "language_info": {
   "codemirror_mode": {
    "name": "ipython",
    "version": 2
   },
   "file_extension": ".py",
   "mimetype": "text/x-python",
   "name": "python",
   "nbconvert_exporter": "python",
   "pygments_lexer": "ipython2",
   "version": "2.7.12"
  }
 },
 "nbformat": 4,
 "nbformat_minor": 2
}
