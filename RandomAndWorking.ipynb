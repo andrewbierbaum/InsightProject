{
 "cells": [
  {
   "cell_type": "code",
   "execution_count": 3,
   "metadata": {},
   "outputs": [
    {
     "data": {
      "text/html": [
       "<div>\n",
       "<style scoped>\n",
       "    .dataframe tbody tr th:only-of-type {\n",
       "        vertical-align: middle;\n",
       "    }\n",
       "\n",
       "    .dataframe tbody tr th {\n",
       "        vertical-align: top;\n",
       "    }\n",
       "\n",
       "    .dataframe thead th {\n",
       "        text-align: right;\n",
       "    }\n",
       "</style>\n",
       "<table border=\"1\" class=\"dataframe\">\n",
       "  <thead>\n",
       "    <tr style=\"text-align: right;\">\n",
       "      <th></th>\n",
       "      <th>created_utc</th>\n",
       "    </tr>\n",
       "  </thead>\n",
       "  <tbody>\n",
       "    <tr>\n",
       "      <th>0</th>\n",
       "      <td>1305578972</td>\n",
       "    </tr>\n",
       "  </tbody>\n",
       "</table>\n",
       "</div>"
      ],
      "text/plain": [
       "   created_utc\n",
       "0   1305578972"
      ]
     },
     "execution_count": 3,
     "metadata": {},
     "output_type": "execute_result"
    }
   ],
   "source": [
    "import dash\n",
    "import dash_core_components as dcc\n",
    "import dash_html_components as html\n",
    "import csv\n",
    "import pandas\n",
    "from datetime import datetime\n",
    "import numpy\n",
    "import sqlite3\n",
    "\n",
    "conn = sqlite3.connect('TechGraph.db')\n",
    "cur = conn.cursor()\n",
    "\n",
    "df = pandas.read_sql(\"SELECT created_utc FROM Reddit_xamarin LIMIT 1\", conn)\n",
    "df\n",
    "# df = pandas.read_sql(\"SELECT *, count(subreddit) as count FROM Reddit_flutter GROUP BY subreddit ORDER BY count DESC LIMIT 100\", conn)\n",
    "# df\n",
    "\n",
    "# df = pandas.read_sql(\"SELECT body, subreddit, count(subreddit) as count FROM Reddit_flutter GROUP BY subreddit ORDER BY count DESC LIMIT 100\", conn)\n",
    "# df\n",
    "\n",
    "\n",
    "# cur.execute(\"SELECT body FROM Reddit_flutter WHERE body LIKE '%xamarin%&%react native%'\")\n",
    "# cur.fetchall()\n",
    "\n",
    "\n",
    "\n"
   ]
  },
  {
   "cell_type": "code",
   "execution_count": null,
   "metadata": {},
   "outputs": [],
   "source": [
    "# cur.execute(\"DELETE FROM Reddit_flutter WHERE subreddit LIKE '|'\")\n",
    "\n",
    "\n",
    "\n"
   ]
  },
  {
   "cell_type": "code",
   "execution_count": 15,
   "metadata": {},
   "outputs": [],
   "source": [
    "conn.commit()\n",
    "conn.close()\n",
    "\n",
    "\n",
    "# FlutterDev,1885\n",
    "# androiddev,816\n",
    "# programming,483\n",
    "# Android,248\n",
    "# techsupport,205\n",
    "# dartlang,162\n",
    "# technology,157\n",
    "# reactnative,114\n",
    "# Flutter,112\n",
    "# ProgrammerHumor,67\n",
    "# xamarindevelopers,12\n",
    "# Xamarin,3\n",
    "\n",
    "# didn't include\n",
    "# engineering,107\n",
    "# AskEngineers,87\n",
    "\n",
    "# conn.execute(\"DELETE FROM Reddit_flutter WHERE subreddit NOT IN ('FlutterDev','androiddev','programming','Android','techsupport','dartlang','technology','reactnative','Flutter','ProgrammerHumor','xamarindevelopers','Xamarin')\")\n",
    "# df = pandas.read_sql(\"SELECT body, subreddit, count(subreddit) as count FROM Reddit_flutter GROUP BY subreddit ORDER BY count DESC LIMIT 100\", conn)\n",
    "# df"
   ]
  },
  {
   "cell_type": "code",
   "execution_count": 3,
   "metadata": {},
   "outputs": [],
   "source": [
    "import csv\n",
    "import pandas\n",
    "from datetime import datetime\n",
    "import numpy\n",
    "import sqlite3\n",
    "\n",
    "conn = sqlite3.connect('TechGraph.db')\n",
    "cur = conn.cursor()\n",
    "df = pandas.read_sql(\"SELECT * FROM Reddit_xamarin LIMIT 1\", conn, columns = list)\n",
    "df\n",
    "conn.close()"
   ]
  },
  {
   "cell_type": "code",
   "execution_count": 2,
   "metadata": {},
   "outputs": [],
   "source": [
    "conn.close()"
   ]
  },
  {
   "cell_type": "code",
   "execution_count": 3,
   "metadata": {},
   "outputs": [
    {
     "ename": "SyntaxError",
     "evalue": "invalid syntax (<ipython-input-3-f1e6298d35e6>, line 6)",
     "output_type": "error",
     "traceback": [
      "\u001b[0;36m  File \u001b[0;32m\"<ipython-input-3-f1e6298d35e6>\"\u001b[0;36m, line \u001b[0;32m6\u001b[0m\n\u001b[0;31m    data=Scatter([('x':X,\u001b[0m\n\u001b[0m                      ^\u001b[0m\n\u001b[0;31mSyntaxError\u001b[0m\u001b[0;31m:\u001b[0m invalid syntax\n"
     ]
    }
   ],
   "source": [
    "import plotly.plotly as py\n",
    "from plotly.graph_objs import *\n",
    "X=[2, 3.154, 4]\n",
    "Y=[5.07, 1,  3]\n",
    "text=['a very long long text: '+'('+'{:.3f}'.format(X[k])+', '+'{:.3f}'.format(Y[k])+')' for k in range(len(X))]\n",
    "data=Data([\n",
    "      Scatter(x=X, \n",
    "                  y=Y, \n",
    "                 mode='markers', \n",
    "                 marker=dict(size=8), \n",
    "                 name='',\n",
    "                 text=text, \n",
    "                hoverinfo='text')])\n",
    "layout=Layout(width=600, \n",
    "                       height=600, \n",
    "                       showlegend=False,\n",
    "                       hovermode='closest')\n",
    "fig=Figure(data=data, layout=layout)"
   ]
  },
  {
   "cell_type": "code",
   "execution_count": null,
   "metadata": {},
   "outputs": [],
   "source": []
  }
 ],
 "metadata": {
  "kernelspec": {
   "display_name": "Python 2",
   "language": "python",
   "name": "python2"
  },
  "language_info": {
   "codemirror_mode": {
    "name": "ipython",
    "version": 2
   },
   "file_extension": ".py",
   "mimetype": "text/x-python",
   "name": "python",
   "nbconvert_exporter": "python",
   "pygments_lexer": "ipython2",
   "version": "2.7.12"
  }
 },
 "nbformat": 4,
 "nbformat_minor": 2
}
